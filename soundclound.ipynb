{
 "cells": [
  {
   "cell_type": "code",
   "execution_count": 1,
   "id": "1233938f",
   "metadata": {},
   "outputs": [],
   "source": [
    "import json\n",
    "import requests\n",
    "from selenium import webdriver\n",
    "from bs4 import BeautifulSoup\n",
    "import time\n",
    "from selenium.webdriver.support.ui import WebDriverWait\n",
    "from selenium.webdriver.support import expected_conditions as EC\n",
    "from selenium.webdriver.common.by import By\n",
    "from selenium.common.exceptions import TimeoutException\n",
    "import pandas as pd\n",
    "from selenium.webdriver.common.by import By"
   ]
  },
  {
   "cell_type": "code",
   "execution_count": 2,
   "id": "32e4ddd1",
   "metadata": {},
   "outputs": [],
   "source": [
    "# wait\n",
    "def wait(driver, selector_name):\n",
    "    while (True):\n",
    "        try:\n",
    "            myElem = WebDriverWait(driver, 30).until(EC.presence_of_element_located((By.CLASS_NAME, selector_name)))\n",
    "            if myElem is not None:\n",
    "                break\n",
    "        except TimeoutException:\n",
    "            break"
   ]
  },
  {
   "cell_type": "code",
   "execution_count": 3,
   "id": "d6fc9b70",
   "metadata": {},
   "outputs": [],
   "source": [
    "# scroll\n",
    "def scroll(driver):\n",
    "    # Get scroll height\n",
    "    last_height = driver.execute_script(\"return document.body.scrollHeight\")\n",
    "\n",
    "    while True:\n",
    "        # Scroll down to bottom\n",
    "        driver.execute_script(\"window.scrollTo(0, document.body.scrollHeight);\")\n",
    "\n",
    "        # Wait to load page\n",
    "        time.sleep(2)\n",
    "\n",
    "        # Calculate new scroll height and compare with last scroll height\n",
    "        new_height = driver.execute_script(\"return document.body.scrollHeight\")\n",
    "        if new_height == last_height:\n",
    "            break\n",
    "        last_height = new_height"
   ]
  },
  {
   "cell_type": "code",
   "execution_count": 4,
   "id": "18aad66a",
   "metadata": {},
   "outputs": [],
   "source": [
    "my_url = \"https://soundcloud.com/discover\""
   ]
  },
  {
   "cell_type": "code",
   "execution_count": 5,
   "id": "ef03841c",
   "metadata": {},
   "outputs": [],
   "source": [
    "driver = webdriver.Chrome()\n",
    "driver.get(my_url)\n",
    "html = driver.page_source\n",
    "soup = BeautifulSoup(html, \"html.parser\")\n",
    "client_id = soup.find(\"div\", {\"id\": \"g_id_intermediate_iframe\"}).get(\"data-src\")\n",
    "client_id = ((client_id.split('?')[1]).split('&')[0]).split('=')[1]"
   ]
  },
  {
   "cell_type": "code",
   "execution_count": 6,
   "id": "13932a2c",
   "metadata": {},
   "outputs": [
    {
     "data": {
      "text/plain": [
       "'FjnXkiGFvyaVIYtXadMm9pqIDawoxzUW'"
      ]
     },
     "execution_count": 6,
     "metadata": {},
     "output_type": "execute_result"
    }
   ],
   "source": [
    "client_id"
   ]
  },
  {
   "cell_type": "code",
   "execution_count": 7,
   "id": "b03a5714",
   "metadata": {},
   "outputs": [],
   "source": [
    "set_link = []"
   ]
  },
  {
   "cell_type": "code",
   "execution_count": 10,
   "id": "deb472b3",
   "metadata": {},
   "outputs": [],
   "source": [
    "driver = webdriver.Chrome()\n",
    "driver.get(my_url)\n",
    "html = driver.page_source\n",
    "soup = BeautifulSoup(html, \"html.parser\")\n",
    "link = soup.find_all(\"a\", {\n",
    "    \"class\": \"sc-link-secondary sc-link-light playableTile__usernameHeading audibleTile__usernameHeading sc-truncate sc-text-h4\"})\n",
    "\n",
    "for item in link:\n",
    "    user_url = \"https://soundcloud.com\" + item.get(\"href\")\n",
    "    if user_url not in set_link:\n",
    "        set_link.append(user_url)\n",
    "\n",
    "for user_url in set_link:\n",
    "    if len(set_link) > 25:\n",
    "        break;\n",
    "    driver.get(user_url)\n",
    "    wait(driver, 'profileHeaderInfo__userName')\n",
    "    \n",
    "    html = driver.page_source\n",
    "    soup = BeautifulSoup(html, \"html.parser\")\n",
    "    user_name = soup.find(\"h2\", {\"class\": \"profileHeaderInfo__userName\"})\n",
    "\n",
    "    # Get followers\n",
    "    follower_url = user_url + \"/following\"\n",
    "    driver.get(follower_url)\n",
    "\n",
    "    #Wait\n",
    "    scroll(driver)\n",
    "\n",
    "    html = driver.page_source\n",
    "    soup = BeautifulSoup(html, \"html.parser\")\n",
    "    followers = soup.find_all(\"a\", {\"class\": \"userBadgeListItem__heading\"})\n",
    "    for follower in followers:\n",
    "        if follower not in set_link:\n",
    "            set_link.append(\"https://soundcloud.com\" + follower.get(\"href\"))"
   ]
  },
  {
   "cell_type": "code",
   "execution_count": 12,
   "id": "48f88e50",
   "metadata": {},
   "outputs": [
    {
     "data": {
      "text/plain": [
       "38"
      ]
     },
     "execution_count": 12,
     "metadata": {},
     "output_type": "execute_result"
    }
   ],
   "source": [
    "len(set_link)"
   ]
  },
  {
   "cell_type": "code",
   "execution_count": 13,
   "id": "ccae732e",
   "metadata": {},
   "outputs": [],
   "source": [
    "def get_all_user_data(set_link):\n",
    "    #Get user id in SoundCloud/Discover by get meta tag in HEAD html\n",
    "    set_data_user = []\n",
    "    for link_user in set_link:\n",
    "        driver = webdriver.Chrome()\n",
    "        driver.get(link_user)\n",
    "        html = driver.page_source\n",
    "        soup = BeautifulSoup(html, \"html.parser\")\n",
    "        #Get user id & user name & user url\n",
    "        id_user = soup.find(\"meta\", property=\"twitter:app:url:googleplay\")\n",
    "        set_data_user.append(id_user[\"content\"].strip(\"soundcloud://users:\"))\n",
    "\n",
    "    return set_data_user"
   ]
  },
  {
   "cell_type": "code",
   "execution_count": 14,
   "id": "1043c497",
   "metadata": {},
   "outputs": [],
   "source": [
    "set_user = get_all_user_data(set_link)"
   ]
  },
  {
   "cell_type": "code",
   "execution_count": 16,
   "id": "d5d61b6a",
   "metadata": {},
   "outputs": [
    {
     "data": {
      "text/plain": [
       "38"
      ]
     },
     "execution_count": 16,
     "metadata": {},
     "output_type": "execute_result"
    }
   ],
   "source": [
    "len(set_user)"
   ]
  },
  {
   "cell_type": "code",
   "execution_count": 17,
   "id": "58ab7794",
   "metadata": {},
   "outputs": [],
   "source": [
    "#============ using API to get USER.csv =================\n",
    "#Get set_user API\n",
    "def get_user_by_API(client_id):\n",
    "    set_data_user = []\n",
    "    # Select first column of the dataframe as a series\n",
    "    for item in set_user:\n",
    "        one_data_user = []\n",
    "        user_id = item\n",
    "        api_url = f'https://api-v2.soundcloud.com/users/{user_id}?client_id={client_id}'\n",
    "        # get request\n",
    "        r = requests.get(api_url)\n",
    "        # check whether it get the url\n",
    "        # or if it got request, does it have a string \"incomplete_results\":true in the response it recieved?\n",
    "        while r.status_code != requests.codes.ok or '\"incomplete_results\":true' in r:\n",
    "            time.sleep(1)\n",
    "            r = requests.get(api_url)\n",
    "        #JSON processing\n",
    "        json_str = json.loads(r.text)\n",
    "        one_data_user.append(str(json_str['id']))\n",
    "        one_data_user.append(str(json_str['username']))\n",
    "        one_data_user.append(str(json_str['permalink_url']))\n",
    "        set_data_user.append(one_data_user)\n",
    "\n",
    "    return set_data_user"
   ]
  },
  {
   "cell_type": "code",
   "execution_count": 18,
   "id": "220fafdc",
   "metadata": {},
   "outputs": [
    {
     "data": {
      "text/plain": [
       "[['293713798', 'eevee', 'https://soundcloud.com/user-692461400'],\n",
       " ['6983206', 'Mah', 'https://soundcloud.com/mzn665'],\n",
       " ['150205120', 'lolovvveee2', 'https://soundcloud.com/lolollov2'],\n",
       " ['17971787', 'Agamidae', 'https://soundcloud.com/agamidae'],\n",
       " ['193531220', 'MugaTunes', 'https://soundcloud.com/mugatunesofficial'],\n",
       " ['2182746', 'Mighty', 'https://soundcloud.com/mightyj-1'],\n",
       " ['214279944', 'Ilyana Azman', 'https://soundcloud.com/ilyanaazman'],\n",
       " ['283347384', 'soo', 'https://soundcloud.com/yourparadis'],\n",
       " ['81561939', 'J e z i k a ♡', 'https://soundcloud.com/its-jezika-bruh'],\n",
       " ['2448383', 'Josh Kunze', 'https://soundcloud.com/kunze50'],\n",
       " ['119544823',\n",
       "  'Khushpreet Singh',\n",
       "  'https://soundcloud.com/khushpreet-singh-6'],\n",
       " ['454283658', 'Playlists Daily', 'https://soundcloud.com/partyplaylists69'],\n",
       " ['133467077',\n",
       "  'Westcoast Radio (EDM)',\n",
       "  'https://soundcloud.com/digitalstreams'],\n",
       " ['79816260', 'Austin24heck', 'https://soundcloud.com/austin24heck'],\n",
       " ['196864989', 'Billie Kihega', 'https://soundcloud.com/billie-kihega'],\n",
       " ['23924438', 'ReHàß ♪♪', 'https://soundcloud.com/rehab-mohammed'],\n",
       " ['42182055', 'Egemannen', 'https://soundcloud.com/egemannen'],\n",
       " ['11140254', 'Jean Claude 5', 'https://soundcloud.com/jean-claude-4'],\n",
       " ['180441394', 'Indiemono', 'https://soundcloud.com/user-961145082'],\n",
       " ['134952910', 'Kyler Smith1', 'https://soundcloud.com/kyler-smith1'],\n",
       " ['76445627', 'Rehan Khan 55', 'https://soundcloud.com/rehan-khan-55'],\n",
       " ['31524382', 'REZZ', 'https://soundcloud.com/official-rezz'],\n",
       " ['109435820', 'Windows96', 'https://soundcloud.com/windows96'],\n",
       " ['999442126', 'CANICULE', 'https://soundcloud.com/user-359081780'],\n",
       " ['499975278', 'JazzyHan', 'https://soundcloud.com/jazzyhan'],\n",
       " ['4013454', 'Lebanon Hanover', 'https://soundcloud.com/lebanon-hanover'],\n",
       " ['4508558', 'TEMPERS', 'https://soundcloud.com/tempersmusic'],\n",
       " ['29878682', 'In a Lonely Place', 'https://soundcloud.com/in-a-lonely-place'],\n",
       " ['72621167', 'FOREVER GREY', 'https://soundcloud.com/forevergreyband'],\n",
       " ['876621073', 'mellow fox', 'https://soundcloud.com/mellow-fox'],\n",
       " ['364557293', 'wercso', 'https://soundcloud.com/satmq4lvcw4b'],\n",
       " ['618089253', '𝙴𝚎𝚢𝚘𝚛𝚎', 'https://soundcloud.com/eeyore_beats'],\n",
       " ['171369627', 'RetroJapan', 'https://soundcloud.com/retrojapan'],\n",
       " ['249666686', 'Nürnberg', 'https://soundcloud.com/nurnbergminsk'],\n",
       " ['715221682', 'Coffy', 'https://soundcloud.com/coffymusic'],\n",
       " ['334354252', 'J E N', 'https://soundcloud.com/chill-jen'],\n",
       " ['113378264', 'MVDE', 'https://soundcloud.com/mvde1'],\n",
       " ['11719870', 'SARAM1SARAM', 'https://soundcloud.com/saram12saram']]"
      ]
     },
     "execution_count": 18,
     "metadata": {},
     "output_type": "execute_result"
    }
   ],
   "source": [
    "get_user_by_API(client_id)"
   ]
  },
  {
   "cell_type": "code",
   "execution_count": 20,
   "id": "b9a8db6f",
   "metadata": {},
   "outputs": [],
   "source": [
    "def getTracksAPI(set_user, client_id, limit=100):\n",
    "    set_tracks = set()\n",
    "    temp1 = 'https://api-v2.soundcloud.com/users/'\n",
    "    temp2 = f'/tracks?client_id={client_id}&limit={limit}'\n",
    "\n",
    "    for item in set_user:\n",
    "        string_tracks = ''\n",
    "        api = temp1 + item + temp2\n",
    "        while True:\n",
    "            r = requests.get(api)\n",
    "            if r.status_code != 200:\n",
    "                time.sleep(5.0)\n",
    "            else:\n",
    "                break\n",
    "        for temp in r.json()['collection']:\n",
    "            string_tracks = string_tracks + str(temp['id']) + ','\n",
    "        tup = (item, string_tracks)\n",
    "        set_tracks.add(tup)\n",
    "    return set_tracks"
   ]
  },
  {
   "cell_type": "code",
   "execution_count": 21,
   "id": "c38318f2",
   "metadata": {},
   "outputs": [
    {
     "data": {
      "text/plain": [
       "{('1', ''),\n",
       " ('1',\n",
       "  '1035426364,1019999464,1017017875,994037122,911828809,907898896,903691249,831255739,825963814,623749281,612714387,611845218,594769962,483414039,471282132,363580073,353506475,347813702,344333772,332746526,332158279,319953335,316645648,315476469,313942963,313325317,310577244,305991908,304832401,304703680,303763719,298254464,297132472,295918712,271283998,253335407,225595558,222430653,220314818,218366427,216779504,214226516,191948995,191185189,190597571,169471267,'),\n",
       " ('1',\n",
       "  '1060279630,1060274989,1060270390,237010350,235069910,235069919,235069927,235069931,233458601,141514159,70921906,70914182,70913911,70913715,70913159,35772577,'),\n",
       " ('1', '1113783223,1113796495,1113792481,'),\n",
       " ('1',\n",
       "  '1138956514,1031540554,1026342412,989174902,966893845,938872219,921603301,914882944,891803494,866038042,856234912,843898141,805022032,796934149,788513644,783214762,776317807,768309526,761739898,756369826,746112265,736573639,726944263,703644604,698532229,643627437,616708656,615654291,598115259,594492222,571996638,557688849,547458447,522871608,517479918,449972067,402711018,'),\n",
       " ('1',\n",
       "  '1142472673,1126152250,1093527652,1093524088,911832976,911834545,911827042,911836105,911828332,911836909,911830777,911830027,911831386,911832166,864591535,864591529,864591517,864591505,848721265,848721259,848721232,848721211,848721184,848721169,813754681,764514712,549928842,549928869,549928893,549928911,549928929,549928953,549928986,549928992,549929001,549929013,549929031,494079843,439597062,423355206,423340017,409843524,405089199,405089169,405089220,405089232,405089268,405089247,405089274,405089286,405089313,405089334,405089352,405089382,405089421,405089442,405089460,405089472,360175379,347397516,341195500,340061737,338080136,338080336,338080340,330078958,330078950,328718381,327073612,325948341,323837951,322422552,315987077,288353633,288136953,283384200,277265575,277151064,263167293,246441927,242977392,'),\n",
       " ('1', '272884671,'),\n",
       " ('1',\n",
       "  '540248586,441769950,428270124,426703848,424782387,395969463,378792716,362132006,348891057,347644075,346575937,342791295,341041783,337862617,336123914,334463594,332542839,331094458,328716663,327009762,323793789,321437865,320977924,318669000,313908457,302384734,299539483,'),\n",
       " ('2', ''),\n",
       " ('2',\n",
       "  '271700796,227314412,175689058,175689057,175689055,175689054,175689053,111110809,93501558,93501557,93501556,93501555,79809870,76596859,'),\n",
       " ('2',\n",
       "  '333572267,281685823,278246783,273497116,269265172,260502921,250177745,235066286,229121617,208986576,200921377,196968606,141854847,141492161,'),\n",
       " ('2',\n",
       "  '985365031,803021803,803021794,803021776,803021749,803021737,803021725,803021716,803021707,803021680,803021659,774305377,676702698,525117642,525117630,525117612,525117597,525117561,525117543,525117522,525117495,459221427,379021145,379021136,379021127,379021115,379021109,336757983,336757981,'),\n",
       " ('3', ''),\n",
       " ('3',\n",
       "  '452977200,861880120,824061376,729608653,692824324,685185016,664615361,637463826,630197118,600100719,591779508,544901817,543577986,568196364,562139874,554697963,546491706,521316477,520378938,511283685,497713413,477499542,473188014,417293781,411336855,409796931,401621832,398760594,393865725,362107610,351230887,345214665,344005594,'),\n",
       " ('3',\n",
       "  '918205304,854929405,793091401,721760863,654858524,654858491,654858515,649811972,635510280,620139714,544068759,536522250,517587033,480207984,480207948,480207927,480207891,480207801,474104925,464628249,453608070,428396631,363534443,336194433,336194421,336194414,336194427,335181566,334128274,333126878,332099267,324555340,312921448,305933795,286524856,286524866,286524872,286365071,285215658,279996712,277914385,266202445,247460552,241803739,237865858,220832715,190993395,182342688,178485481,176779288,175682425,174604742,173962694,173452419,172198510,169915400,168898951,168453457,165350341,164650531,163203648,157258198,157258184,128576389,127042929,'),\n",
       " ('4', ''),\n",
       " ('4',\n",
       "  '1140298789,1134205813,1126431478,1121110417,1107408862,1076457151,1068892885,1064251714,1036437730,1019482684,1009755973,994273552,991935181,983168851,981970990,974272846,971185297,969193339,960880153,952726924,950007256,950006899,950006314,950003935,944087188,939089644,930695485,925246012,922439458,921396757,914700469,911684881,906340771,903332089,889059775,881682904,880430029,880059583,875715781,874377439,869656393,860701870,858225961,852503500,849459658,847197997,842271340,839488138,828975124,827599885,825783061,825105565,819469858,818043451,813784393,810224572,807478462,805107727,800647030,799184125,793770034,787438003,785376262,778175209,777542224,774151675,772269001,769385953,767448937,757710013,641326674,'),\n",
       " ('4', '55987903,19232684,13061911,13060953,13060655,13059771,'),\n",
       " ('4',\n",
       "  '880012942,869271652,725260741,725260660,725260399,725260300,725259898,725259655,725259529,725259646,725260252,725260240,299079113,751524304,751524250,751523674,751523569,751523230,751523152,751522633,751522516,751522438,751522297,226104312,'),\n",
       " ('6',\n",
       "  '1141855354,1128794305,1117108270,1105918078,1082654782,1056230797,1025500111,1015670179,971785084,971780053,971774278,945209014,937260634,921654340,910585861,901828600,893877625,885296887,872058865,861420934,853815445,848495365,831790237,815690575,777129103,749854858,704657419,603922032,'),\n",
       " ('6',\n",
       "  '353563529,306273879,244003079,232556373,232556087,231927217,202596544,195749201,194593240,194588184,194587838,194585279,194584850,194583684,194583462,194582587,194581803,194580813,148058924,131904387,111430163,87578152,86867841,78712379,76137280,'),\n",
       " ('7', ''),\n",
       " ('7',\n",
       "  '1134260725,1130312101,1126300732,899385001,775523572,716848690,709777783,694147168,'),\n",
       " ('7',\n",
       "  '689357431,689357440,689357509,689357521,232623371,232623206,232623074,232622878,232622735,'),\n",
       " ('8', ''),\n",
       " ('8',\n",
       "  '1022946349,1022946319,1022946286,1022946268,1022946235,1022946205,1022946169,1022946136,1022946115,1022946082,981636778,960933184,921475747,921475048,921473968,904169668,904167736,896695630,896690410,888336592,887142889,'),\n",
       " ('9',\n",
       "  '1072544164,1072541062,1072539577,1072537105,1072535437,1072533328,1072530826,')}"
      ]
     },
     "execution_count": 21,
     "metadata": {},
     "output_type": "execute_result"
    }
   ],
   "source": [
    "getTracksAPI(set_user, client_id)"
   ]
  },
  {
   "cell_type": "code",
   "execution_count": 22,
   "id": "3b59479c",
   "metadata": {},
   "outputs": [],
   "source": [
    "def getPlaylistsAPI(user_id, client_id, limit=100):\n",
    "    playlists = []\n",
    "    url = f'https://api-v2.soundcloud.com/users/{user_id}/playlists?client_id={client_id}&limit={limit}'\n",
    "    r = requests.get(url)\n",
    "\n",
    "    while r.status_code != requests.codes.ok or '\"incomplete_results\":true' in r:\n",
    "        time.sleep(1)\n",
    "        r = requests.get(url)\n",
    "\n",
    "    y = json.loads(r.text)\n",
    "    if len(y['collection']) == 0:\n",
    "        playlists.append([user_id, 'None', 'None'])\n",
    "    else:\n",
    "        for playlist in y['collection']:\n",
    "            trackIDs = []\n",
    "            for track in playlist['tracks']:\n",
    "                trackIDs.append(str(track['id']))\n",
    "            allTrackIDs = ','.join(trackIDs)\n",
    "            playlists.append([user_id, str(playlist['id']), allTrackIDs])\n",
    "\n",
    "    return playlists"
   ]
  },
  {
   "cell_type": "code",
   "execution_count": 23,
   "id": "e9b63479",
   "metadata": {},
   "outputs": [
    {
     "name": "stdout",
     "output_type": "stream",
     "text": [
      "wait\n",
      "wait\n",
      "wait\n",
      "wait\n",
      "wait\n",
      "wait\n",
      "wait\n",
      "wait\n",
      "wait\n",
      "wait\n",
      "wait\n",
      "wait\n",
      "wait\n",
      "wait\n"
     ]
    },
    {
     "ename": "KeyboardInterrupt",
     "evalue": "",
     "output_type": "error",
     "traceback": [
      "\u001b[1;31m---------------------------------------------------------------------------\u001b[0m",
      "\u001b[1;31mKeyboardInterrupt\u001b[0m                         Traceback (most recent call last)",
      "\u001b[1;32m~\\AppData\\Local\\Temp/ipykernel_12168/3218604310.py\u001b[0m in \u001b[0;36m<module>\u001b[1;34m\u001b[0m\n\u001b[1;32m----> 1\u001b[1;33m \u001b[0mplaylistsAPI\u001b[0m \u001b[1;33m=\u001b[0m \u001b[1;33m[\u001b[0m\u001b[0mgetPlaylistsAPI\u001b[0m\u001b[1;33m(\u001b[0m\u001b[0mx\u001b[0m\u001b[1;33m,\u001b[0m \u001b[0mclient_id\u001b[0m\u001b[1;33m)\u001b[0m \u001b[1;32mfor\u001b[0m \u001b[0mx\u001b[0m \u001b[1;32min\u001b[0m \u001b[0mset_user\u001b[0m\u001b[1;33m]\u001b[0m\u001b[1;33m\u001b[0m\u001b[1;33m\u001b[0m\u001b[0m\n\u001b[0m",
      "\u001b[1;32m~\\AppData\\Local\\Temp/ipykernel_12168/3218604310.py\u001b[0m in \u001b[0;36m<listcomp>\u001b[1;34m(.0)\u001b[0m\n\u001b[1;32m----> 1\u001b[1;33m \u001b[0mplaylistsAPI\u001b[0m \u001b[1;33m=\u001b[0m \u001b[1;33m[\u001b[0m\u001b[0mgetPlaylistsAPI\u001b[0m\u001b[1;33m(\u001b[0m\u001b[0mx\u001b[0m\u001b[1;33m,\u001b[0m \u001b[0mclient_id\u001b[0m\u001b[1;33m)\u001b[0m \u001b[1;32mfor\u001b[0m \u001b[0mx\u001b[0m \u001b[1;32min\u001b[0m \u001b[0mset_user\u001b[0m\u001b[1;33m]\u001b[0m\u001b[1;33m\u001b[0m\u001b[1;33m\u001b[0m\u001b[0m\n\u001b[0m",
      "\u001b[1;32m~\\AppData\\Local\\Temp/ipykernel_12168/3631585103.py\u001b[0m in \u001b[0;36mgetPlaylistsAPI\u001b[1;34m(user_id, client_id, limit)\u001b[0m\n\u001b[0;32m      2\u001b[0m     \u001b[0mplaylists\u001b[0m \u001b[1;33m=\u001b[0m \u001b[1;33m[\u001b[0m\u001b[1;33m]\u001b[0m\u001b[1;33m\u001b[0m\u001b[1;33m\u001b[0m\u001b[0m\n\u001b[0;32m      3\u001b[0m     \u001b[0murl\u001b[0m \u001b[1;33m=\u001b[0m \u001b[1;34mf'https://api-v2.soundcloud.com/users/{user_id}/playlists?client_id={client_id}&limit={limit}'\u001b[0m\u001b[1;33m\u001b[0m\u001b[1;33m\u001b[0m\u001b[0m\n\u001b[1;32m----> 4\u001b[1;33m     \u001b[0mr\u001b[0m \u001b[1;33m=\u001b[0m \u001b[0mrequests\u001b[0m\u001b[1;33m.\u001b[0m\u001b[0mget\u001b[0m\u001b[1;33m(\u001b[0m\u001b[0murl\u001b[0m\u001b[1;33m)\u001b[0m\u001b[1;33m\u001b[0m\u001b[1;33m\u001b[0m\u001b[0m\n\u001b[0m\u001b[0;32m      5\u001b[0m \u001b[1;33m\u001b[0m\u001b[0m\n\u001b[0;32m      6\u001b[0m     \u001b[1;32mwhile\u001b[0m \u001b[0mr\u001b[0m\u001b[1;33m.\u001b[0m\u001b[0mstatus_code\u001b[0m \u001b[1;33m!=\u001b[0m \u001b[0mrequests\u001b[0m\u001b[1;33m.\u001b[0m\u001b[0mcodes\u001b[0m\u001b[1;33m.\u001b[0m\u001b[0mok\u001b[0m \u001b[1;32mor\u001b[0m \u001b[1;34m'\"incomplete_results\":true'\u001b[0m \u001b[1;32min\u001b[0m \u001b[0mr\u001b[0m\u001b[1;33m:\u001b[0m\u001b[1;33m\u001b[0m\u001b[1;33m\u001b[0m\u001b[0m\n",
      "\u001b[1;32mc:\\users\\dell\\appdata\\local\\programs\\python\\python39\\lib\\site-packages\\requests\\api.py\u001b[0m in \u001b[0;36mget\u001b[1;34m(url, params, **kwargs)\u001b[0m\n\u001b[0;32m     74\u001b[0m \u001b[1;33m\u001b[0m\u001b[0m\n\u001b[0;32m     75\u001b[0m     \u001b[0mkwargs\u001b[0m\u001b[1;33m.\u001b[0m\u001b[0msetdefault\u001b[0m\u001b[1;33m(\u001b[0m\u001b[1;34m'allow_redirects'\u001b[0m\u001b[1;33m,\u001b[0m \u001b[1;32mTrue\u001b[0m\u001b[1;33m)\u001b[0m\u001b[1;33m\u001b[0m\u001b[1;33m\u001b[0m\u001b[0m\n\u001b[1;32m---> 76\u001b[1;33m     \u001b[1;32mreturn\u001b[0m \u001b[0mrequest\u001b[0m\u001b[1;33m(\u001b[0m\u001b[1;34m'get'\u001b[0m\u001b[1;33m,\u001b[0m \u001b[0murl\u001b[0m\u001b[1;33m,\u001b[0m \u001b[0mparams\u001b[0m\u001b[1;33m=\u001b[0m\u001b[0mparams\u001b[0m\u001b[1;33m,\u001b[0m \u001b[1;33m**\u001b[0m\u001b[0mkwargs\u001b[0m\u001b[1;33m)\u001b[0m\u001b[1;33m\u001b[0m\u001b[1;33m\u001b[0m\u001b[0m\n\u001b[0m\u001b[0;32m     77\u001b[0m \u001b[1;33m\u001b[0m\u001b[0m\n\u001b[0;32m     78\u001b[0m \u001b[1;33m\u001b[0m\u001b[0m\n",
      "\u001b[1;32mc:\\users\\dell\\appdata\\local\\programs\\python\\python39\\lib\\site-packages\\requests\\api.py\u001b[0m in \u001b[0;36mrequest\u001b[1;34m(method, url, **kwargs)\u001b[0m\n\u001b[0;32m     59\u001b[0m     \u001b[1;31m# cases, and look like a memory leak in others.\u001b[0m\u001b[1;33m\u001b[0m\u001b[1;33m\u001b[0m\u001b[1;33m\u001b[0m\u001b[0m\n\u001b[0;32m     60\u001b[0m     \u001b[1;32mwith\u001b[0m \u001b[0msessions\u001b[0m\u001b[1;33m.\u001b[0m\u001b[0mSession\u001b[0m\u001b[1;33m(\u001b[0m\u001b[1;33m)\u001b[0m \u001b[1;32mas\u001b[0m \u001b[0msession\u001b[0m\u001b[1;33m:\u001b[0m\u001b[1;33m\u001b[0m\u001b[1;33m\u001b[0m\u001b[0m\n\u001b[1;32m---> 61\u001b[1;33m         \u001b[1;32mreturn\u001b[0m \u001b[0msession\u001b[0m\u001b[1;33m.\u001b[0m\u001b[0mrequest\u001b[0m\u001b[1;33m(\u001b[0m\u001b[0mmethod\u001b[0m\u001b[1;33m=\u001b[0m\u001b[0mmethod\u001b[0m\u001b[1;33m,\u001b[0m \u001b[0murl\u001b[0m\u001b[1;33m=\u001b[0m\u001b[0murl\u001b[0m\u001b[1;33m,\u001b[0m \u001b[1;33m**\u001b[0m\u001b[0mkwargs\u001b[0m\u001b[1;33m)\u001b[0m\u001b[1;33m\u001b[0m\u001b[1;33m\u001b[0m\u001b[0m\n\u001b[0m\u001b[0;32m     62\u001b[0m \u001b[1;33m\u001b[0m\u001b[0m\n\u001b[0;32m     63\u001b[0m \u001b[1;33m\u001b[0m\u001b[0m\n",
      "\u001b[1;32mc:\\users\\dell\\appdata\\local\\programs\\python\\python39\\lib\\site-packages\\requests\\sessions.py\u001b[0m in \u001b[0;36mrequest\u001b[1;34m(self, method, url, params, data, headers, cookies, files, auth, timeout, allow_redirects, proxies, hooks, stream, verify, cert, json)\u001b[0m\n\u001b[0;32m    540\u001b[0m         }\n\u001b[0;32m    541\u001b[0m         \u001b[0msend_kwargs\u001b[0m\u001b[1;33m.\u001b[0m\u001b[0mupdate\u001b[0m\u001b[1;33m(\u001b[0m\u001b[0msettings\u001b[0m\u001b[1;33m)\u001b[0m\u001b[1;33m\u001b[0m\u001b[1;33m\u001b[0m\u001b[0m\n\u001b[1;32m--> 542\u001b[1;33m         \u001b[0mresp\u001b[0m \u001b[1;33m=\u001b[0m \u001b[0mself\u001b[0m\u001b[1;33m.\u001b[0m\u001b[0msend\u001b[0m\u001b[1;33m(\u001b[0m\u001b[0mprep\u001b[0m\u001b[1;33m,\u001b[0m \u001b[1;33m**\u001b[0m\u001b[0msend_kwargs\u001b[0m\u001b[1;33m)\u001b[0m\u001b[1;33m\u001b[0m\u001b[1;33m\u001b[0m\u001b[0m\n\u001b[0m\u001b[0;32m    543\u001b[0m \u001b[1;33m\u001b[0m\u001b[0m\n\u001b[0;32m    544\u001b[0m         \u001b[1;32mreturn\u001b[0m \u001b[0mresp\u001b[0m\u001b[1;33m\u001b[0m\u001b[1;33m\u001b[0m\u001b[0m\n",
      "\u001b[1;32mc:\\users\\dell\\appdata\\local\\programs\\python\\python39\\lib\\site-packages\\requests\\sessions.py\u001b[0m in \u001b[0;36msend\u001b[1;34m(self, request, **kwargs)\u001b[0m\n\u001b[0;32m    653\u001b[0m \u001b[1;33m\u001b[0m\u001b[0m\n\u001b[0;32m    654\u001b[0m         \u001b[1;31m# Send the request\u001b[0m\u001b[1;33m\u001b[0m\u001b[1;33m\u001b[0m\u001b[1;33m\u001b[0m\u001b[0m\n\u001b[1;32m--> 655\u001b[1;33m         \u001b[0mr\u001b[0m \u001b[1;33m=\u001b[0m \u001b[0madapter\u001b[0m\u001b[1;33m.\u001b[0m\u001b[0msend\u001b[0m\u001b[1;33m(\u001b[0m\u001b[0mrequest\u001b[0m\u001b[1;33m,\u001b[0m \u001b[1;33m**\u001b[0m\u001b[0mkwargs\u001b[0m\u001b[1;33m)\u001b[0m\u001b[1;33m\u001b[0m\u001b[1;33m\u001b[0m\u001b[0m\n\u001b[0m\u001b[0;32m    656\u001b[0m \u001b[1;33m\u001b[0m\u001b[0m\n\u001b[0;32m    657\u001b[0m         \u001b[1;31m# Total elapsed time of the request (approximately)\u001b[0m\u001b[1;33m\u001b[0m\u001b[1;33m\u001b[0m\u001b[1;33m\u001b[0m\u001b[0m\n",
      "\u001b[1;32mc:\\users\\dell\\appdata\\local\\programs\\python\\python39\\lib\\site-packages\\requests\\adapters.py\u001b[0m in \u001b[0;36msend\u001b[1;34m(self, request, stream, timeout, verify, cert, proxies)\u001b[0m\n\u001b[0;32m    437\u001b[0m         \u001b[1;32mtry\u001b[0m\u001b[1;33m:\u001b[0m\u001b[1;33m\u001b[0m\u001b[1;33m\u001b[0m\u001b[0m\n\u001b[0;32m    438\u001b[0m             \u001b[1;32mif\u001b[0m \u001b[1;32mnot\u001b[0m \u001b[0mchunked\u001b[0m\u001b[1;33m:\u001b[0m\u001b[1;33m\u001b[0m\u001b[1;33m\u001b[0m\u001b[0m\n\u001b[1;32m--> 439\u001b[1;33m                 resp = conn.urlopen(\n\u001b[0m\u001b[0;32m    440\u001b[0m                     \u001b[0mmethod\u001b[0m\u001b[1;33m=\u001b[0m\u001b[0mrequest\u001b[0m\u001b[1;33m.\u001b[0m\u001b[0mmethod\u001b[0m\u001b[1;33m,\u001b[0m\u001b[1;33m\u001b[0m\u001b[1;33m\u001b[0m\u001b[0m\n\u001b[0;32m    441\u001b[0m                     \u001b[0murl\u001b[0m\u001b[1;33m=\u001b[0m\u001b[0murl\u001b[0m\u001b[1;33m,\u001b[0m\u001b[1;33m\u001b[0m\u001b[1;33m\u001b[0m\u001b[0m\n",
      "\u001b[1;32mc:\\users\\dell\\appdata\\local\\programs\\python\\python39\\lib\\site-packages\\urllib3\\connectionpool.py\u001b[0m in \u001b[0;36murlopen\u001b[1;34m(self, method, url, body, headers, retries, redirect, assert_same_host, timeout, pool_timeout, release_conn, chunked, body_pos, **response_kw)\u001b[0m\n\u001b[0;32m    697\u001b[0m \u001b[1;33m\u001b[0m\u001b[0m\n\u001b[0;32m    698\u001b[0m             \u001b[1;31m# Make the request on the httplib connection object.\u001b[0m\u001b[1;33m\u001b[0m\u001b[1;33m\u001b[0m\u001b[1;33m\u001b[0m\u001b[0m\n\u001b[1;32m--> 699\u001b[1;33m             httplib_response = self._make_request(\n\u001b[0m\u001b[0;32m    700\u001b[0m                 \u001b[0mconn\u001b[0m\u001b[1;33m,\u001b[0m\u001b[1;33m\u001b[0m\u001b[1;33m\u001b[0m\u001b[0m\n\u001b[0;32m    701\u001b[0m                 \u001b[0mmethod\u001b[0m\u001b[1;33m,\u001b[0m\u001b[1;33m\u001b[0m\u001b[1;33m\u001b[0m\u001b[0m\n",
      "\u001b[1;32mc:\\users\\dell\\appdata\\local\\programs\\python\\python39\\lib\\site-packages\\urllib3\\connectionpool.py\u001b[0m in \u001b[0;36m_make_request\u001b[1;34m(self, conn, method, url, timeout, chunked, **httplib_request_kw)\u001b[0m\n\u001b[0;32m    380\u001b[0m         \u001b[1;31m# Trigger any extra validation we need to do.\u001b[0m\u001b[1;33m\u001b[0m\u001b[1;33m\u001b[0m\u001b[1;33m\u001b[0m\u001b[0m\n\u001b[0;32m    381\u001b[0m         \u001b[1;32mtry\u001b[0m\u001b[1;33m:\u001b[0m\u001b[1;33m\u001b[0m\u001b[1;33m\u001b[0m\u001b[0m\n\u001b[1;32m--> 382\u001b[1;33m             \u001b[0mself\u001b[0m\u001b[1;33m.\u001b[0m\u001b[0m_validate_conn\u001b[0m\u001b[1;33m(\u001b[0m\u001b[0mconn\u001b[0m\u001b[1;33m)\u001b[0m\u001b[1;33m\u001b[0m\u001b[1;33m\u001b[0m\u001b[0m\n\u001b[0m\u001b[0;32m    383\u001b[0m         \u001b[1;32mexcept\u001b[0m \u001b[1;33m(\u001b[0m\u001b[0mSocketTimeout\u001b[0m\u001b[1;33m,\u001b[0m \u001b[0mBaseSSLError\u001b[0m\u001b[1;33m)\u001b[0m \u001b[1;32mas\u001b[0m \u001b[0me\u001b[0m\u001b[1;33m:\u001b[0m\u001b[1;33m\u001b[0m\u001b[1;33m\u001b[0m\u001b[0m\n\u001b[0;32m    384\u001b[0m             \u001b[1;31m# Py2 raises this as a BaseSSLError, Py3 raises it as socket timeout.\u001b[0m\u001b[1;33m\u001b[0m\u001b[1;33m\u001b[0m\u001b[1;33m\u001b[0m\u001b[0m\n",
      "\u001b[1;32mc:\\users\\dell\\appdata\\local\\programs\\python\\python39\\lib\\site-packages\\urllib3\\connectionpool.py\u001b[0m in \u001b[0;36m_validate_conn\u001b[1;34m(self, conn)\u001b[0m\n\u001b[0;32m   1008\u001b[0m         \u001b[1;31m# Force connect early to allow us to validate the connection.\u001b[0m\u001b[1;33m\u001b[0m\u001b[1;33m\u001b[0m\u001b[1;33m\u001b[0m\u001b[0m\n\u001b[0;32m   1009\u001b[0m         \u001b[1;32mif\u001b[0m \u001b[1;32mnot\u001b[0m \u001b[0mgetattr\u001b[0m\u001b[1;33m(\u001b[0m\u001b[0mconn\u001b[0m\u001b[1;33m,\u001b[0m \u001b[1;34m\"sock\"\u001b[0m\u001b[1;33m,\u001b[0m \u001b[1;32mNone\u001b[0m\u001b[1;33m)\u001b[0m\u001b[1;33m:\u001b[0m  \u001b[1;31m# AppEngine might not have  `.sock`\u001b[0m\u001b[1;33m\u001b[0m\u001b[1;33m\u001b[0m\u001b[0m\n\u001b[1;32m-> 1010\u001b[1;33m             \u001b[0mconn\u001b[0m\u001b[1;33m.\u001b[0m\u001b[0mconnect\u001b[0m\u001b[1;33m(\u001b[0m\u001b[1;33m)\u001b[0m\u001b[1;33m\u001b[0m\u001b[1;33m\u001b[0m\u001b[0m\n\u001b[0m\u001b[0;32m   1011\u001b[0m \u001b[1;33m\u001b[0m\u001b[0m\n\u001b[0;32m   1012\u001b[0m         \u001b[1;32mif\u001b[0m \u001b[1;32mnot\u001b[0m \u001b[0mconn\u001b[0m\u001b[1;33m.\u001b[0m\u001b[0mis_verified\u001b[0m\u001b[1;33m:\u001b[0m\u001b[1;33m\u001b[0m\u001b[1;33m\u001b[0m\u001b[0m\n",
      "\u001b[1;32mc:\\users\\dell\\appdata\\local\\programs\\python\\python39\\lib\\site-packages\\urllib3\\connection.py\u001b[0m in \u001b[0;36mconnect\u001b[1;34m(self)\u001b[0m\n\u001b[0;32m    409\u001b[0m             \u001b[0mcontext\u001b[0m\u001b[1;33m.\u001b[0m\u001b[0mload_default_certs\u001b[0m\u001b[1;33m(\u001b[0m\u001b[1;33m)\u001b[0m\u001b[1;33m\u001b[0m\u001b[1;33m\u001b[0m\u001b[0m\n\u001b[0;32m    410\u001b[0m \u001b[1;33m\u001b[0m\u001b[0m\n\u001b[1;32m--> 411\u001b[1;33m         self.sock = ssl_wrap_socket(\n\u001b[0m\u001b[0;32m    412\u001b[0m             \u001b[0msock\u001b[0m\u001b[1;33m=\u001b[0m\u001b[0mconn\u001b[0m\u001b[1;33m,\u001b[0m\u001b[1;33m\u001b[0m\u001b[1;33m\u001b[0m\u001b[0m\n\u001b[0;32m    413\u001b[0m             \u001b[0mkeyfile\u001b[0m\u001b[1;33m=\u001b[0m\u001b[0mself\u001b[0m\u001b[1;33m.\u001b[0m\u001b[0mkey_file\u001b[0m\u001b[1;33m,\u001b[0m\u001b[1;33m\u001b[0m\u001b[1;33m\u001b[0m\u001b[0m\n",
      "\u001b[1;32mc:\\users\\dell\\appdata\\local\\programs\\python\\python39\\lib\\site-packages\\urllib3\\util\\ssl_.py\u001b[0m in \u001b[0;36mssl_wrap_socket\u001b[1;34m(sock, keyfile, certfile, cert_reqs, ca_certs, server_hostname, ssl_version, ciphers, ssl_context, ca_cert_dir, key_password, ca_cert_data, tls_in_tls)\u001b[0m\n\u001b[0;32m    426\u001b[0m \u001b[1;33m\u001b[0m\u001b[0m\n\u001b[0;32m    427\u001b[0m     \u001b[1;32mif\u001b[0m \u001b[0msend_sni\u001b[0m\u001b[1;33m:\u001b[0m\u001b[1;33m\u001b[0m\u001b[1;33m\u001b[0m\u001b[0m\n\u001b[1;32m--> 428\u001b[1;33m         ssl_sock = _ssl_wrap_socket_impl(\n\u001b[0m\u001b[0;32m    429\u001b[0m             \u001b[0msock\u001b[0m\u001b[1;33m,\u001b[0m \u001b[0mcontext\u001b[0m\u001b[1;33m,\u001b[0m \u001b[0mtls_in_tls\u001b[0m\u001b[1;33m,\u001b[0m \u001b[0mserver_hostname\u001b[0m\u001b[1;33m=\u001b[0m\u001b[0mserver_hostname\u001b[0m\u001b[1;33m\u001b[0m\u001b[1;33m\u001b[0m\u001b[0m\n\u001b[0;32m    430\u001b[0m         )\n",
      "\u001b[1;32mc:\\users\\dell\\appdata\\local\\programs\\python\\python39\\lib\\site-packages\\urllib3\\util\\ssl_.py\u001b[0m in \u001b[0;36m_ssl_wrap_socket_impl\u001b[1;34m(sock, ssl_context, tls_in_tls, server_hostname)\u001b[0m\n\u001b[0;32m    470\u001b[0m \u001b[1;33m\u001b[0m\u001b[0m\n\u001b[0;32m    471\u001b[0m     \u001b[1;32mif\u001b[0m \u001b[0mserver_hostname\u001b[0m\u001b[1;33m:\u001b[0m\u001b[1;33m\u001b[0m\u001b[1;33m\u001b[0m\u001b[0m\n\u001b[1;32m--> 472\u001b[1;33m         \u001b[1;32mreturn\u001b[0m \u001b[0mssl_context\u001b[0m\u001b[1;33m.\u001b[0m\u001b[0mwrap_socket\u001b[0m\u001b[1;33m(\u001b[0m\u001b[0msock\u001b[0m\u001b[1;33m,\u001b[0m \u001b[0mserver_hostname\u001b[0m\u001b[1;33m=\u001b[0m\u001b[0mserver_hostname\u001b[0m\u001b[1;33m)\u001b[0m\u001b[1;33m\u001b[0m\u001b[1;33m\u001b[0m\u001b[0m\n\u001b[0m\u001b[0;32m    473\u001b[0m     \u001b[1;32melse\u001b[0m\u001b[1;33m:\u001b[0m\u001b[1;33m\u001b[0m\u001b[1;33m\u001b[0m\u001b[0m\n\u001b[0;32m    474\u001b[0m         \u001b[1;32mreturn\u001b[0m \u001b[0mssl_context\u001b[0m\u001b[1;33m.\u001b[0m\u001b[0mwrap_socket\u001b[0m\u001b[1;33m(\u001b[0m\u001b[0msock\u001b[0m\u001b[1;33m)\u001b[0m\u001b[1;33m\u001b[0m\u001b[1;33m\u001b[0m\u001b[0m\n",
      "\u001b[1;32mc:\\users\\dell\\appdata\\local\\programs\\python\\python39\\lib\\ssl.py\u001b[0m in \u001b[0;36mwrap_socket\u001b[1;34m(self, sock, server_side, do_handshake_on_connect, suppress_ragged_eofs, server_hostname, session)\u001b[0m\n\u001b[0;32m    498\u001b[0m         \u001b[1;31m# SSLSocket class handles server_hostname encoding before it calls\u001b[0m\u001b[1;33m\u001b[0m\u001b[1;33m\u001b[0m\u001b[1;33m\u001b[0m\u001b[0m\n\u001b[0;32m    499\u001b[0m         \u001b[1;31m# ctx._wrap_socket()\u001b[0m\u001b[1;33m\u001b[0m\u001b[1;33m\u001b[0m\u001b[1;33m\u001b[0m\u001b[0m\n\u001b[1;32m--> 500\u001b[1;33m         return self.sslsocket_class._create(\n\u001b[0m\u001b[0;32m    501\u001b[0m             \u001b[0msock\u001b[0m\u001b[1;33m=\u001b[0m\u001b[0msock\u001b[0m\u001b[1;33m,\u001b[0m\u001b[1;33m\u001b[0m\u001b[1;33m\u001b[0m\u001b[0m\n\u001b[0;32m    502\u001b[0m             \u001b[0mserver_side\u001b[0m\u001b[1;33m=\u001b[0m\u001b[0mserver_side\u001b[0m\u001b[1;33m,\u001b[0m\u001b[1;33m\u001b[0m\u001b[1;33m\u001b[0m\u001b[0m\n",
      "\u001b[1;32mc:\\users\\dell\\appdata\\local\\programs\\python\\python39\\lib\\ssl.py\u001b[0m in \u001b[0;36m_create\u001b[1;34m(cls, sock, server_side, do_handshake_on_connect, suppress_ragged_eofs, server_hostname, context, session)\u001b[0m\n\u001b[0;32m   1038\u001b[0m                         \u001b[1;31m# non-blocking\u001b[0m\u001b[1;33m\u001b[0m\u001b[1;33m\u001b[0m\u001b[1;33m\u001b[0m\u001b[0m\n\u001b[0;32m   1039\u001b[0m                         \u001b[1;32mraise\u001b[0m \u001b[0mValueError\u001b[0m\u001b[1;33m(\u001b[0m\u001b[1;34m\"do_handshake_on_connect should not be specified for non-blocking sockets\"\u001b[0m\u001b[1;33m)\u001b[0m\u001b[1;33m\u001b[0m\u001b[1;33m\u001b[0m\u001b[0m\n\u001b[1;32m-> 1040\u001b[1;33m                     \u001b[0mself\u001b[0m\u001b[1;33m.\u001b[0m\u001b[0mdo_handshake\u001b[0m\u001b[1;33m(\u001b[0m\u001b[1;33m)\u001b[0m\u001b[1;33m\u001b[0m\u001b[1;33m\u001b[0m\u001b[0m\n\u001b[0m\u001b[0;32m   1041\u001b[0m             \u001b[1;32mexcept\u001b[0m \u001b[1;33m(\u001b[0m\u001b[0mOSError\u001b[0m\u001b[1;33m,\u001b[0m \u001b[0mValueError\u001b[0m\u001b[1;33m)\u001b[0m\u001b[1;33m:\u001b[0m\u001b[1;33m\u001b[0m\u001b[1;33m\u001b[0m\u001b[0m\n\u001b[0;32m   1042\u001b[0m                 \u001b[0mself\u001b[0m\u001b[1;33m.\u001b[0m\u001b[0mclose\u001b[0m\u001b[1;33m(\u001b[0m\u001b[1;33m)\u001b[0m\u001b[1;33m\u001b[0m\u001b[1;33m\u001b[0m\u001b[0m\n",
      "\u001b[1;32mc:\\users\\dell\\appdata\\local\\programs\\python\\python39\\lib\\ssl.py\u001b[0m in \u001b[0;36mdo_handshake\u001b[1;34m(self, block)\u001b[0m\n\u001b[0;32m   1307\u001b[0m             \u001b[1;32mif\u001b[0m \u001b[0mtimeout\u001b[0m \u001b[1;33m==\u001b[0m \u001b[1;36m0.0\u001b[0m \u001b[1;32mand\u001b[0m \u001b[0mblock\u001b[0m\u001b[1;33m:\u001b[0m\u001b[1;33m\u001b[0m\u001b[1;33m\u001b[0m\u001b[0m\n\u001b[0;32m   1308\u001b[0m                 \u001b[0mself\u001b[0m\u001b[1;33m.\u001b[0m\u001b[0msettimeout\u001b[0m\u001b[1;33m(\u001b[0m\u001b[1;32mNone\u001b[0m\u001b[1;33m)\u001b[0m\u001b[1;33m\u001b[0m\u001b[1;33m\u001b[0m\u001b[0m\n\u001b[1;32m-> 1309\u001b[1;33m             \u001b[0mself\u001b[0m\u001b[1;33m.\u001b[0m\u001b[0m_sslobj\u001b[0m\u001b[1;33m.\u001b[0m\u001b[0mdo_handshake\u001b[0m\u001b[1;33m(\u001b[0m\u001b[1;33m)\u001b[0m\u001b[1;33m\u001b[0m\u001b[1;33m\u001b[0m\u001b[0m\n\u001b[0m\u001b[0;32m   1310\u001b[0m         \u001b[1;32mfinally\u001b[0m\u001b[1;33m:\u001b[0m\u001b[1;33m\u001b[0m\u001b[1;33m\u001b[0m\u001b[0m\n\u001b[0;32m   1311\u001b[0m             \u001b[0mself\u001b[0m\u001b[1;33m.\u001b[0m\u001b[0msettimeout\u001b[0m\u001b[1;33m(\u001b[0m\u001b[0mtimeout\u001b[0m\u001b[1;33m)\u001b[0m\u001b[1;33m\u001b[0m\u001b[1;33m\u001b[0m\u001b[0m\n",
      "\u001b[1;31mKeyboardInterrupt\u001b[0m: "
     ]
    }
   ],
   "source": [
    "playlistsAPI = [getPlaylistsAPI(x, client_id) for x in set_user]"
   ]
  },
  {
   "cell_type": "code",
   "execution_count": null,
   "id": "a3e4c75b",
   "metadata": {},
   "outputs": [],
   "source": []
  }
 ],
 "metadata": {
  "kernelspec": {
   "display_name": "Python 3 (ipykernel)",
   "language": "python",
   "name": "python3"
  },
  "language_info": {
   "codemirror_mode": {
    "name": "ipython",
    "version": 3
   },
   "file_extension": ".py",
   "mimetype": "text/x-python",
   "name": "python",
   "nbconvert_exporter": "python",
   "pygments_lexer": "ipython3",
   "version": "3.9.2"
  }
 },
 "nbformat": 4,
 "nbformat_minor": 5
}
