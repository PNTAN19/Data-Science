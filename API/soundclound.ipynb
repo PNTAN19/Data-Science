{
 "cells": [
  {
   "cell_type": "code",
   "execution_count": 1,
   "id": "1233938f",
   "metadata": {},
   "outputs": [],
   "source": [
    "import json\n",
    "import requests\n",
    "from selenium import webdriver\n",
    "from bs4 import BeautifulSoup\n",
    "import time\n",
    "from selenium.webdriver.support.ui import WebDriverWait\n",
    "from selenium.webdriver.support import expected_conditions as EC\n",
    "from selenium.webdriver.common.by import By\n",
    "from selenium.common.exceptions import TimeoutException\n",
    "import pandas as pd\n",
    "from selenium.webdriver.common.by import By"
   ]
  },
  {
   "cell_type": "code",
   "execution_count": 2,
   "id": "32e4ddd1",
   "metadata": {},
   "outputs": [],
   "source": [
    "# wait\n",
    "def wait(driver, selector_name):\n",
    "    while (True):\n",
    "        try:\n",
    "            myElem = WebDriverWait(driver, 30).until(EC.presence_of_element_located((By.CLASS_NAME, selector_name)))\n",
    "            if myElem is not None:\n",
    "                break\n",
    "        except TimeoutException:\n",
    "            break"
   ]
  },
  {
   "cell_type": "code",
   "execution_count": 3,
   "id": "d6fc9b70",
   "metadata": {},
   "outputs": [],
   "source": [
    "# scroll\n",
    "def scroll(driver):\n",
    "    # Get scroll height\n",
    "    last_height = driver.execute_script(\"return document.body.scrollHeight\")\n",
    "\n",
    "    while True:\n",
    "        # Scroll down to bottom\n",
    "        driver.execute_script(\"window.scrollTo(0, document.body.scrollHeight);\")\n",
    "\n",
    "        # Wait to load page\n",
    "        time.sleep(2)\n",
    "\n",
    "        # Calculate new scroll height and compare with last scroll height\n",
    "        new_height = driver.execute_script(\"return document.body.scrollHeight\")\n",
    "        if new_height == last_height:\n",
    "            break\n",
    "        last_height = new_height"
   ]
  },
  {
   "cell_type": "code",
   "execution_count": null,
   "id": "18aad66a",
   "metadata": {},
   "outputs": [],
   "source": [
    "my_url = \"https://soundcloud.com/discover\""
   ]
  },
  {
   "cell_type": "code",
   "execution_count": null,
   "id": "ef03841c",
   "metadata": {},
   "outputs": [],
   "source": [
    "driver = webdriver.Chrome()\n",
    "driver.get(my_url)\n",
    "html = driver.page_source\n",
    "soup = BeautifulSoup(html, \"html.parser\")\n",
    "client_id = soup.find(\"div\", {\"id\": \"g_id_intermediate_iframe\"}).get(\"data-src\")\n",
    "client_id = ((client_id.split('?')[1]).split('&')[0]).split('=')[1]"
   ]
  },
  {
   "cell_type": "code",
   "execution_count": null,
   "id": "13932a2c",
   "metadata": {},
   "outputs": [],
   "source": [
    "client_id"
   ]
  },
  {
   "cell_type": "code",
   "execution_count": null,
   "id": "b03a5714",
   "metadata": {},
   "outputs": [],
   "source": [
    "set_link = []"
   ]
  },
  {
   "cell_type": "code",
   "execution_count": null,
   "id": "deb472b3",
   "metadata": {},
   "outputs": [],
   "source": [
    "driver = webdriver.Chrome()\n",
    "driver.get(my_url)\n",
    "html = driver.page_source\n",
    "soup = BeautifulSoup(html, \"html.parser\")\n",
    "link = soup.find_all(\"a\", {\n",
    "    \"class\": \"sc-link-secondary sc-link-light playableTile__usernameHeading audibleTile__usernameHeading sc-truncate sc-text-h4\"})\n",
    "\n",
    "for item in link:\n",
    "    user_url = \"https://soundcloud.com\" + item.get(\"href\")\n",
    "    if user_url not in set_link:\n",
    "        set_link.append(user_url)\n",
    "\n",
    "for user_url in set_link:\n",
    "    if len(set_link) > 25:\n",
    "        break;\n",
    "    driver.get(user_url)\n",
    "    wait(driver, 'profileHeaderInfo__userName')\n",
    "    \n",
    "    html = driver.page_source\n",
    "    soup = BeautifulSoup(html, \"html.parser\")\n",
    "    user_name = soup.find(\"h2\", {\"class\": \"profileHeaderInfo__userName\"})\n",
    "\n",
    "    # Get followers\n",
    "    follower_url = user_url + \"/following\"\n",
    "    driver.get(follower_url)\n",
    "\n",
    "    #Wait\n",
    "    scroll(driver)\n",
    "\n",
    "    html = driver.page_source\n",
    "    soup = BeautifulSoup(html, \"html.parser\")\n",
    "    followers = soup.find_all(\"a\", {\"class\": \"userBadgeListItem__heading\"})\n",
    "    for follower in followers:\n",
    "        if follower not in set_link:\n",
    "            set_link.append(\"https://soundcloud.com\" + follower.get(\"href\"))"
   ]
  },
  {
   "cell_type": "code",
   "execution_count": null,
   "id": "48f88e50",
   "metadata": {},
   "outputs": [],
   "source": [
    "len(set_link)"
   ]
  },
  {
   "cell_type": "code",
   "execution_count": null,
   "id": "ccae732e",
   "metadata": {},
   "outputs": [],
   "source": [
    "def get_all_user_data(set_link):\n",
    "    #Get user id in SoundCloud/Discover by get meta tag in HEAD html\n",
    "    set_data_user = []\n",
    "    for link_user in set_link:\n",
    "        driver = webdriver.Chrome()\n",
    "        driver.get(link_user)\n",
    "        html = driver.page_source\n",
    "        soup = BeautifulSoup(html, \"html.parser\")\n",
    "        #Get user id & user name & user url\n",
    "        id_user = soup.find(\"meta\", property=\"twitter:app:url:googleplay\")\n",
    "        set_data_user.append(id_user[\"content\"].strip(\"soundcloud://users:\"))\n",
    "\n",
    "    return set_data_user"
   ]
  },
  {
   "cell_type": "code",
   "execution_count": null,
   "id": "1043c497",
   "metadata": {},
   "outputs": [],
   "source": [
    "set_user = get_all_user_data(set_link)"
   ]
  },
  {
   "cell_type": "code",
   "execution_count": null,
   "id": "d5d61b6a",
   "metadata": {},
   "outputs": [],
   "source": [
    "len(set_user)"
   ]
  },
  {
   "cell_type": "code",
   "execution_count": null,
   "id": "58ab7794",
   "metadata": {},
   "outputs": [],
   "source": [
    "#============ using API to get USER.csv =================\n",
    "#Get set_user API\n",
    "def get_user_by_API(client_id):\n",
    "    set_data_user = []\n",
    "    # Select first column of the dataframe as a series\n",
    "    for item in set_user:\n",
    "        one_data_user = []\n",
    "        user_id = item\n",
    "        api_url = f'https://api-v2.soundcloud.com/users/{user_id}?client_id={client_id}'\n",
    "        # get request\n",
    "        r = requests.get(api_url)\n",
    "        # check whether it get the url\n",
    "        # or if it got request, does it have a string \"incomplete_results\":true in the response it recieved?\n",
    "        while r.status_code != requests.codes.ok or '\"incomplete_results\":true' in r:\n",
    "            time.sleep(1)\n",
    "            r = requests.get(api_url)\n",
    "        #JSON processing\n",
    "        json_str = json.loads(r.text)\n",
    "        one_data_user.append(str(json_str['id']))\n",
    "        one_data_user.append(str(json_str['username']))\n",
    "        one_data_user.append(str(json_str['permalink_url']))\n",
    "        set_data_user.append(one_data_user)\n",
    "\n",
    "    return set_data_user"
   ]
  },
  {
   "cell_type": "code",
   "execution_count": null,
   "id": "220fafdc",
   "metadata": {},
   "outputs": [],
   "source": [
    "get_user_by_API(client_id)"
   ]
  },
  {
   "cell_type": "code",
   "execution_count": null,
   "id": "b9a8db6f",
   "metadata": {},
   "outputs": [],
   "source": [
    "def getTracksAPI(set_user, client_id, limit=100):\n",
    "    set_tracks = set()\n",
    "    temp1 = 'https://api-v2.soundcloud.com/users/'\n",
    "    temp2 = f'/tracks?client_id={client_id}&limit={limit}'\n",
    "\n",
    "    for item in set_user:\n",
    "        string_tracks = ''\n",
    "        api = temp1 + item + temp2\n",
    "        while True:\n",
    "            r = requests.get(api)\n",
    "            if r.status_code != 200:\n",
    "                time.sleep(5.0)\n",
    "            else:\n",
    "                break\n",
    "        for temp in r.json()['collection']:\n",
    "            string_tracks = string_tracks + str(temp['id']) + ','\n",
    "        tup = (item, string_tracks)\n",
    "        set_tracks.add(tup)\n",
    "    return set_tracks"
   ]
  },
  {
   "cell_type": "code",
   "execution_count": null,
   "id": "c38318f2",
   "metadata": {},
   "outputs": [],
   "source": [
    "getTracksAPI(set_user, client_id)"
   ]
  },
  {
   "cell_type": "code",
   "execution_count": 11,
   "id": "8171ad12",
   "metadata": {},
   "outputs": [],
   "source": [
    "def createNoneObj(n):\n",
    "    return ['None' for i in range(n)]"
   ]
  },
  {
   "cell_type": "code",
   "execution_count": 16,
   "id": "3b59479c",
   "metadata": {},
   "outputs": [],
   "source": [
    "def getPlaylistsAPI(set_user, client_id, limit=100):\n",
    "    playlists = []\n",
    "    \n",
    "    for user_id in set_user:\n",
    "        \n",
    "        url = f'https://api-v2.soundcloud.com/users/{user_id}/playlists?client_id={client_id}&limit={limit}'\n",
    "        r = requests.get(url)\n",
    "\n",
    "        while r.status_code != requests.codes.ok or '\"incomplete_results\":true' in r:\n",
    "            time.sleep(1)\n",
    "            print('wait')\n",
    "            r = requests.get(url)\n",
    "\n",
    "        y = json.loads(r.text)\n",
    "        if len(y['collection']) == 0:\n",
    "            playlists.append([user_id]+createNoneObj(24))\n",
    "        else:\n",
    "            for playlist in y['collection']:\n",
    "                trackIDs = []\n",
    "                for track in playlist['tracks']:\n",
    "                    trackIDs.append(str(track['id']))\n",
    "                allTrackIDs = ','.join(trackIDs)\n",
    "                playlists.append([playlist['user_id'],\n",
    "                                 playlist['artwork_url'],\n",
    "                                 playlist['created_at'],\n",
    "                                 playlist['duration'],\n",
    "                                 playlist['embeddable_by'],\n",
    "                                 playlist['genre'],\n",
    "                                 playlist['id'],\n",
    "                                 playlist['kind'],\n",
    "                                 playlist['label_name'],\n",
    "                                 playlist['last_modified'],\n",
    "                                 playlist['license'],\n",
    "                                 playlist['likes_count'],\n",
    "                                 playlist['managed_by_feeds'],\n",
    "                                 playlist['permalink'],\n",
    "                                 playlist['permalink_url'],\n",
    "                                 playlist['public'],\n",
    "                                 playlist['reposts_count'],\n",
    "                                 playlist['sharing'],\n",
    "                                 playlist['tag_list'],\n",
    "                                 playlist['title'],\n",
    "                                 playlist['uri'],\n",
    "                                 playlist['is_album'],\n",
    "                                 playlist['published_at'],\n",
    "                                 playlist['display_date'],\n",
    "                                 allTrackIDs])\n",
    "\n",
    "    return playlists"
   ]
  },
  {
   "cell_type": "code",
   "execution_count": 19,
   "id": "e9b63479",
   "metadata": {},
   "outputs": [
    {
     "name": "stdout",
     "output_type": "stream",
     "text": [
      "wait\n"
     ]
    }
   ],
   "source": [
    "temp = getPlaylistsAPI(['293713798'], 'FjnXkiGFvyaVIYtXadMm9pqIDawoxzUW')"
   ]
  },
  {
   "cell_type": "code",
   "execution_count": 20,
   "id": "a3e4c75b",
   "metadata": {},
   "outputs": [],
   "source": [
    "f_out = pd.DataFrame(temp, columns=['user_id',\n",
    "                                 'artwork_url',\n",
    "                                 'created_at',\n",
    "                                 'duration',\n",
    "                                 'embeddable_by',\n",
    "                                 'genre',\n",
    "                                 'id',\n",
    "                                 'kind',\n",
    "                                 'label_name',\n",
    "                                 'last_modified',\n",
    "                                 'license',\n",
    "                                 'likes_count',\n",
    "                                 'managed_by_feeds',\n",
    "                                 'permalink',\n",
    "                                 'permalink_url',\n",
    "                                 'public',\n",
    "                                 'reposts_count',\n",
    "                                 'sharing',\n",
    "                                 'tag_list',\n",
    "                                 'title',\n",
    "                                 'uri',\n",
    "                                 'is_album',\n",
    "                                 'published_at',\n",
    "                                 'display_date',\n",
    "                                 'allTrackIDs'])\n",
    "f_out.to_csv('playlistApi.csv', index=False, sep='\\t')\n"
   ]
  },
  {
   "cell_type": "code",
   "execution_count": null,
   "id": "c9e55dfa",
   "metadata": {},
   "outputs": [],
   "source": []
  }
 ],
 "metadata": {
  "kernelspec": {
   "display_name": "Python 3",
   "language": "python",
   "name": "python3"
  },
  "language_info": {
   "codemirror_mode": {
    "name": "ipython",
    "version": 3
   },
   "file_extension": ".py",
   "mimetype": "text/x-python",
   "name": "python",
   "nbconvert_exporter": "python",
   "pygments_lexer": "ipython3",
   "version": "3.8.8"
  }
 },
 "nbformat": 4,
 "nbformat_minor": 5
}
