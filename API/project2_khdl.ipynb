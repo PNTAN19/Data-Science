{
 "cells": [
  {
   "cell_type": "code",
   "execution_count": null,
   "id": "ccad9c5b",
   "metadata": {},
   "outputs": [],
   "source": [
    "import json\n",
    "from datetime import timedelta\n",
    "from urllib.request import urlopen\n",
    "import numpy as np\n",
    "import pandas as pd\n",
    "import matplotlib.pyplot as plt\n",
    "import seaborn as sns\n",
    "import plotly.express as px\n",
    "import plotly.graph_objs as go\n",
    "from plotly.subplots import make_subplots"
   ]
  },
  {
   "cell_type": "code",
   "execution_count": null,
   "id": "7d73bfb9",
   "metadata": {},
   "outputs": [],
   "source": [
    "from plotly.offline import plot, iplot, init_notebook_mode\n",
    "init_notebook_mode(connected=True)"
   ]
  },
  {
   "cell_type": "code",
   "execution_count": null,
   "id": "f86b9aac",
   "metadata": {},
   "outputs": [],
   "source": [
    "cnf, dth, rec, act = '#393e46', '#ff2e63', '#21bf73', '#fe9801' "
   ]
  },
  {
   "cell_type": "code",
   "execution_count": null,
   "id": "6ea5af11",
   "metadata": {},
   "outputs": [],
   "source": [
    "df = pd.read_csv('trackAPI.csv', sep='\\t')\n",
    "df['likes_count'] = pd.to_numeric(df['likes_count'], errors='coerce')\n",
    "df = df.dropna(subset=['likes_count'])\n",
    "df['likes_count'] = df['likes_count'].astype(int)\n",
    "df1 = pd.DataFrame(df.groupby(by=['genre'])['likes_count'].sum())\n",
    "df1 = df1.nlargest(10, 'likes_count')\n",
    "df1.reset_index(inplace=True)\n",
    "\n",
    "fig = px.bar(df1, x='genre', y='likes_count', color='genre', text='likes_count',\n",
    "            labels={'genre':'Genre', 'likes_count': 'No. Likes'})\n",
    "fig.update_traces(texttemplate='%{text:.2s}', textposition='outside')\n",
    "fig.update_layout(uniformtext_minsize=8, uniformtext_mode='hide')\n",
    "\n",
    "fig.show()"
   ]
  },
  {
   "cell_type": "code",
   "execution_count": null,
   "id": "f211c9ba",
   "metadata": {},
   "outputs": [],
   "source": [
    "list_month = []\n",
    "for item in df['created_at']:\n",
    "    temp = item.split('-')\n",
    "    string_date = temp[1] + '/' + temp[0]\n",
    "    list_month.append(string_date)\n",
    "df['created_at'] = list_month"
   ]
  },
  {
   "cell_type": "code",
   "execution_count": null,
   "id": "9b1b6ea4",
   "metadata": {},
   "outputs": [],
   "source": [
    "df2 = df[['created_at']]\n",
    "df2['value'] = 1\n",
    "df2 = pd.DataFrame(df2.groupby(by=['created_at'])['value'].sum())\n",
    "df2.reset_index(inplace=True)\n",
    "list_month = []\n",
    "list_year = []\n",
    "for item in df2['created_at']:\n",
    "    list_month.append(item.split('/')[0])\n",
    "    list_year.append(item.split('/')[1])\n",
    "df2['month'] = list_month\n",
    "df2['year'] = list_year"
   ]
  },
  {
   "cell_type": "code",
   "execution_count": null,
   "id": "f3fba5c4",
   "metadata": {},
   "outputs": [],
   "source": [
    "temp = df2[['value', 'month', 'year']].sort_values(by=['year'])\n",
    "\n",
    "fig = go.Figure(data=go.Heatmap(\n",
    "                   z=temp['value'],\n",
    "                   x=temp['year'],\n",
    "                   y=temp['month'],\n",
    "                   hoverongaps = False))\n",
    "fig.show()"
   ]
  },
  {
   "cell_type": "code",
   "execution_count": null,
   "id": "51c5bfd7",
   "metadata": {},
   "outputs": [],
   "source": [
    "df3 = pd.DataFrame(df.groupby(by=['tag_list'])['likes_count'].sum())\n",
    "df3.reset_index(inplace=True)\n",
    "df3.head()"
   ]
  },
  {
   "cell_type": "code",
   "execution_count": null,
   "id": "c2a13eaa",
   "metadata": {},
   "outputs": [],
   "source": [
    "set_hashtag = set()\n",
    "d = dict()\n",
    "list_hasgtag = []\n",
    "list_values\n",
    "for item in df3['tag_list']:\n",
    "    for temp in item.split('\"'):\n",
    "        set_hashtag.add(temp.strip())\n",
    "set_hashtag.remove('')\n",
    "for item1 in set_hashtag:\n",
    "    i = 0\n",
    "    values = 0\n",
    "    for item2 in df3['tag_list']:\n",
    "        if item2.find(item1) != -1:\n",
    "            values = values + df3['likes_count'][i]\n",
    "            i = i + 1\n",
    "    d[item1] = values\n",
    "\n"
   ]
  },
  {
   "cell_type": "code",
   "execution_count": null,
   "id": "8fee4db5",
   "metadata": {},
   "outputs": [],
   "source": [
    "key_list = list(d.keys())\n",
    "val_list = list(d.values())\n",
    "df4 = pd.DataFrame()\n",
    "df4['Hashtag'] = key_list\n",
    "df4['Likes_count'] = val_list\n",
    "df4.head()"
   ]
  },
  {
   "cell_type": "code",
   "execution_count": null,
   "id": "374f3bb9",
   "metadata": {},
   "outputs": [],
   "source": [
    "df4 = df4.nlargest(10, 'Likes_count')\n",
    "fig = px.bar(df4, x='Hashtag', y='Likes_count', color='Hashtag', text='Likes_count',\n",
    "            labels={'Hashtag':'Hashtag', 'Likes_count': 'No. Likes'})\n",
    "fig.update_traces(texttemplate='%{text:.2s}', textposition='outside')\n",
    "fig.update_layout(uniformtext_minsize=8, uniformtext_mode='hide')\n",
    "\n",
    "fig.show()"
   ]
  },
  {
   "cell_type": "code",
   "execution_count": null,
   "id": "6774cfeb",
   "metadata": {},
   "outputs": [],
   "source": [
    "df5= df[['user_id']]\n",
    "df5['value'] = 1\n",
    "df6 = pd.DataFrame(df5.groupby(by=['user_id'])['value'].sum())\n",
    "df6.reset_index(inplace=True)\n",
    "df6 = df6.nlargest(10, 'value')\n",
    "df5 = df5.loc[df5['user_id'].isin(list(df6['user_id']))]\n",
    "df6"
   ]
  },
  {
   "cell_type": "code",
   "execution_count": null,
   "id": "11dbaf6e",
   "metadata": {},
   "outputs": [],
   "source": [
    "fig = go.Figure(data=[go.Box(y=df6['value'],\n",
    "            boxpoints='all', # can also be outliers, or suspectedoutliers, or False\n",
    "            jitter=0.3, # add some jitter for a better separation between points\n",
    "            pointpos=-1.8, # relative position of points wrt box\n",
    "             marker_size=2,\n",
    "            line_width=1)])\n",
    "fig.update_layout(\n",
    "    title={\n",
    "        'text': \"The distribution of the number of tracks in a user\",\n",
    "        'y':0.9,\n",
    "        'x':0.5,\n",
    "        'xanchor': 'center',\n",
    "        'yanchor': 'top'},\n",
    "    xaxis_title=\"Track\",\n",
    "    yaxis_title=\"No. Tracks\",)\n",
    "fig.show()\n",
    "\n"
   ]
  },
  {
   "cell_type": "code",
   "execution_count": null,
   "id": "9c438873",
   "metadata": {},
   "outputs": [],
   "source": [
    "for item1 in key_list:\n",
    "    print(item1)"
   ]
  },
  {
   "cell_type": "code",
   "execution_count": null,
   "id": "ce92f3d8",
   "metadata": {},
   "outputs": [],
   "source": [
    "df3"
   ]
  },
  {
   "cell_type": "code",
   "execution_count": null,
   "id": "5b27d71a",
   "metadata": {},
   "outputs": [],
   "source": []
  }
 ],
 "metadata": {
  "kernelspec": {
   "display_name": "Python 3 (ipykernel)",
   "language": "python",
   "name": "python3"
  },
  "language_info": {
   "codemirror_mode": {
    "name": "ipython",
    "version": 3
   },
   "file_extension": ".py",
   "mimetype": "text/x-python",
   "name": "python",
   "nbconvert_exporter": "python",
   "pygments_lexer": "ipython3",
   "version": "3.8.8"
  }
 },
 "nbformat": 4,
 "nbformat_minor": 5
}
