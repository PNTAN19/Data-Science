{
 "cells": [
  {
   "cell_type": "code",
   "execution_count": 1,
   "id": "46b89ab2",
   "metadata": {},
   "outputs": [],
   "source": [
    "import requests\n",
    "import json\n",
    "from selenium import webdriver\n",
    "from bs4 import BeautifulSoup\n",
    "import time\n",
    "from selenium.webdriver.support.ui import WebDriverWait\n",
    "from selenium.webdriver.support import expected_conditions as EC\n",
    "from selenium.webdriver.common.by import By\n",
    "from selenium.common.exceptions import TimeoutException\n",
    "import pandas as pd"
   ]
  },
  {
   "cell_type": "code",
   "execution_count": null,
   "id": "38204c55",
   "metadata": {},
   "outputs": [],
   "source": [
    "import sys\n",
    "\n",
    "def printProgressBar(i,max,postText):\n",
    "    n_bar =10 #size of progress bar\n",
    "    j= i/max\n",
    "    sys.stdout.write('\\r')\n",
    "    sys.stdout.write(f\"[{'=' * int(n_bar * j):{n_bar}s}] {int(100 * j)}%  {postText}\")\n",
    "    sys.stdout.flush()"
   ]
  },
  {
   "cell_type": "code",
   "execution_count": 2,
   "id": "b1fd9788",
   "metadata": {},
   "outputs": [],
   "source": [
    "# wait\n",
    "def wait(driver, selector_name):\n",
    "    while (True):\n",
    "        try:\n",
    "            myElem = WebDriverWait(driver, 30).until(EC.presence_of_element_located((By.CLASS_NAME, selector_name)))\n",
    "            if myElem is not None:\n",
    "                break\n",
    "        except TimeoutException:\n",
    "            break"
   ]
  },
  {
   "cell_type": "code",
   "execution_count": 3,
   "id": "bea9d627",
   "metadata": {},
   "outputs": [],
   "source": [
    "# scroll\n",
    "def scroll(driver):\n",
    "    # Get scroll height\n",
    "    last_height = driver.execute_script(\"return document.body.scrollHeight\")\n",
    "\n",
    "    while True:\n",
    "        # Scroll down to bottom\n",
    "        driver.execute_script(\"window.scrollTo(0, document.body.scrollHeight);\")\n",
    "\n",
    "        # Wait to load page\n",
    "        time.sleep(2)\n",
    "\n",
    "        # Calculate new scroll height and compare with last scroll height\n",
    "        new_height = driver.execute_script(\"return document.body.scrollHeight\")\n",
    "        if new_height == last_height:\n",
    "            break\n",
    "        last_height = new_height"
   ]
  },
  {
   "cell_type": "code",
   "execution_count": 4,
   "id": "a0ec6865",
   "metadata": {},
   "outputs": [],
   "source": [
    "main_url = \"https://soundcloud.com/discover\"\n",
    "set_link = []"
   ]
  },
  {
   "cell_type": "code",
   "execution_count": 5,
   "id": "c85c6c63",
   "metadata": {},
   "outputs": [],
   "source": [
    "# Drive the chrome to url link and return soup with html parser\n",
    "def drive_to_url_page(driver, url):\n",
    "    driver.get(url)\n",
    "    scroll(driver)\n",
    "    html = driver.page_source\n",
    "    soup = BeautifulSoup(html, \"html.parser\")\n",
    "    return soup"
   ]
  },
  {
   "cell_type": "code",
   "execution_count": 6,
   "id": "9c75e2f3",
   "metadata": {},
   "outputs": [
    {
     "ename": "NoSuchWindowException",
     "evalue": "Message: no such window: target window already closed\nfrom unknown error: web view not found\n  (Session info: chrome=95.0.4638.69)\nStacktrace:\nBacktrace:\n\tOrdinal0 [0x0081BDE3+2473443]\n\tOrdinal0 [0x007B6661+2057825]\n\tOrdinal0 [0x006C2438+1057848]\n\tOrdinal0 [0x006ABD36+965942]\n\tOrdinal0 [0x007079F9+1341945]\n\tOrdinal0 [0x00714242+1393218]\n\tOrdinal0 [0x007055AB+1332651]\n\tOrdinal0 [0x006E2104+1188100]\n\tOrdinal0 [0x006E2F59+1191769]\n\tGetHandleVerifier [0x009A2266+1549718]\n\tGetHandleVerifier [0x00A4D4A7+2250711]\n\tGetHandleVerifier [0x008A718B+521403]\n\tGetHandleVerifier [0x008A6229+517465]\n\tOrdinal0 [0x007BB79D+2078621]\n\tOrdinal0 [0x007BFB58+2095960]\n\tOrdinal0 [0x007BFC92+2096274]\n\tOrdinal0 [0x007C9541+2135361]\n\tBaseThreadInitThunk [0x758E5749+25]\n\tRtlGetAppContainerNamedObjectPath [0x7712F790+288]\n\tRtlGetAppContainerNamedObjectPath [0x7712F75E+238]\n",
     "output_type": "error",
     "traceback": [
      "\u001b[1;31m---------------------------------------------------------------------------\u001b[0m",
      "\u001b[1;31mNoSuchWindowException\u001b[0m                     Traceback (most recent call last)",
      "\u001b[1;32m~\\AppData\\Local\\Temp/ipykernel_7576/1692630234.py\u001b[0m in \u001b[0;36m<module>\u001b[1;34m\u001b[0m\n\u001b[0;32m      1\u001b[0m \u001b[1;31m#Driver to soundcloud website\u001b[0m\u001b[1;33m\u001b[0m\u001b[1;33m\u001b[0m\u001b[1;33m\u001b[0m\u001b[0m\n\u001b[0;32m      2\u001b[0m \u001b[0mdriver\u001b[0m \u001b[1;33m=\u001b[0m \u001b[0mwebdriver\u001b[0m\u001b[1;33m.\u001b[0m\u001b[0mChrome\u001b[0m\u001b[1;33m(\u001b[0m\u001b[1;33m)\u001b[0m\u001b[1;33m\u001b[0m\u001b[1;33m\u001b[0m\u001b[0m\n\u001b[1;32m----> 3\u001b[1;33m \u001b[0msoup\u001b[0m \u001b[1;33m=\u001b[0m \u001b[0mdrive_to_url_page\u001b[0m\u001b[1;33m(\u001b[0m\u001b[0mdriver\u001b[0m\u001b[1;33m,\u001b[0m \u001b[0mmain_url\u001b[0m\u001b[1;33m)\u001b[0m\u001b[1;33m\u001b[0m\u001b[1;33m\u001b[0m\u001b[0m\n\u001b[0m\u001b[0;32m      4\u001b[0m \u001b[0mlinks\u001b[0m \u001b[1;33m=\u001b[0m \u001b[0msoup\u001b[0m\u001b[1;33m.\u001b[0m\u001b[0mfind_all\u001b[0m\u001b[1;33m(\u001b[0m\u001b[1;34m\"a\"\u001b[0m\u001b[1;33m,\u001b[0m \u001b[1;33m{\u001b[0m\u001b[1;34m\"class\"\u001b[0m\u001b[1;33m:\u001b[0m \u001b[1;34m\"sc-link-secondary sc-link-light playableTile__usernameHeading audibleTile__usernameHeading sc-truncate sc-text-h4\"\u001b[0m\u001b[1;33m}\u001b[0m\u001b[1;33m)\u001b[0m\u001b[1;33m\u001b[0m\u001b[1;33m\u001b[0m\u001b[0m\n\u001b[0;32m      5\u001b[0m \u001b[1;32mfor\u001b[0m \u001b[0mitem\u001b[0m \u001b[1;32min\u001b[0m \u001b[0mlinks\u001b[0m\u001b[1;33m:\u001b[0m\u001b[1;33m\u001b[0m\u001b[1;33m\u001b[0m\u001b[0m\n",
      "\u001b[1;32m~\\AppData\\Local\\Temp/ipykernel_7576/820870093.py\u001b[0m in \u001b[0;36mdrive_to_url_page\u001b[1;34m(driver, url)\u001b[0m\n\u001b[0;32m      2\u001b[0m \u001b[1;32mdef\u001b[0m \u001b[0mdrive_to_url_page\u001b[0m\u001b[1;33m(\u001b[0m\u001b[0mdriver\u001b[0m\u001b[1;33m,\u001b[0m \u001b[0murl\u001b[0m\u001b[1;33m)\u001b[0m\u001b[1;33m:\u001b[0m\u001b[1;33m\u001b[0m\u001b[1;33m\u001b[0m\u001b[0m\n\u001b[0;32m      3\u001b[0m     \u001b[0mdriver\u001b[0m\u001b[1;33m.\u001b[0m\u001b[0mget\u001b[0m\u001b[1;33m(\u001b[0m\u001b[0murl\u001b[0m\u001b[1;33m)\u001b[0m\u001b[1;33m\u001b[0m\u001b[1;33m\u001b[0m\u001b[0m\n\u001b[1;32m----> 4\u001b[1;33m     \u001b[0mscroll\u001b[0m\u001b[1;33m(\u001b[0m\u001b[0mdriver\u001b[0m\u001b[1;33m)\u001b[0m\u001b[1;33m\u001b[0m\u001b[1;33m\u001b[0m\u001b[0m\n\u001b[0m\u001b[0;32m      5\u001b[0m     \u001b[0mhtml\u001b[0m \u001b[1;33m=\u001b[0m \u001b[0mdriver\u001b[0m\u001b[1;33m.\u001b[0m\u001b[0mpage_source\u001b[0m\u001b[1;33m\u001b[0m\u001b[1;33m\u001b[0m\u001b[0m\n\u001b[0;32m      6\u001b[0m     \u001b[0msoup\u001b[0m \u001b[1;33m=\u001b[0m \u001b[0mBeautifulSoup\u001b[0m\u001b[1;33m(\u001b[0m\u001b[0mhtml\u001b[0m\u001b[1;33m,\u001b[0m \u001b[1;34m\"html.parser\"\u001b[0m\u001b[1;33m)\u001b[0m\u001b[1;33m\u001b[0m\u001b[1;33m\u001b[0m\u001b[0m\n",
      "\u001b[1;32m~\\AppData\\Local\\Temp/ipykernel_7576/668520747.py\u001b[0m in \u001b[0;36mscroll\u001b[1;34m(driver)\u001b[0m\n\u001b[0;32m      2\u001b[0m \u001b[1;32mdef\u001b[0m \u001b[0mscroll\u001b[0m\u001b[1;33m(\u001b[0m\u001b[0mdriver\u001b[0m\u001b[1;33m)\u001b[0m\u001b[1;33m:\u001b[0m\u001b[1;33m\u001b[0m\u001b[1;33m\u001b[0m\u001b[0m\n\u001b[0;32m      3\u001b[0m     \u001b[1;31m# Get scroll height\u001b[0m\u001b[1;33m\u001b[0m\u001b[1;33m\u001b[0m\u001b[1;33m\u001b[0m\u001b[0m\n\u001b[1;32m----> 4\u001b[1;33m     \u001b[0mlast_height\u001b[0m \u001b[1;33m=\u001b[0m \u001b[0mdriver\u001b[0m\u001b[1;33m.\u001b[0m\u001b[0mexecute_script\u001b[0m\u001b[1;33m(\u001b[0m\u001b[1;34m\"return document.body.scrollHeight\"\u001b[0m\u001b[1;33m)\u001b[0m\u001b[1;33m\u001b[0m\u001b[1;33m\u001b[0m\u001b[0m\n\u001b[0m\u001b[0;32m      5\u001b[0m \u001b[1;33m\u001b[0m\u001b[0m\n\u001b[0;32m      6\u001b[0m     \u001b[1;32mwhile\u001b[0m \u001b[1;32mTrue\u001b[0m\u001b[1;33m:\u001b[0m\u001b[1;33m\u001b[0m\u001b[1;33m\u001b[0m\u001b[0m\n",
      "\u001b[1;32mc:\\users\\dell\\appdata\\local\\programs\\python\\python39\\lib\\site-packages\\selenium\\webdriver\\remote\\webdriver.py\u001b[0m in \u001b[0;36mexecute_script\u001b[1;34m(self, script, *args)\u001b[0m\n\u001b[0;32m    870\u001b[0m         \u001b[0mcommand\u001b[0m \u001b[1;33m=\u001b[0m \u001b[0mCommand\u001b[0m\u001b[1;33m.\u001b[0m\u001b[0mW3C_EXECUTE_SCRIPT\u001b[0m\u001b[1;33m\u001b[0m\u001b[1;33m\u001b[0m\u001b[0m\n\u001b[0;32m    871\u001b[0m \u001b[1;33m\u001b[0m\u001b[0m\n\u001b[1;32m--> 872\u001b[1;33m         return self.execute(command, {\n\u001b[0m\u001b[0;32m    873\u001b[0m             \u001b[1;34m'script'\u001b[0m\u001b[1;33m:\u001b[0m \u001b[0mscript\u001b[0m\u001b[1;33m,\u001b[0m\u001b[1;33m\u001b[0m\u001b[1;33m\u001b[0m\u001b[0m\n\u001b[0;32m    874\u001b[0m             'args': converted_args})['value']\n",
      "\u001b[1;32mc:\\users\\dell\\appdata\\local\\programs\\python\\python39\\lib\\site-packages\\selenium\\webdriver\\remote\\webdriver.py\u001b[0m in \u001b[0;36mexecute\u001b[1;34m(self, driver_command, params)\u001b[0m\n\u001b[0;32m    416\u001b[0m         \u001b[0mresponse\u001b[0m \u001b[1;33m=\u001b[0m \u001b[0mself\u001b[0m\u001b[1;33m.\u001b[0m\u001b[0mcommand_executor\u001b[0m\u001b[1;33m.\u001b[0m\u001b[0mexecute\u001b[0m\u001b[1;33m(\u001b[0m\u001b[0mdriver_command\u001b[0m\u001b[1;33m,\u001b[0m \u001b[0mparams\u001b[0m\u001b[1;33m)\u001b[0m\u001b[1;33m\u001b[0m\u001b[1;33m\u001b[0m\u001b[0m\n\u001b[0;32m    417\u001b[0m         \u001b[1;32mif\u001b[0m \u001b[0mresponse\u001b[0m\u001b[1;33m:\u001b[0m\u001b[1;33m\u001b[0m\u001b[1;33m\u001b[0m\u001b[0m\n\u001b[1;32m--> 418\u001b[1;33m             \u001b[0mself\u001b[0m\u001b[1;33m.\u001b[0m\u001b[0merror_handler\u001b[0m\u001b[1;33m.\u001b[0m\u001b[0mcheck_response\u001b[0m\u001b[1;33m(\u001b[0m\u001b[0mresponse\u001b[0m\u001b[1;33m)\u001b[0m\u001b[1;33m\u001b[0m\u001b[1;33m\u001b[0m\u001b[0m\n\u001b[0m\u001b[0;32m    419\u001b[0m             response['value'] = self._unwrap_value(\n\u001b[0;32m    420\u001b[0m                 response.get('value', None))\n",
      "\u001b[1;32mc:\\users\\dell\\appdata\\local\\programs\\python\\python39\\lib\\site-packages\\selenium\\webdriver\\remote\\errorhandler.py\u001b[0m in \u001b[0;36mcheck_response\u001b[1;34m(self, response)\u001b[0m\n\u001b[0;32m    241\u001b[0m                 \u001b[0malert_text\u001b[0m \u001b[1;33m=\u001b[0m \u001b[0mvalue\u001b[0m\u001b[1;33m[\u001b[0m\u001b[1;34m'alert'\u001b[0m\u001b[1;33m]\u001b[0m\u001b[1;33m.\u001b[0m\u001b[0mget\u001b[0m\u001b[1;33m(\u001b[0m\u001b[1;34m'text'\u001b[0m\u001b[1;33m)\u001b[0m\u001b[1;33m\u001b[0m\u001b[1;33m\u001b[0m\u001b[0m\n\u001b[0;32m    242\u001b[0m             \u001b[1;32mraise\u001b[0m \u001b[0mexception_class\u001b[0m\u001b[1;33m(\u001b[0m\u001b[0mmessage\u001b[0m\u001b[1;33m,\u001b[0m \u001b[0mscreen\u001b[0m\u001b[1;33m,\u001b[0m \u001b[0mstacktrace\u001b[0m\u001b[1;33m,\u001b[0m \u001b[0malert_text\u001b[0m\u001b[1;33m)\u001b[0m  \u001b[1;31m# type: ignore[call-arg]  # mypy is not smart enough here\u001b[0m\u001b[1;33m\u001b[0m\u001b[1;33m\u001b[0m\u001b[0m\n\u001b[1;32m--> 243\u001b[1;33m         \u001b[1;32mraise\u001b[0m \u001b[0mexception_class\u001b[0m\u001b[1;33m(\u001b[0m\u001b[0mmessage\u001b[0m\u001b[1;33m,\u001b[0m \u001b[0mscreen\u001b[0m\u001b[1;33m,\u001b[0m \u001b[0mstacktrace\u001b[0m\u001b[1;33m)\u001b[0m\u001b[1;33m\u001b[0m\u001b[1;33m\u001b[0m\u001b[0m\n\u001b[0m\u001b[0;32m    244\u001b[0m \u001b[1;33m\u001b[0m\u001b[0m\n\u001b[0;32m    245\u001b[0m     \u001b[1;32mdef\u001b[0m \u001b[0m_value_or_default\u001b[0m\u001b[1;33m(\u001b[0m\u001b[0mself\u001b[0m\u001b[1;33m,\u001b[0m \u001b[0mobj\u001b[0m\u001b[1;33m:\u001b[0m \u001b[0mMapping\u001b[0m\u001b[1;33m[\u001b[0m\u001b[0m_KT\u001b[0m\u001b[1;33m,\u001b[0m \u001b[0m_VT\u001b[0m\u001b[1;33m]\u001b[0m\u001b[1;33m,\u001b[0m \u001b[0mkey\u001b[0m\u001b[1;33m:\u001b[0m \u001b[0m_KT\u001b[0m\u001b[1;33m,\u001b[0m \u001b[0mdefault\u001b[0m\u001b[1;33m:\u001b[0m \u001b[0m_VT\u001b[0m\u001b[1;33m)\u001b[0m \u001b[1;33m->\u001b[0m \u001b[0m_VT\u001b[0m\u001b[1;33m:\u001b[0m\u001b[1;33m\u001b[0m\u001b[1;33m\u001b[0m\u001b[0m\n",
      "\u001b[1;31mNoSuchWindowException\u001b[0m: Message: no such window: target window already closed\nfrom unknown error: web view not found\n  (Session info: chrome=95.0.4638.69)\nStacktrace:\nBacktrace:\n\tOrdinal0 [0x0081BDE3+2473443]\n\tOrdinal0 [0x007B6661+2057825]\n\tOrdinal0 [0x006C2438+1057848]\n\tOrdinal0 [0x006ABD36+965942]\n\tOrdinal0 [0x007079F9+1341945]\n\tOrdinal0 [0x00714242+1393218]\n\tOrdinal0 [0x007055AB+1332651]\n\tOrdinal0 [0x006E2104+1188100]\n\tOrdinal0 [0x006E2F59+1191769]\n\tGetHandleVerifier [0x009A2266+1549718]\n\tGetHandleVerifier [0x00A4D4A7+2250711]\n\tGetHandleVerifier [0x008A718B+521403]\n\tGetHandleVerifier [0x008A6229+517465]\n\tOrdinal0 [0x007BB79D+2078621]\n\tOrdinal0 [0x007BFB58+2095960]\n\tOrdinal0 [0x007BFC92+2096274]\n\tOrdinal0 [0x007C9541+2135361]\n\tBaseThreadInitThunk [0x758E5749+25]\n\tRtlGetAppContainerNamedObjectPath [0x7712F790+288]\n\tRtlGetAppContainerNamedObjectPath [0x7712F75E+238]\n"
     ]
    }
   ],
   "source": [
    "#Driver to soundcloud website\n",
    "driver = webdriver.Chrome()\n",
    "soup = drive_to_url_page(driver, main_url)\n",
    "links = soup.find_all(\"a\", {\"class\": \"sc-link-secondary sc-link-light playableTile__usernameHeading audibleTile__usernameHeading sc-truncate sc-text-h4\"})\n",
    "for item in links:\n",
    "    user_url = \"https://soundcloud.com\" + item.get(\"href\")\n",
    "    if user_url not in set_link:\n",
    "        set_link.append(user_url)\n",
    "\n",
    "#Get the all person in set_link with his/her following information\n",
    "for i in range(0, len(set_link) - 1): \n",
    "    following_url = set_link[i] + \"/following\"\n",
    "    soup = drive_to_url_page(driver, following_url)\n",
    "    link_following_user = soup.find_all(\"a\", {\"class\":\"userBadgeListItem__heading sc-type-small sc-text-h4 sc-link-dark sc-link-primary sc-truncate\"})\n",
    "    for item in link_following_user:\n",
    "        user_url = \"https://soundcloud.com\" + item.get(\"href\")\n",
    "        if user_url not in set_link:\n",
    "            set_link.append(user_url)\n",
    "            \n",
    "    #Set number of user\n",
    "    if len(set_link) >= 20:\n",
    "        break;\n",
    "    \n",
    "    # print(len(link_following_user))\n",
    "    \n",
    "driver.close()"
   ]
  },
  {
   "cell_type": "code",
   "execution_count": 14,
   "id": "512266f5",
   "metadata": {},
   "outputs": [
    {
     "name": "stdout",
     "output_type": "stream",
     "text": [
      "1147\n"
     ]
    }
   ],
   "source": [
    "print(len(set_link))"
   ]
  },
  {
   "cell_type": "code",
   "execution_count": 15,
   "id": "bb0a1f5f",
   "metadata": {},
   "outputs": [],
   "source": [
    "#Count all playlist in user_url/sets (count by <li> tag)\n",
    "def count_playlist_in_one_person(driver, url_of_user):\n",
    "    playlist_url = str(url_of_user) + '/sets'\n",
    "    soup = drive_to_url_page(driver, playlist_url)\n",
    "    playlist_count = soup.find_all(\"li\", {\"class\":\"soundList__item\"})\n",
    "    return len(playlist_count)"
   ]
  },
  {
   "cell_type": "code",
   "execution_count": null,
   "id": "7fd22dc4",
   "metadata": {},
   "outputs": [],
   "source": []
  },
  {
   "cell_type": "code",
   "execution_count": 16,
   "id": "a1b24128",
   "metadata": {},
   "outputs": [],
   "source": [
    "def get_all_user_data(driver, set_link):\n",
    "    #Get user id in SoundCloud/Discover by get meta tag in HEAD html\n",
    "    set_data_user = []\n",
    "    driver = webdriver.Chrome()\n",
    "\n",
    "    for i, link_user in enumerate(set_link):\n",
    "        one_data_user = []\n",
    "        driver.get(link_user)\n",
    "        wait(driver, 'infoStats__value sc-font-light')\n",
    "        html = driver.page_source\n",
    "        soup = BeautifulSoup(html, \"html.parser\")\n",
    "        \n",
    "        #Get USER INFO\n",
    "        id_user = soup.find(\"meta\", property=\"twitter:app:url:googleplay\")\n",
    "        name_user = soup.find(\"meta\", property=\"og:title\")\n",
    "        url_user = soup.find(\"meta\", property=\"og:url\")\n",
    "        info_start = soup.find_all(\"div\", {\"class\":\"infoStats__value sc-font-light\"})\n",
    "        \n",
    "        likeTrack_count = soup.find_all(\"span\", {\"class\":\"sidebarHeader__actualTitle sc-text-h3\"})\n",
    "        playlist_count = count_playlist_in_one_person(driver, link_user)\n",
    "        # more_info = soup.find(\"h3\", {\"class\": \"profileHeaderInfo__additional g-type-shrinkwrap-block theme-dark g-type-shrinkwrap-large-secondary sc-mt-1x\"}).getText().Strip()\n",
    "\n",
    "        #Add to one_data_user set\n",
    "        one_data_user.append(id_user[\"content\"].strip(\"soundcloud://users:\"))\n",
    "        one_data_user.append(name_user[\"content\"])\n",
    "        one_data_user.append(url_user[\"content\"])\n",
    "        one_data_user.append(playlist_count)\n",
    "        # one_data_user.append(more_info)\n",
    "        one_data_user.append(info_start[0].getText())   #followers\n",
    "        one_data_user.append(info_start[1].getText())   #following\n",
    "        one_data_user.append(info_start[2].getText())   #Track count\n",
    "        one_data_user.append(likeTrack_count[1].getText().strip(' likes'))\n",
    "        #Add one data user to set data \n",
    "        set_data_user.append(one_data_user)\n",
    "        \n",
    "        printProgressBar(i, len(set_link), \"Processing\")\n",
    "    return set_data_user"
   ]
  },
  {
   "cell_type": "code",
   "execution_count": 17,
   "id": "7aa3042d",
   "metadata": {},
   "outputs": [
    {
     "ename": "WebDriverException",
     "evalue": "Message: chrome not reachable\n  (Session info: chrome=95.0.4638.69)\n",
     "output_type": "error",
     "traceback": [
      "\u001b[1;31m---------------------------------------------------------------------------\u001b[0m",
      "\u001b[1;31mWebDriverException\u001b[0m                        Traceback (most recent call last)",
      "\u001b[1;32m~\\AppData\\Local\\Temp/ipykernel_11160/2688123578.py\u001b[0m in \u001b[0;36m<module>\u001b[1;34m\u001b[0m\n\u001b[1;32m----> 1\u001b[1;33m \u001b[0mset_data_user\u001b[0m \u001b[1;33m=\u001b[0m \u001b[0mget_all_user_data\u001b[0m\u001b[1;33m(\u001b[0m\u001b[0mdriver\u001b[0m\u001b[1;33m,\u001b[0m \u001b[0mset_link\u001b[0m\u001b[1;33m)\u001b[0m\u001b[1;33m\u001b[0m\u001b[1;33m\u001b[0m\u001b[0m\n\u001b[0m",
      "\u001b[1;32m~\\AppData\\Local\\Temp/ipykernel_11160/3864599673.py\u001b[0m in \u001b[0;36mget_all_user_data\u001b[1;34m(driver, set_link)\u001b[0m\n\u001b[0;32m      7\u001b[0m         \u001b[0mone_data_user\u001b[0m \u001b[1;33m=\u001b[0m \u001b[1;33m[\u001b[0m\u001b[1;33m]\u001b[0m\u001b[1;33m\u001b[0m\u001b[1;33m\u001b[0m\u001b[0m\n\u001b[0;32m      8\u001b[0m         \u001b[0mdriver\u001b[0m\u001b[1;33m.\u001b[0m\u001b[0mget\u001b[0m\u001b[1;33m(\u001b[0m\u001b[0mlink_user\u001b[0m\u001b[1;33m)\u001b[0m\u001b[1;33m\u001b[0m\u001b[1;33m\u001b[0m\u001b[0m\n\u001b[1;32m----> 9\u001b[1;33m         \u001b[0mwait\u001b[0m\u001b[1;33m(\u001b[0m\u001b[0mdriver\u001b[0m\u001b[1;33m,\u001b[0m \u001b[1;34m'infoStats__value sc-font-light'\u001b[0m\u001b[1;33m)\u001b[0m\u001b[1;33m\u001b[0m\u001b[1;33m\u001b[0m\u001b[0m\n\u001b[0m\u001b[0;32m     10\u001b[0m         \u001b[0mhtml\u001b[0m \u001b[1;33m=\u001b[0m \u001b[0mdriver\u001b[0m\u001b[1;33m.\u001b[0m\u001b[0mpage_source\u001b[0m\u001b[1;33m\u001b[0m\u001b[1;33m\u001b[0m\u001b[0m\n\u001b[0;32m     11\u001b[0m         \u001b[0msoup\u001b[0m \u001b[1;33m=\u001b[0m \u001b[0mBeautifulSoup\u001b[0m\u001b[1;33m(\u001b[0m\u001b[0mhtml\u001b[0m\u001b[1;33m,\u001b[0m \u001b[1;34m\"html.parser\"\u001b[0m\u001b[1;33m)\u001b[0m\u001b[1;33m\u001b[0m\u001b[1;33m\u001b[0m\u001b[0m\n",
      "\u001b[1;32m~\\AppData\\Local\\Temp/ipykernel_11160/3783834819.py\u001b[0m in \u001b[0;36mwait\u001b[1;34m(driver, selector_name)\u001b[0m\n\u001b[0;32m      3\u001b[0m     \u001b[1;32mwhile\u001b[0m \u001b[1;33m(\u001b[0m\u001b[1;32mTrue\u001b[0m\u001b[1;33m)\u001b[0m\u001b[1;33m:\u001b[0m\u001b[1;33m\u001b[0m\u001b[1;33m\u001b[0m\u001b[0m\n\u001b[0;32m      4\u001b[0m         \u001b[1;32mtry\u001b[0m\u001b[1;33m:\u001b[0m\u001b[1;33m\u001b[0m\u001b[1;33m\u001b[0m\u001b[0m\n\u001b[1;32m----> 5\u001b[1;33m             \u001b[0mmyElem\u001b[0m \u001b[1;33m=\u001b[0m \u001b[0mWebDriverWait\u001b[0m\u001b[1;33m(\u001b[0m\u001b[0mdriver\u001b[0m\u001b[1;33m,\u001b[0m \u001b[1;36m30\u001b[0m\u001b[1;33m)\u001b[0m\u001b[1;33m.\u001b[0m\u001b[0muntil\u001b[0m\u001b[1;33m(\u001b[0m\u001b[0mEC\u001b[0m\u001b[1;33m.\u001b[0m\u001b[0mpresence_of_element_located\u001b[0m\u001b[1;33m(\u001b[0m\u001b[1;33m(\u001b[0m\u001b[0mBy\u001b[0m\u001b[1;33m.\u001b[0m\u001b[0mCLASS_NAME\u001b[0m\u001b[1;33m,\u001b[0m \u001b[0mselector_name\u001b[0m\u001b[1;33m)\u001b[0m\u001b[1;33m)\u001b[0m\u001b[1;33m)\u001b[0m\u001b[1;33m\u001b[0m\u001b[1;33m\u001b[0m\u001b[0m\n\u001b[0m\u001b[0;32m      6\u001b[0m             \u001b[1;32mif\u001b[0m \u001b[0mmyElem\u001b[0m \u001b[1;32mis\u001b[0m \u001b[1;32mnot\u001b[0m \u001b[1;32mNone\u001b[0m\u001b[1;33m:\u001b[0m\u001b[1;33m\u001b[0m\u001b[1;33m\u001b[0m\u001b[0m\n\u001b[0;32m      7\u001b[0m                 \u001b[1;32mbreak\u001b[0m\u001b[1;33m\u001b[0m\u001b[1;33m\u001b[0m\u001b[0m\n",
      "\u001b[1;32m~\\miniconda3\\envs\\min_ds-env\\lib\\site-packages\\selenium\\webdriver\\support\\wait.py\u001b[0m in \u001b[0;36muntil\u001b[1;34m(self, method, message)\u001b[0m\n\u001b[0;32m     69\u001b[0m         \u001b[1;32mwhile\u001b[0m \u001b[1;32mTrue\u001b[0m\u001b[1;33m:\u001b[0m\u001b[1;33m\u001b[0m\u001b[1;33m\u001b[0m\u001b[0m\n\u001b[0;32m     70\u001b[0m             \u001b[1;32mtry\u001b[0m\u001b[1;33m:\u001b[0m\u001b[1;33m\u001b[0m\u001b[1;33m\u001b[0m\u001b[0m\n\u001b[1;32m---> 71\u001b[1;33m                 \u001b[0mvalue\u001b[0m \u001b[1;33m=\u001b[0m \u001b[0mmethod\u001b[0m\u001b[1;33m(\u001b[0m\u001b[0mself\u001b[0m\u001b[1;33m.\u001b[0m\u001b[0m_driver\u001b[0m\u001b[1;33m)\u001b[0m\u001b[1;33m\u001b[0m\u001b[1;33m\u001b[0m\u001b[0m\n\u001b[0m\u001b[0;32m     72\u001b[0m                 \u001b[1;32mif\u001b[0m \u001b[0mvalue\u001b[0m\u001b[1;33m:\u001b[0m\u001b[1;33m\u001b[0m\u001b[1;33m\u001b[0m\u001b[0m\n\u001b[0;32m     73\u001b[0m                     \u001b[1;32mreturn\u001b[0m \u001b[0mvalue\u001b[0m\u001b[1;33m\u001b[0m\u001b[1;33m\u001b[0m\u001b[0m\n",
      "\u001b[1;32m~\\miniconda3\\envs\\min_ds-env\\lib\\site-packages\\selenium\\webdriver\\support\\expected_conditions.py\u001b[0m in \u001b[0;36m__call__\u001b[1;34m(self, driver)\u001b[0m\n\u001b[0;32m     62\u001b[0m \u001b[1;33m\u001b[0m\u001b[0m\n\u001b[0;32m     63\u001b[0m     \u001b[1;32mdef\u001b[0m \u001b[0m__call__\u001b[0m\u001b[1;33m(\u001b[0m\u001b[0mself\u001b[0m\u001b[1;33m,\u001b[0m \u001b[0mdriver\u001b[0m\u001b[1;33m)\u001b[0m\u001b[1;33m:\u001b[0m\u001b[1;33m\u001b[0m\u001b[1;33m\u001b[0m\u001b[0m\n\u001b[1;32m---> 64\u001b[1;33m         \u001b[1;32mreturn\u001b[0m \u001b[0m_find_element\u001b[0m\u001b[1;33m(\u001b[0m\u001b[0mdriver\u001b[0m\u001b[1;33m,\u001b[0m \u001b[0mself\u001b[0m\u001b[1;33m.\u001b[0m\u001b[0mlocator\u001b[0m\u001b[1;33m)\u001b[0m\u001b[1;33m\u001b[0m\u001b[1;33m\u001b[0m\u001b[0m\n\u001b[0m\u001b[0;32m     65\u001b[0m \u001b[1;33m\u001b[0m\u001b[0m\n\u001b[0;32m     66\u001b[0m \u001b[1;33m\u001b[0m\u001b[0m\n",
      "\u001b[1;32m~\\miniconda3\\envs\\min_ds-env\\lib\\site-packages\\selenium\\webdriver\\support\\expected_conditions.py\u001b[0m in \u001b[0;36m_find_element\u001b[1;34m(driver, by)\u001b[0m\n\u001b[0;32m    413\u001b[0m         \u001b[1;32mraise\u001b[0m \u001b[0me\u001b[0m\u001b[1;33m\u001b[0m\u001b[1;33m\u001b[0m\u001b[0m\n\u001b[0;32m    414\u001b[0m     \u001b[1;32mexcept\u001b[0m \u001b[0mWebDriverException\u001b[0m \u001b[1;32mas\u001b[0m \u001b[0me\u001b[0m\u001b[1;33m:\u001b[0m\u001b[1;33m\u001b[0m\u001b[1;33m\u001b[0m\u001b[0m\n\u001b[1;32m--> 415\u001b[1;33m         \u001b[1;32mraise\u001b[0m \u001b[0me\u001b[0m\u001b[1;33m\u001b[0m\u001b[1;33m\u001b[0m\u001b[0m\n\u001b[0m\u001b[0;32m    416\u001b[0m \u001b[1;33m\u001b[0m\u001b[0m\n\u001b[0;32m    417\u001b[0m \u001b[1;33m\u001b[0m\u001b[0m\n",
      "\u001b[1;32m~\\miniconda3\\envs\\min_ds-env\\lib\\site-packages\\selenium\\webdriver\\support\\expected_conditions.py\u001b[0m in \u001b[0;36m_find_element\u001b[1;34m(driver, by)\u001b[0m\n\u001b[0;32m    409\u001b[0m     if thrown.\"\"\"\n\u001b[0;32m    410\u001b[0m     \u001b[1;32mtry\u001b[0m\u001b[1;33m:\u001b[0m\u001b[1;33m\u001b[0m\u001b[1;33m\u001b[0m\u001b[0m\n\u001b[1;32m--> 411\u001b[1;33m         \u001b[1;32mreturn\u001b[0m \u001b[0mdriver\u001b[0m\u001b[1;33m.\u001b[0m\u001b[0mfind_element\u001b[0m\u001b[1;33m(\u001b[0m\u001b[1;33m*\u001b[0m\u001b[0mby\u001b[0m\u001b[1;33m)\u001b[0m\u001b[1;33m\u001b[0m\u001b[1;33m\u001b[0m\u001b[0m\n\u001b[0m\u001b[0;32m    412\u001b[0m     \u001b[1;32mexcept\u001b[0m \u001b[0mNoSuchElementException\u001b[0m \u001b[1;32mas\u001b[0m \u001b[0me\u001b[0m\u001b[1;33m:\u001b[0m\u001b[1;33m\u001b[0m\u001b[1;33m\u001b[0m\u001b[0m\n\u001b[0;32m    413\u001b[0m         \u001b[1;32mraise\u001b[0m \u001b[0me\u001b[0m\u001b[1;33m\u001b[0m\u001b[1;33m\u001b[0m\u001b[0m\n",
      "\u001b[1;32m~\\miniconda3\\envs\\min_ds-env\\lib\\site-packages\\selenium\\webdriver\\remote\\webdriver.py\u001b[0m in \u001b[0;36mfind_element\u001b[1;34m(self, by, value)\u001b[0m\n\u001b[0;32m    974\u001b[0m                 \u001b[0mby\u001b[0m \u001b[1;33m=\u001b[0m \u001b[0mBy\u001b[0m\u001b[1;33m.\u001b[0m\u001b[0mCSS_SELECTOR\u001b[0m\u001b[1;33m\u001b[0m\u001b[1;33m\u001b[0m\u001b[0m\n\u001b[0;32m    975\u001b[0m                 \u001b[0mvalue\u001b[0m \u001b[1;33m=\u001b[0m \u001b[1;34m'[name=\"%s\"]'\u001b[0m \u001b[1;33m%\u001b[0m \u001b[0mvalue\u001b[0m\u001b[1;33m\u001b[0m\u001b[1;33m\u001b[0m\u001b[0m\n\u001b[1;32m--> 976\u001b[1;33m         return self.execute(Command.FIND_ELEMENT, {\n\u001b[0m\u001b[0;32m    977\u001b[0m             \u001b[1;34m'using'\u001b[0m\u001b[1;33m:\u001b[0m \u001b[0mby\u001b[0m\u001b[1;33m,\u001b[0m\u001b[1;33m\u001b[0m\u001b[1;33m\u001b[0m\u001b[0m\n\u001b[0;32m    978\u001b[0m             'value': value})['value']\n",
      "\u001b[1;32m~\\miniconda3\\envs\\min_ds-env\\lib\\site-packages\\selenium\\webdriver\\remote\\webdriver.py\u001b[0m in \u001b[0;36mexecute\u001b[1;34m(self, driver_command, params)\u001b[0m\n\u001b[0;32m    319\u001b[0m         \u001b[0mresponse\u001b[0m \u001b[1;33m=\u001b[0m \u001b[0mself\u001b[0m\u001b[1;33m.\u001b[0m\u001b[0mcommand_executor\u001b[0m\u001b[1;33m.\u001b[0m\u001b[0mexecute\u001b[0m\u001b[1;33m(\u001b[0m\u001b[0mdriver_command\u001b[0m\u001b[1;33m,\u001b[0m \u001b[0mparams\u001b[0m\u001b[1;33m)\u001b[0m\u001b[1;33m\u001b[0m\u001b[1;33m\u001b[0m\u001b[0m\n\u001b[0;32m    320\u001b[0m         \u001b[1;32mif\u001b[0m \u001b[0mresponse\u001b[0m\u001b[1;33m:\u001b[0m\u001b[1;33m\u001b[0m\u001b[1;33m\u001b[0m\u001b[0m\n\u001b[1;32m--> 321\u001b[1;33m             \u001b[0mself\u001b[0m\u001b[1;33m.\u001b[0m\u001b[0merror_handler\u001b[0m\u001b[1;33m.\u001b[0m\u001b[0mcheck_response\u001b[0m\u001b[1;33m(\u001b[0m\u001b[0mresponse\u001b[0m\u001b[1;33m)\u001b[0m\u001b[1;33m\u001b[0m\u001b[1;33m\u001b[0m\u001b[0m\n\u001b[0m\u001b[0;32m    322\u001b[0m             response['value'] = self._unwrap_value(\n\u001b[0;32m    323\u001b[0m                 response.get('value', None))\n",
      "\u001b[1;32m~\\miniconda3\\envs\\min_ds-env\\lib\\site-packages\\selenium\\webdriver\\remote\\errorhandler.py\u001b[0m in \u001b[0;36mcheck_response\u001b[1;34m(self, response)\u001b[0m\n\u001b[0;32m    240\u001b[0m                 \u001b[0malert_text\u001b[0m \u001b[1;33m=\u001b[0m \u001b[0mvalue\u001b[0m\u001b[1;33m[\u001b[0m\u001b[1;34m'alert'\u001b[0m\u001b[1;33m]\u001b[0m\u001b[1;33m.\u001b[0m\u001b[0mget\u001b[0m\u001b[1;33m(\u001b[0m\u001b[1;34m'text'\u001b[0m\u001b[1;33m)\u001b[0m\u001b[1;33m\u001b[0m\u001b[1;33m\u001b[0m\u001b[0m\n\u001b[0;32m    241\u001b[0m             \u001b[1;32mraise\u001b[0m \u001b[0mexception_class\u001b[0m\u001b[1;33m(\u001b[0m\u001b[0mmessage\u001b[0m\u001b[1;33m,\u001b[0m \u001b[0mscreen\u001b[0m\u001b[1;33m,\u001b[0m \u001b[0mstacktrace\u001b[0m\u001b[1;33m,\u001b[0m \u001b[0malert_text\u001b[0m\u001b[1;33m)\u001b[0m\u001b[1;33m\u001b[0m\u001b[1;33m\u001b[0m\u001b[0m\n\u001b[1;32m--> 242\u001b[1;33m         \u001b[1;32mraise\u001b[0m \u001b[0mexception_class\u001b[0m\u001b[1;33m(\u001b[0m\u001b[0mmessage\u001b[0m\u001b[1;33m,\u001b[0m \u001b[0mscreen\u001b[0m\u001b[1;33m,\u001b[0m \u001b[0mstacktrace\u001b[0m\u001b[1;33m)\u001b[0m\u001b[1;33m\u001b[0m\u001b[1;33m\u001b[0m\u001b[0m\n\u001b[0m\u001b[0;32m    243\u001b[0m \u001b[1;33m\u001b[0m\u001b[0m\n\u001b[0;32m    244\u001b[0m     \u001b[1;32mdef\u001b[0m \u001b[0m_value_or_default\u001b[0m\u001b[1;33m(\u001b[0m\u001b[0mself\u001b[0m\u001b[1;33m,\u001b[0m \u001b[0mobj\u001b[0m\u001b[1;33m,\u001b[0m \u001b[0mkey\u001b[0m\u001b[1;33m,\u001b[0m \u001b[0mdefault\u001b[0m\u001b[1;33m)\u001b[0m\u001b[1;33m:\u001b[0m\u001b[1;33m\u001b[0m\u001b[1;33m\u001b[0m\u001b[0m\n",
      "\u001b[1;31mWebDriverException\u001b[0m: Message: chrome not reachable\n  (Session info: chrome=95.0.4638.69)\n"
     ]
    }
   ],
   "source": [
    "set_data_user = get_all_user_data(driver, set_link)"
   ]
  },
  {
   "cell_type": "code",
   "execution_count": null,
   "id": "122542bd",
   "metadata": {},
   "outputs": [],
   "source": [
    "#write set data user to file <'user.csv'>\n",
    "df = pd.DataFrame(set_data_user,columns=['User ID', \n",
    "                                         'User Name', \n",
    "                                         'User Link', \n",
    "                                         'Playlist Count', \n",
    "                                         'Followers', \n",
    "                                         'Following', \n",
    "                                         'Track Count', \n",
    "                                         'Like Tracks'])\n",
    "df.to_csv('userHTML.csv', index=False, sep='\\t', encoding='utf-8')"
   ]
  },
  {
   "cell_type": "code",
   "execution_count": null,
   "id": "5426b1b3",
   "metadata": {},
   "outputs": [],
   "source": [
    "def getTracks(set_user):\n",
    "    driver = webdriver.Chrome()\n",
    "    set_tracks = set()\n",
    "    set_link_tracks = set()\n",
    "    for i, item in enumerate(set_user):\n",
    "        temp = item + \"/tracks\"\n",
    "        driver.get(temp)\n",
    "\n",
    "        wait(driver, selector_name='sc-link-primary soundTitle__title sc-link-dark sc-text-h4')\n",
    "\n",
    "        scroll(driver)\n",
    "\n",
    "        html = driver.page_source\n",
    "        soup = BeautifulSoup(html, \"html.parser\")\n",
    "        link_tracks = soup.find_all('a', {'class': 'sc-link-primary soundTitle__title sc-link-dark sc-text-h4'})\n",
    "\n",
    "        for link in link_tracks:\n",
    "            string_temp = 'https://soundcloud.com'\n",
    "            string_temp = string_temp + link['href']\n",
    "            set_link_tracks.add(string_temp)\n",
    "        for link in set_link_tracks:\n",
    "            driver.get(link)\n",
    "            wait(driver, selector_name='sc-ministats-item')\n",
    "            soup = BeautifulSoup(driver.page_source, \"html.parser\")\n",
    "            id_track = soup.find('meta', {'property': 'twitter:app:url:googleplay'})['content'].split(':')[-1]\n",
    "            name_track = soup.find('h1', {'class': 'soundTitle__title sc-font g-type-shrinkwrap-inline g-type-shrinkwrap-large-primary theme-dark'}).getText().strip()\n",
    "            time_release_track = soup.find('time', {'class': 'relativeTime'})['title']\n",
    "            info_track = soup.find_all('span', {'aria-hidden': 'true'})\n",
    "            plays = info_track[1].getText()\n",
    "            likes = info_track[2].getText()\n",
    "            reposts = info_track[3].getText()\n",
    "\n",
    "            tup = [item[0], id_track, name_track, time_release_track, plays, likes, reposts]\n",
    "            set_tracks.add(tup)\n",
    "        printProgressBar(i, len(set_user), \"Processing\")\n",
    "    return set_tracks\n"
   ]
  },
  {
   "cell_type": "code",
   "execution_count": null,
   "id": "c84e17ff",
   "metadata": {},
   "outputs": [],
   "source": [
    "set_tracks = getTracks(set_link)"
   ]
  },
  {
   "cell_type": "code",
   "execution_count": null,
   "id": "035c64c6",
   "metadata": {},
   "outputs": [],
   "source": [
    "df = pd.DataFrame(set_tracks, columns=['User ID', \n",
    "                                          'Tracks ID', \n",
    "                                          'Tracks Name', \n",
    "                                          'Time_Release_Track', \n",
    "                                          'Plays', \n",
    "                                          'Likes', \n",
    "                                          'Repost'])\n",
    "df.to_csv('trackHTML.csv', index=False, sep='\\t', encoding='utf-8')"
   ]
  },
  {
   "cell_type": "code",
   "execution_count": null,
   "id": "c213b4b3",
   "metadata": {},
   "outputs": [],
   "source": [
    "#Print All tracks from one persion into file 'playlists.csv'"
   ]
  },
  {
   "cell_type": "code",
   "execution_count": null,
   "id": "86e3a3d2",
   "metadata": {},
   "outputs": [],
   "source": [
    "# Playlist - parse html func start\n",
    "def getTracksFromPlaylists(playlist_url, optional):\n",
    "    driver = webdriver.Chrome()\n",
    "    driver.get(playlist_url)\n",
    "    scroll(driver)\n",
    "    html = driver.page_source\n",
    "    soup = BeautifulSoup(html, \"html.parser\")\n",
    "\n",
    "    user_name = soup.find(\"a\", {\"class\": \"userBadge__usernameLink\"}).getText().strip()\n",
    "    playlist_title = soup.find(\"h1\", {\"class\": \"soundTitle__title\"}).getText().strip()\n",
    "    num_of_track = soup.find(\"div\", {\"class\": \"genericTrackCount__title\"}).getText()\n",
    "    create_date = soup.find(\"time\", {\"class\": \"relativeTime\"})[\"title\"]\n",
    "    datas = soup.find_all(\"span\", {\"aria-hidden\": \"true\"})\n",
    "\n",
    "    likes = datas[1].getText()\n",
    "    reports = datas[2].getText()\n",
    "\n",
    "    track_list = []\n",
    "    track_str = []\n",
    "\n",
    "    if optional == 0:\n",
    "        track_items = soup.find_all(\"div\", {\"class\": \"trackItem__content\"})\n",
    "\n",
    "        for track_item in track_items:\n",
    "            track_name = track_item.getText();\n",
    "            track_list.append(track_name.strip().replace(\"\\n\", \" \"))\n",
    "    elif optional == 1:\n",
    "        track_items = soup.find_all(\"a\", {\"class\": \"trackItem__trackTitle\"})\n",
    "        track_urls = []\n",
    "\n",
    "        for track_item in track_items:\n",
    "            track_urls.append('https://soundcloud.com' + track_item['href'])\n",
    "\n",
    "        for url in track_urls:\n",
    "            driver = webdriver.Chrome()\n",
    "            driver.get(url)\n",
    "            html = driver.page_source\n",
    "            soup = BeautifulSoup(html, \"html.parser\")\n",
    "\n",
    "            meta = soup.find(\"meta\", property=\"twitter:app:url:iphone\")\n",
    "            track_list.append(meta[\"content\"].split(':')[-1])\n",
    "\n",
    "    for track_item in track_list:\n",
    "        track_str.append(track_item)\n",
    "    track_str = ','.join(track_str)\n",
    "    if track_str == '':\n",
    "        track_str = 'None'\n",
    "\n",
    "    return user_name, playlist_title, num_of_track, create_date, likes, reports, track_str\n"
   ]
  },
  {
   "cell_type": "code",
   "execution_count": null,
   "id": "394e9bd0",
   "metadata": {},
   "outputs": [],
   "source": [
    "def getPlaylistURLs(user_playlist_url):\n",
    "    url = user_playlist_url\n",
    "    driver = webdriver.Chrome()\n",
    "    driver.get(url)\n",
    "    scroll(driver)\n",
    "    html = driver.page_source\n",
    "    soup = BeautifulSoup(html, \"html.parser\")\n",
    "\n",
    "    contents = soup.find_all(\"a\", {\"class\": \"sound__coverArt\"})\n",
    "    urls = []\n",
    "\n",
    "    for content in contents:\n",
    "        urls.append('https://soundcloud.com' + content['href'])\n",
    "\n",
    "    return urls"
   ]
  },
  {
   "cell_type": "code",
   "execution_count": null,
   "id": "67cde7f8",
   "metadata": {},
   "outputs": [],
   "source": [
    "def getPlaylists(user_playlist_urls, optional):\n",
    "    playlist_lst = []\n",
    "\n",
    "    for i, user_url in enumerate(user_playlist_urls):\n",
    "        playlist_urls = getPlaylistURLs(user_url + '/sets')\n",
    "        for playlist_url in playlist_urls:\n",
    "            playlist_lst.append(getTracksFromPlaylists(playlist_url, optional))\n",
    "        printProgressBar(i, len(user_playlist_urls), \"Processing\")\n",
    "    return playlist_lst\n",
    "# Playlist - parse html func end"
   ]
  },
  {
   "cell_type": "code",
   "execution_count": null,
   "id": "6665f166",
   "metadata": {},
   "outputs": [],
   "source": [
    "#Print All Playlist into file 'playlists.csv'"
   ]
  }
 ],
 "metadata": {
  "kernelspec": {
   "display_name": "Python 3 (ipykernel)",
   "language": "python",
   "name": "python3"
  },
  "language_info": {
   "codemirror_mode": {
    "name": "ipython",
    "version": 3
   },
   "file_extension": ".py",
   "mimetype": "text/x-python",
   "name": "python",
   "nbconvert_exporter": "python",
   "pygments_lexer": "ipython3",
   "version": "3.9.2"
  }
 },
 "nbformat": 4,
 "nbformat_minor": 5
}
