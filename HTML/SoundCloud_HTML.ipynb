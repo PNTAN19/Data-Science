{
 "cells": [
  {
   "cell_type": "code",
   "execution_count": 1,
   "id": "46b89ab2",
   "metadata": {},
   "outputs": [],
   "source": [
    "import requests\n",
    "import json\n",
    "from selenium import webdriver\n",
    "from bs4 import BeautifulSoup\n",
    "import time\n",
    "from selenium.webdriver.support.ui import WebDriverWait\n",
    "from selenium.webdriver.support import expected_conditions as EC\n",
    "from selenium.webdriver.common.by import By\n",
    "from selenium.common.exceptions import TimeoutException\n",
    "import pandas as pd\n"
   ]
  },
  {
   "cell_type": "code",
   "execution_count": 2,
   "id": "b1fd9788",
   "metadata": {},
   "outputs": [],
   "source": [
    "# wait\n",
    "def wait(driver, selector_name):\n",
    "    while (True):\n",
    "        try:\n",
    "            myElem = WebDriverWait(driver, 5).until(EC.presence_of_element_located((By.CLASS_NAME, selector_name)))\n",
    "            if myElem is not None:\n",
    "                break\n",
    "        except TimeoutException:\n",
    "            break"
   ]
  },
  {
   "cell_type": "code",
   "execution_count": 3,
   "id": "bea9d627",
   "metadata": {},
   "outputs": [],
   "source": [
    "# scroll\n",
    "def scroll(driver):\n",
    "    # Get scroll height\n",
    "    last_height = driver.execute_script(\"return document.body.scrollHeight\")\n",
    "\n",
    "    while True:\n",
    "        # Scroll down to bottom\n",
    "        driver.execute_script(\"window.scrollTo(0, document.body.scrollHeight);\")\n",
    "\n",
    "        # Wait to load page\n",
    "        time.sleep(2)\n",
    "\n",
    "        # Calculate new scroll height and compare with last scroll height\n",
    "        new_height = driver.execute_script(\"return document.body.scrollHeight\")\n",
    "        if new_height == last_height:\n",
    "            break\n",
    "        last_height = new_height"
   ]
  },
  {
   "cell_type": "code",
   "execution_count": 4,
   "id": "a0ec6865",
   "metadata": {},
   "outputs": [],
   "source": [
    "main_url = \"https://soundcloud.com/discover\"\n",
    "set_link = []"
   ]
  },
  {
   "cell_type": "code",
   "execution_count": 5,
   "id": "16af5c1d",
   "metadata": {},
   "outputs": [],
   "source": [
    "import sys\n",
    "\n",
    "def printProgressBar(i,max,postText):\n",
    "    n_bar =10 #size of progress bar\n",
    "    j= i/max\n",
    "    sys.stdout.write('\\r')\n",
    "    sys.stdout.write(f\"[{'=' * int(n_bar * j):{n_bar}s}] {int(100 * j)}%  {postText}\")\n",
    "    sys.stdout.flush()"
   ]
  },
  {
   "cell_type": "code",
   "execution_count": 6,
   "id": "c85c6c63",
   "metadata": {},
   "outputs": [],
   "source": [
    "# Drive the chrome to url link and return soup with html parser\n",
    "def drive_to_url_page(driver, url):\n",
    "    driver.get(url)\n",
    "    scroll(driver)\n",
    "    html = driver.page_source\n",
    "    soup = BeautifulSoup(html, \"html.parser\")\n",
    "    return soup"
   ]
  },
  {
   "cell_type": "code",
   "execution_count": 7,
   "id": "9c75e2f3",
   "metadata": {},
   "outputs": [
    {
     "name": "stdout",
     "output_type": "stream",
     "text": [
      "[========= ] 96%  '%'"
     ]
    }
   ],
   "source": [
    "#Driver to soundcloud website\n",
    "driver = webdriver.Chrome()\n",
    "soup = drive_to_url_page(driver, main_url)\n",
    "links = soup.find_all(\"a\", {\"class\": \"sc-link-secondary sc-link-light playableTile__usernameHeading audibleTile__usernameHeading sc-truncate sc-text-h4\"})\n",
    "for i, item in enumerate(links):\n",
    "    user_url = \"https://soundcloud.com\" + item.get(\"href\")\n",
    "    if user_url not in set_link:\n",
    "        set_link.append(user_url)\n",
    "    if len(set_link) > 1000:\n",
    "            break\n",
    "    \n",
    "    printProgressBar(i, len(links), \"'%'\")\n",
    "#Get the all person in set_link with his/her following information\n",
    "for i in range(0, len(set_link) - 1):\n",
    "    if len(set_link) > 1000:\n",
    "            break\n",
    "    following_url = set_link[i] + \"/following\"\n",
    "    soup = drive_to_url_page(driver, following_url)\n",
    "    link_following_user = soup.find_all(\"a\", {\"class\":\"userBadgeListItem__heading sc-type-small sc-text-h4 sc-link-dark sc-link-primary sc-truncate\"})\n",
    "    for item in link_following_user:\n",
    "        if len(set_link) > 1000:\n",
    "            break\n",
    "        user_url = \"https://soundcloud.com\" + item.get(\"href\")\n",
    "        if user_url not in set_link:\n",
    "            set_link.append(user_url)\n",
    "driver.close()"
   ]
  },
  {
   "cell_type": "code",
   "execution_count": 8,
   "id": "512266f5",
   "metadata": {},
   "outputs": [
    {
     "data": {
      "text/plain": [
       "1001"
      ]
     },
     "execution_count": 8,
     "metadata": {},
     "output_type": "execute_result"
    }
   ],
   "source": [
    "len(set_link)"
   ]
  },
  {
   "cell_type": "code",
   "execution_count": 9,
   "id": "bb0a1f5f",
   "metadata": {},
   "outputs": [],
   "source": [
    "#Count all playlist in user_url/sets (count by <li> tag)\n",
    "def count_playlist_in_one_person(driver, url_of_user):\n",
    "    playlist_url = str(url_of_user) + '/sets'\n",
    "    soup = drive_to_url_page(driver, playlist_url)\n",
    "    playlist_count = soup.find_all(\"li\", {\"class\":\"soundList__item\"})\n",
    "    return len(playlist_count)"
   ]
  },
  {
   "cell_type": "code",
   "execution_count": 10,
   "id": "a1b24128",
   "metadata": {},
   "outputs": [],
   "source": [
    "def get_all_user_data(driver, set_link):\n",
    "    driver = webdriver.Chrome()    \n",
    "    #Get user id in SoundCloud/Discover by get meta tag in HEAD html\n",
    "    set_data_user = []\n",
    "    for i, link_user in enumerate(set_link):\n",
    "        one_data_user = []\n",
    "        driver.get(link_user)\n",
    "        wait(driver, 'infoStats__value sc-font-light')\n",
    "        html = driver.page_source\n",
    "        soup = BeautifulSoup(html, \"html.parser\")\n",
    "        \n",
    "        #Get USER INFO\n",
    "        id_user = soup.find(\"meta\", property=\"twitter:app:url:googleplay\")\n",
    "        name_user = soup.find(\"meta\", property=\"og:title\")\n",
    "        url_user = soup.find(\"meta\", property=\"og:url\")\n",
    "        info_start = soup.find_all(\"div\", {\"class\":\"infoStats__value sc-font-light\"})\n",
    "        \n",
    "        likeTrack_count = soup.find_all(\"span\", {\"class\":\"sidebarHeader__actualTitle sc-text-h3\"})\n",
    "        playlist_count = count_playlist_in_one_person(driver, link_user)\n",
    "        # more_info = soup.find(\"h3\", {\"class\": \"profileHeaderInfo__additional g-type-shrinkwrap-block theme-dark g-type-shrinkwrap-large-secondary sc-mt-1x\"}).getText().Strip()\n",
    "\n",
    "        #Add to one_data_user set\n",
    "        one_data_user.append(id_user[\"content\"].strip(\"soundcloud://users:\"))\n",
    "        one_data_user.append(name_user[\"content\"])\n",
    "        one_data_user.append(url_user[\"content\"])\n",
    "        one_data_user.append(playlist_count)\n",
    "        # one_data_user.append(more_info)\n",
    "        one_data_user.append(info_start[0].getText())   #followers\n",
    "        one_data_user.append(info_start[1].getText())   #following\n",
    "        one_data_user.append(info_start[2].getText())   #Track count\n",
    "        one_data_user.append(likeTrack_count[1].getText().strip(' likes'))\n",
    "        #Add one data user to set data \n",
    "        set_data_user.append(one_data_user)\n",
    "        \n",
    "        printProgressBar(i, len(set_link), \"'%'\")\n",
    "        \n",
    "    driver.close()\n",
    "    return set_data_user"
   ]
  },
  {
   "cell_type": "code",
   "execution_count": 11,
   "id": "7aa3042d",
   "metadata": {},
   "outputs": [
    {
     "name": "stdout",
     "output_type": "stream",
     "text": [
      "[========= ] 99%  '%'"
     ]
    },
    {
     "data": {
      "text/plain": [
       "1001"
      ]
     },
     "execution_count": 11,
     "metadata": {},
     "output_type": "execute_result"
    }
   ],
   "source": [
    "set_data_user = get_all_user_data(driver, set_link)\n",
    "len(set_data_user)"
   ]
  },
  {
   "cell_type": "code",
   "execution_count": 12,
   "id": "122542bd",
   "metadata": {},
   "outputs": [],
   "source": [
    "#write set data user to file <'user.csv'>\n",
    "df = pd.DataFrame(set_data_user,columns=['User ID', \n",
    "                                         'User Name', \n",
    "                                         'User Link', \n",
    "                                         'Playlist Count', \n",
    "                                         'Followers', \n",
    "                                         'Following', \n",
    "                                         'Track Count', \n",
    "                                         'Like Tracks'])\n",
    "df.to_csv('userHTML.csv', index=False, sep='\\t', encoding='utf-8')"
   ]
  },
  {
   "cell_type": "code",
   "execution_count": 13,
   "id": "68e9d61d",
   "metadata": {},
   "outputs": [],
   "source": [
    "set_tracks = []"
   ]
  },
  {
   "cell_type": "code",
   "execution_count": 14,
   "id": "5426b1b3",
   "metadata": {},
   "outputs": [],
   "source": [
    "def getTracks(set_user):\n",
    "    driver = webdriver.Chrome()\n",
    "    set_tracks = []\n",
    "    for i, item in enumerate(set_user):\n",
    "        temp = item + \"/tracks\"\n",
    "        driver.get(temp)\n",
    "\n",
    "        wait(driver, selector_name='infoStats__value sc-font-light')\n",
    "\n",
    "        scroll(driver)\n",
    "\n",
    "        html = driver.page_source\n",
    "        soup = BeautifulSoup(html, \"html.parser\")\n",
    "        user_id = soup.find('meta', {'property': 'twitter:app:url:googleplay'})['content'].split(':')[-1]\n",
    "        link_tracks = soup.find_all('a', {'class': 'sc-link-primary soundTitle__title sc-link-dark sc-text-h4'})\n",
    "        link_tracks = link_tracks[:-3]\n",
    "        info_start = soup.find_all(\"div\", {\"class\": \"infoStats__value sc-font-light\"})\n",
    "        track_count = info_start[2].getText()\n",
    "        if track_count != '0':\n",
    "            for link in link_tracks:\n",
    "                string_temp = 'https://soundcloud.com'\n",
    "                string_temp = string_temp + link['href']\n",
    "                driver.get(string_temp)\n",
    "                wait(driver, selector_name='sc-ministats-item')\n",
    "                soup = BeautifulSoup(driver.page_source, \"html.parser\")\n",
    "                id_track = soup.find('meta', {'property': 'twitter:app:url:googleplay'})['content'].split(':')[-1]\n",
    "                name_track = soup.find('h1', {'class': 'soundTitle__title sc-font g-type-shrinkwrap-inline g-type-shrinkwrap-large-primary theme-dark'}).getText().strip()\n",
    "                time_release_track = soup.find('time', {'class': 'relativeTime'})['title']\n",
    "                info_track = soup.find_all('span', {'aria-hidden': 'true'})\n",
    "                plays = info_track[1].getText()\n",
    "                likes = info_track[2].getText()\n",
    "                reposts = info_track[3].getText()\n",
    "\n",
    "                tup = [user_id, id_track, name_track, time_release_track, plays, likes, reposts]\n",
    "                set_tracks.append(tup)\n",
    "        else:\n",
    "            set_tracks.append([user_id, \"None\", \"None\", \"None\", \"None\", \"None\", \"None\"])\n",
    "        \n",
    "        printProgressBar(i, len(set_user), \"'%'\")\n",
    "    driver.close()\n",
    "    return set_tracks"
   ]
  },
  {
   "cell_type": "code",
   "execution_count": 15,
   "id": "c84e17ff",
   "metadata": {},
   "outputs": [
    {
     "name": "stdout",
     "output_type": "stream",
     "text": [
      "[========= ] 94%  '%'"
     ]
    },
    {
     "data": {
      "text/plain": [
       "76"
      ]
     },
     "execution_count": 15,
     "metadata": {},
     "output_type": "execute_result"
    }
   ],
   "source": [
    "set_tracks = getTracks(set_link)\n",
    "len(set_tracks)"
   ]
  },
  {
   "cell_type": "code",
   "execution_count": 16,
   "id": "035c64c6",
   "metadata": {},
   "outputs": [],
   "source": [
    "df = pd.DataFrame(set_tracks, columns=['User ID',\n",
    "                                      'Tracks ID',\n",
    "                                      'Tracks Name',\n",
    "                                      'Time_Release_Track',\n",
    "                                      'Plays',\n",
    "                                      'Likes',\n",
    "                                      'Repost'])\n",
    "df.to_csv('tracksHTML.csv', index=False, sep='\\t', encoding='utf-8')"
   ]
  },
  {
   "cell_type": "code",
   "execution_count": 17,
   "id": "476f289f",
   "metadata": {},
   "outputs": [],
   "source": [
    "#Get all tracks in playlist "
   ]
  },
  {
   "cell_type": "code",
   "execution_count": 18,
   "id": "3cf25315",
   "metadata": {},
   "outputs": [],
   "source": [
    "set_playlists = []"
   ]
  },
  {
   "cell_type": "code",
   "execution_count": 55,
   "id": "86e3a3d2",
   "metadata": {},
   "outputs": [],
   "source": [
    "def getTracksFromPlaylists(playlist_url, optional):\n",
    "    driver = webdriver.Chrome()\n",
    "    driver.get(playlist_url)\n",
    "    wait(driver, selector_name='trackItem__trackTitle')\n",
    "    scroll(driver)\n",
    "    html = driver.page_source\n",
    "    soup = BeautifulSoup(html, \"html.parser\")\n",
    "\n",
    "    user_name = soup.find(\"a\", {\"class\": \"userBadge__usernameLink\"}).getText().strip()\n",
    "    playlist_title = soup.find(\"h1\", {\"class\": \"soundTitle__title\"}).getText().strip()\n",
    "    num_of_track = soup.find(\"div\", {\"class\": \"genericTrackCount__title\"}).getText()\n",
    "    create_date = soup.find(\"time\", {\"class\": \"relativeTime\"})[\"title\"]\n",
    "    datas = soup.find_all(\"span\", {\"aria-hidden\": \"true\"})\n",
    "\n",
    "    likes = datas[1].getText()\n",
    "    reports = datas[2].getText()\n",
    "\n",
    "    track_list = []\n",
    "    track_str = []\n",
    "\n",
    "    if optional == 0:\n",
    "        track_items = soup.find_all(\"a\", {\"class\": \"trackItem__trackTitle sc-link-dark sc-link-primary sc-font-light\"})\n",
    "        for track_item in track_items:\n",
    "            track_name = 'https://soundcloud.com' + track_item['href']\n",
    "            track_list.append(track_name.strip().replace(\"\\n\", \" \"))\n",
    "    elif optional == 1:\n",
    "        track_items = soup.find_all(\"a\", {\"class\": \"trackItem__trackTitle\"})\n",
    "        track_urls = []\n",
    "\n",
    "        for track_item in track_items:\n",
    "            track_urls.append('https://soundcloud.com' + track_item['href'])\n",
    "\n",
    "        for url in track_urls:\n",
    "            driver.get(url)\n",
    "            wait(driver, selector_name='soundTitle__usernameTitleContainer')\n",
    "            html = driver.page_source\n",
    "            soup = BeautifulSoup(html, \"html.parser\")\n",
    "\n",
    "            meta = soup.find(\"meta\", property=\"twitter:app:url:iphone\")\n",
    "            track_list.append(meta[\"content\"].split(':')[-1])\n",
    "\n",
    "    track_str = ','.join(track_list)\n",
    "    if track_str == '':\n",
    "        track_str = 'None'\n",
    "    \n",
    "    driver.close()\n",
    "    return [user_name, playlist_title, num_of_track, create_date, likes, reports, track_str]"
   ]
  },
  {
   "cell_type": "code",
   "execution_count": 56,
   "id": "394e9bd0",
   "metadata": {},
   "outputs": [],
   "source": [
    "def getPlaylistURLs(user_playlist_url):\n",
    "    driver = webdriver.Chrome()\n",
    "    driver.get(user_playlist_url)\n",
    "    scroll(driver)\n",
    "    html = driver.page_source\n",
    "    soup = BeautifulSoup(html, \"html.parser\")\n",
    "\n",
    "    contents = soup.find_all(\"a\", {\"class\": \"sound__coverArt\"})\n",
    "    urls = []\n",
    "\n",
    "    for content in contents:\n",
    "        urls.append('https://soundcloud.com' + content['href'])\n",
    "    \n",
    "    driver.close()\n",
    "    return urls"
   ]
  },
  {
   "cell_type": "code",
   "execution_count": 60,
   "id": "67cde7f8",
   "metadata": {},
   "outputs": [],
   "source": [
    "def getPlaylists(user_playlist_urls, optional):\n",
    "    playlist_lst = []\n",
    "    for i, user_url in enumerate(user_playlist_urls):\n",
    "        driver = webdriver.Chrome()\n",
    "        driver.get(user_url)\n",
    "        html = driver.page_source\n",
    "        soup = BeautifulSoup(html, \"html.parser\")\n",
    "        user_id = soup.find('meta', {'property': 'twitter:app:url:googleplay'})['content'].split(':')[-1]\n",
    "        driver.close()\n",
    "        playlist_urls = getPlaylistURLs(user_url + '/sets')\n",
    "        \n",
    "        for j, playlist_url in enumerate(playlist_urls):\n",
    "            playlist_lst.append([user_id] + getTracksFromPlaylists(playlist_url, optional))\n",
    "            printProgressBar(j, len(playlist_urls), '')\n",
    "        \n",
    "        printProgressBar(i, len(user_playlist_urls), \"'%'\")\n",
    "    return playlist_lst"
   ]
  },
  {
   "cell_type": "code",
   "execution_count": 61,
   "id": "5d0bacf7",
   "metadata": {},
   "outputs": [
    {
     "name": "stdout",
     "output_type": "stream",
     "text": [
      "[========= ] 94%  '%'"
     ]
    },
    {
     "data": {
      "text/plain": [
       "442"
      ]
     },
     "execution_count": 61,
     "metadata": {},
     "output_type": "execute_result"
    }
   ],
   "source": [
    "set_playlists = getPlaylists(set_link, optional=0)\n",
    "len(set_playlists)"
   ]
  },
  {
   "cell_type": "code",
   "execution_count": 63,
   "id": "f3e1b30c",
   "metadata": {},
   "outputs": [],
   "source": [
    "df = pd.DataFrame(set_playlists, columns=['User ID',\n",
    "                                          'User name',\n",
    "                                          'Playlist name',\n",
    "                                          'Track count',\n",
    "                                          'Create at',\n",
    "                                          'Likes count',\n",
    "                                          'Reposts count',\n",
    "                                          'Track list'\n",
    "                                         ])\n",
    "df.to_csv('playlistHTML.csv', index=False, sep='\\t', encoding='utf-8')"
   ]
  }
 ],
 "metadata": {
  "kernelspec": {
   "display_name": "Python 3",
   "language": "python",
   "name": "python3"
  },
  "language_info": {
   "codemirror_mode": {
    "name": "ipython",
    "version": 3
   },
   "file_extension": ".py",
   "mimetype": "text/x-python",
   "name": "python",
   "nbconvert_exporter": "python",
   "pygments_lexer": "ipython3",
   "version": "3.8.8"
  }
 },
 "nbformat": 4,
 "nbformat_minor": 5
}
