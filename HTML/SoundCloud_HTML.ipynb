{
 "cells": [
  {
   "cell_type": "markdown",
   "id": "1480333d",
   "metadata": {},
   "source": [
    "# Import những modules cần cho ĐỒ ÁN 1\n",
    "<h3>Modules list: </h3> <ol>\n",
    "<p><b>json</b>: để lưu dữ liệu từ API <br>\n",
    "<b>requests</b>: dùng để gửi request kéo dữ liệu về <br>\n",
    "<b>selenium</b>: dùng để chạy các file JS của một trang web <br>\n",
    "<b>bs4</b>: để lấy các tag trong HTML của một trang web <br>\n",
    "<b>time</b>: dùng để cho chương trình ngủ 1 khoảng thời gian trước khi tiếp tục <br>\n",
    "<b>pandas</b>: dùng để ghi file csv <br>\n",
    "</p>\n",
    "</ol>"
   ]
  },
  {
   "cell_type": "code",
   "execution_count": 11,
   "id": "46b89ab2",
   "metadata": {},
   "outputs": [],
   "source": [
    "import requests\n",
    "import json\n",
    "from selenium import webdriver\n",
    "from bs4 import BeautifulSoup\n",
    "import time\n",
    "from selenium.webdriver.support.ui import WebDriverWait\n",
    "from selenium.webdriver.support import expected_conditions as EC\n",
    "from selenium.webdriver.common.by import By\n",
    "from selenium.common.exceptions import TimeoutException\n",
    "import pandas as pd\n"
   ]
  },
  {
   "cell_type": "markdown",
   "id": "bb23e755",
   "metadata": {},
   "source": [
    "### Khởi tạo hàm wait \n",
    "<p> Hàm wait có nghĩa đợi cho đến khi lấy được <b> Class name </b> ở trong một tag của HTML </p> "
   ]
  },
  {
   "cell_type": "code",
   "execution_count": 2,
   "id": "b1fd9788",
   "metadata": {},
   "outputs": [],
   "source": [
    "# wait\n",
    "def wait(driver, selector_name):\n",
    "    while (True):\n",
    "        try:\n",
    "            myElem = WebDriverWait(driver, 5).until(EC.presence_of_element_located((By.CLASS_NAME, selector_name)))\n",
    "            if myElem is not None:\n",
    "                break\n",
    "        except TimeoutException:\n",
    "            break"
   ]
  },
  {
   "cell_type": "markdown",
   "id": "64ba5d2a",
   "metadata": {},
   "source": [
    "### Khởi tạo hàm scroll\n",
    "<p> Hàm scroll có nghĩa cuộn thanh tác vụ cho đến <b> cuối <i>đường link</i> của trang web đó </b> </p>"
   ]
  },
  {
   "cell_type": "code",
   "execution_count": 3,
   "id": "bea9d627",
   "metadata": {},
   "outputs": [],
   "source": [
    "# scroll\n",
    "def scroll(driver):\n",
    "    # Get scroll height\n",
    "    last_height = driver.execute_script(\"return document.body.scrollHeight\")\n",
    "\n",
    "    while True:\n",
    "        # Scroll down to bottom\n",
    "        driver.execute_script(\"window.scrollTo(0, document.body.scrollHeight);\")\n",
    "\n",
    "        # Wait to load page\n",
    "        time.sleep(2)\n",
    "\n",
    "        # Calculate new scroll height and compare with last scroll height\n",
    "        new_height = driver.execute_script(\"return document.body.scrollHeight\")\n",
    "        if new_height == last_height:\n",
    "            break\n",
    "        last_height = new_height"
   ]
  },
  {
   "cell_type": "markdown",
   "id": "15fa8805",
   "metadata": {},
   "source": [
    "### Khởi tạo các giá trị \n",
    "<p> Đặt đường link chính của trang web cần lấy thông tin <a href=\"https://soundcloud.com/discover\"> soundcloud/discover </a> </p>\n",
    "<p> Sau đó tạo một mảng dữ liệu 1 chiều để lưu trữ <b> những đường link của người dùng </b> </p>"
   ]
  },
  {
   "cell_type": "code",
   "execution_count": 4,
   "id": "a0ec6865",
   "metadata": {},
   "outputs": [],
   "source": [
    "main_url = \"https://soundcloud.com/discover\"\n",
    "set_link = []"
   ]
  },
  {
   "cell_type": "markdown",
   "id": "a934a7f7",
   "metadata": {},
   "source": [
    "### Khởi tạo hàm printProgressBar \n",
    "<p> Để tạo thuận tiện cho việc qua sát tiến trình khi chạy chương trình lấy dữ liệu như <b> thông tin người dùng, thông tin của track, thông tin của playlist \"%\"</b> </p>"
   ]
  },
  {
   "cell_type": "code",
   "execution_count": 5,
   "id": "16af5c1d",
   "metadata": {},
   "outputs": [],
   "source": [
    "import sys\n",
    "\n",
    "def printProgressBar(i,max,postText):\n",
    "    n_bar =10 #size of progress bar\n",
    "    j= i/max\n",
    "    sys.stdout.write('\\r')\n",
    "    sys.stdout.write(f\"[{'=' * int(n_bar * j):{n_bar}s}] {int(100 * j)}%  {postText}\")\n",
    "    sys.stdout.flush()"
   ]
  },
  {
   "cell_type": "markdown",
   "id": "05a68145",
   "metadata": {},
   "source": [
    "### Khởi tạo hàm drive_to_url_page\n",
    "<p> Hàm <b> drive_to_url_page </b> giúp cho <b><i>driver</i></b> của selenium ( ở đây chúng ta sử dụng là <b>Chrome()</b> ) dịch chuyển đến đường bất kì <b><i>đường link </i></b></p>\n",
    "<p> Sau đó Hàm <b> Scroll </b> sẽ giúp chúng ta lấy nhiều dữ liệu hơn trong HTML </p>"
   ]
  },
  {
   "cell_type": "code",
   "execution_count": 6,
   "id": "c85c6c63",
   "metadata": {},
   "outputs": [],
   "source": [
    "# Drive the chrome to url link and return soup with html parser\n",
    "def drive_to_url_page(driver, url):\n",
    "    driver.get(url)\n",
    "    scroll(driver)\n",
    "    html = driver.page_source\n",
    "    soup = BeautifulSoup(html, \"html.parser\")\n",
    "    return soup"
   ]
  },
  {
   "cell_type": "markdown",
   "id": "66eda9a9",
   "metadata": {},
   "source": [
    "# Khởi động Chrome của selenium\n",
    "<h3> Mục đích để lấy các dữ liệu <i>href</i> ở đây là <b>đường link đẫn đến trang web</b> của người dùng</h3>\n",
    "<ol>\n",
    "<li>Tập <i> set_link </i> được cập nhập liên tục  </li>\n",
    "<li>Sau khi lấy hết <i>href</i> có trong trang chủ chính của <b> SoundCloud</b><ol>\n",
    "<li> Tiếp đến truy cập vào trang web của người dùng từ những đường link của tập <b>set_link</b> </li>\n",
    "<li> Chạy đến thông tin những người dùng đang <b>following</b> để cập nhập thêm vào tập <b>set_link</b></li>\n",
    "\n",
    "</ol>\n",
    "</ol>"
   ]
  },
  {
   "cell_type": "code",
   "execution_count": 7,
   "id": "9c75e2f3",
   "metadata": {},
   "outputs": [
    {
     "name": "stdout",
     "output_type": "stream",
     "text": [
      "[========= ] 96%  '%'"
     ]
    }
   ],
   "source": [
    "#Driver to soundcloud website\n",
    "driver = webdriver.Chrome()\n",
    "soup = drive_to_url_page(driver, main_url)\n",
    "links = soup.find_all(\"a\", {\"class\": \"sc-link-secondary sc-link-light playableTile__usernameHeading audibleTile__usernameHeading sc-truncate sc-text-h4\"})\n",
    "for i, item in enumerate(links):\n",
    "    user_url = \"https://soundcloud.com\" + item.get(\"href\")\n",
    "    if user_url not in set_link:\n",
    "        set_link.append(user_url)\n",
    "    if len(set_link) > 1000:\n",
    "            break\n",
    "    \n",
    "    printProgressBar(i, len(links), \"'%'\")\n",
    "#Get the all person in set_link with his/her following information\n",
    "for i in range(0, len(set_link) - 1):\n",
    "    if len(set_link) > 1000:\n",
    "            break\n",
    "    following_url = set_link[i] + \"/following\"\n",
    "    soup = drive_to_url_page(driver, following_url)\n",
    "    link_following_user = soup.find_all(\"a\", {\"class\":\"userBadgeListItem__heading sc-type-small sc-text-h4 sc-link-dark sc-link-primary sc-truncate\"})\n",
    "    for item in link_following_user:\n",
    "        if len(set_link) > 1000:\n",
    "            break\n",
    "        user_url = \"https://soundcloud.com\" + item.get(\"href\")\n",
    "        if user_url not in set_link:\n",
    "            set_link.append(user_url)\n",
    "driver.close()"
   ]
  },
  {
   "cell_type": "markdown",
   "id": "b0e81253",
   "metadata": {},
   "source": [
    "<h5> Kiểm tra tập dữ liệu xem lấy được bao nhiêu đường link của người dùng</h5>"
   ]
  },
  {
   "cell_type": "code",
   "execution_count": 8,
   "id": "512266f5",
   "metadata": {},
   "outputs": [
    {
     "data": {
      "text/plain": [
       "1001"
      ]
     },
     "execution_count": 8,
     "metadata": {},
     "output_type": "execute_result"
    }
   ],
   "source": [
    "len(set_link)"
   ]
  },
  {
   "cell_type": "markdown",
   "id": "2d20822a",
   "metadata": {},
   "source": [
    "### Khởi tạo hàm count_playlist_in_one_person\n",
    "<p> Mục đích để đếm số lượng playlist của người dùng</p>"
   ]
  },
  {
   "cell_type": "code",
   "execution_count": 9,
   "id": "bb0a1f5f",
   "metadata": {},
   "outputs": [],
   "source": [
    "#Count all playlist in user_url/sets (count by <li> tag)\n",
    "def count_playlist_in_one_person(driver, url_of_user):\n",
    "    playlist_url = str(url_of_user) + '/sets'\n",
    "    soup = drive_to_url_page(driver, playlist_url)\n",
    "    playlist_count = soup.find_all(\"li\", {\"class\":\"soundList__item\"})\n",
    "    return len(playlist_count)"
   ]
  },
  {
   "cell_type": "markdown",
   "id": "da8866d6",
   "metadata": {},
   "source": [
    "# Dự liệu cần từ HTML | Bắt đầu chạy chương trình"
   ]
  },
  {
   "cell_type": "markdown",
   "id": "b0807472",
   "metadata": {},
   "source": [
    "## 1. Thông tin từ người dùng"
   ]
  },
  {
   "cell_type": "markdown",
   "id": "dab102a9",
   "metadata": {},
   "source": [
    "<h3>Khởi tạo hàm get_all_user_data</h3> <br><p> Lấy những dữ liệu cần thiết về bằng sử dụng modules BeautifulSoup</p>\n",
    "<p> Thông tin lấy được từ <b><i>trang web của người dùng</i></b> </p>\n",
    "<ol>\n",
    "<li> ID của người dùng </li>\n",
    "<li> Tên của người dùng </li>\n",
    "<li> URL của người dùng </li>\n",
    "<li> Số lượng followers của người dùng </li>\n",
    "<li> Số lượng following của người dùng </li>    \n",
    "<li> Số lượng lượt like tracks của người dùng </li>    \n",
    "<li> Số lượng Tracks của người dùng </li>        \n",
    "<li> Số lượng Playlists của người dùng </li>       \n",
    "</ol>\n"
   ]
  },
  {
   "cell_type": "code",
   "execution_count": 10,
   "id": "a1b24128",
   "metadata": {},
   "outputs": [],
   "source": [
    "def get_all_user_data(driver, set_link):\n",
    "    driver = webdriver.Chrome()    \n",
    "    #Get user id in SoundCloud/Discover by get meta tag in HEAD html\n",
    "    set_data_user = []\n",
    "    for i, link_user in enumerate(set_link):\n",
    "        one_data_user = []\n",
    "        driver.get(link_user)\n",
    "        wait(driver, 'infoStats__value sc-font-light')\n",
    "        html = driver.page_source\n",
    "        soup = BeautifulSoup(html, \"html.parser\")\n",
    "        \n",
    "        #Get USER INFO\n",
    "        id_user = soup.find(\"meta\", property=\"twitter:app:url:googleplay\")\n",
    "        name_user = soup.find(\"meta\", property=\"og:title\")\n",
    "        url_user = soup.find(\"meta\", property=\"og:url\")\n",
    "        info_start = soup.find_all(\"div\", {\"class\":\"infoStats__value sc-font-light\"})\n",
    "        \n",
    "        likeTrack_count = soup.find_all(\"span\", {\"class\":\"sidebarHeader__actualTitle sc-text-h3\"})\n",
    "        playlist_count = count_playlist_in_one_person(driver, link_user)\n",
    "        # more_info = soup.find(\"h3\", {\"class\": \"profileHeaderInfo__additional g-type-shrinkwrap-block theme-dark g-type-shrinkwrap-large-secondary sc-mt-1x\"}).getText().Strip()\n",
    "\n",
    "        #Add to one_data_user set\n",
    "        one_data_user.append(id_user[\"content\"].strip(\"soundcloud://users:\"))\n",
    "        one_data_user.append(name_user[\"content\"])\n",
    "        one_data_user.append(url_user[\"content\"])\n",
    "        one_data_user.append(playlist_count)\n",
    "        # one_data_user.append(more_info)\n",
    "        one_data_user.append(info_start[0].getText())   #followers\n",
    "        one_data_user.append(info_start[1].getText())   #following\n",
    "        one_data_user.append(info_start[2].getText())   #Track count\n",
    "        one_data_user.append(likeTrack_count[1].getText().strip(' likes'))\n",
    "        #Add one data user to set data \n",
    "        set_data_user.append(one_data_user)\n",
    "        \n",
    "        printProgressBar(i, len(set_link), \"'%'\")\n",
    "        \n",
    "    driver.close()\n",
    "    return set_data_user"
   ]
  },
  {
   "cell_type": "markdown",
   "id": "ab2e0efb",
   "metadata": {},
   "source": [
    "### Tập thông tin của người dùng trong set_data_user\n",
    "<p>Kiểm tra xem có đúng số lượng giống như tập <b>set_link</b></p>"
   ]
  },
  {
   "cell_type": "code",
   "execution_count": 11,
   "id": "7aa3042d",
   "metadata": {},
   "outputs": [
    {
     "name": "stdout",
     "output_type": "stream",
     "text": [
      "[========= ] 99%  '%'"
     ]
    },
    {
     "data": {
      "text/plain": [
       "1001"
      ]
     },
     "execution_count": 11,
     "metadata": {},
     "output_type": "execute_result"
    }
   ],
   "source": [
    "set_data_user = get_all_user_data(driver, set_link)\n",
    "len(set_data_user)"
   ]
  },
  {
   "cell_type": "markdown",
   "id": "a451f4c1",
   "metadata": {},
   "source": [
    "### Sau đó viết tập dữ liệu người dùng ra file userHTML.csv"
   ]
  },
  {
   "cell_type": "code",
   "execution_count": 12,
   "id": "122542bd",
   "metadata": {},
   "outputs": [],
   "source": [
    "#write set data user to file <'user.csv'>\n",
    "df = pd.DataFrame(set_data_user,columns=['User ID', \n",
    "                                         'User Name', \n",
    "                                         'User Link', \n",
    "                                         'Playlist Count', \n",
    "                                         'Followers', \n",
    "                                         'Following', \n",
    "                                         'Track Count', \n",
    "                                         'Like Tracks'])\n",
    "df.to_csv('userHTML.csv', index=False, sep='\\t', encoding='utf-8')"
   ]
  },
  {
   "cell_type": "markdown",
   "id": "bb444036",
   "metadata": {},
   "source": [
    "## 2. Thông tin từ track\n",
    "<p>Lấy những dữ liệu cần thiết về bằng sử dụng modules của BeautifulSoup</p>"
   ]
  },
  {
   "cell_type": "markdown",
   "id": "81037ae4",
   "metadata": {},
   "source": [
    "<p>Ban đầu:   khởi tạo tập để lưu trữ thông tin tracks <b>set_track </b></p>"
   ]
  },
  {
   "cell_type": "code",
   "execution_count": 13,
   "id": "68e9d61d",
   "metadata": {},
   "outputs": [],
   "source": [
    "set_tracks = []"
   ]
  },
  {
   "cell_type": "markdown",
   "id": "8b5ab293",
   "metadata": {},
   "source": [
    "### Khởi tạo hàm getTracks()\n",
    "<p>Thông tin lấy được từ trang web <b><i>tracks</i></b> của người dùng </p>\n",
    "<ol>\n",
    "<li> ID của người dùng </li>\n",
    "<li> ID của tracks </li>\n",
    "<li> Tên của tracks </li>\n",
    "<li> Thời gian tracks được ban hành </li>\n",
    "<li> Số lượng lượt nghe của track </li>    \n",
    "<li> Số lượng lượt like của track </li>    \n",
    "<li> Số lượng lượt repost của track </li>        \n",
    "</ol>"
   ]
  },
  {
   "cell_type": "code",
   "execution_count": 14,
   "id": "5426b1b3",
   "metadata": {},
   "outputs": [],
   "source": [
    "def getTracks(set_user):\n",
    "    driver = webdriver.Chrome()\n",
    "    set_tracks = []\n",
    "    for i, item in enumerate(set_user):\n",
    "        temp = item + \"/tracks\"\n",
    "        driver.get(temp)\n",
    "\n",
    "        wait(driver, selector_name='infoStats__value sc-font-light')\n",
    "\n",
    "        scroll(driver)\n",
    "\n",
    "        html = driver.page_source\n",
    "        soup = BeautifulSoup(html, \"html.parser\")\n",
    "        user_id = soup.find('meta', {'property': 'twitter:app:url:googleplay'})['content'].split(':')[-1]\n",
    "        link_tracks = soup.find_all('a', {'class': 'sc-link-primary soundTitle__title sc-link-dark sc-text-h4'})\n",
    "        link_tracks = link_tracks[:-3]\n",
    "        info_start = soup.find_all(\"div\", {\"class\": \"infoStats__value sc-font-light\"})\n",
    "        track_count = info_start[2].getText()\n",
    "        if track_count != '0':\n",
    "            for link in link_tracks:\n",
    "                string_temp = 'https://soundcloud.com'\n",
    "                string_temp = string_temp + link['href']\n",
    "                driver.get(string_temp)\n",
    "                wait(driver, selector_name='sc-ministats-item')\n",
    "                soup = BeautifulSoup(driver.page_source, \"html.parser\")\n",
    "                id_track = soup.find('meta', {'property': 'twitter:app:url:googleplay'})['content'].split(':')[-1]\n",
    "                name_track = soup.find('h1', {'class': 'soundTitle__title sc-font g-type-shrinkwrap-inline g-type-shrinkwrap-large-primary theme-dark'}).getText().strip()\n",
    "                time_release_track = soup.find('time', {'class': 'relativeTime'})['title']\n",
    "                info_track = soup.find_all('span', {'aria-hidden': 'true'})\n",
    "                plays = info_track[1].getText()\n",
    "                likes = info_track[2].getText()\n",
    "                reposts = info_track[3].getText()\n",
    "\n",
    "                tup = [user_id, id_track, name_track, time_release_track, plays, likes, reposts]\n",
    "                set_tracks.append(tup)\n",
    "        else:\n",
    "            set_tracks.append([user_id, \"None\", \"None\", \"None\", \"None\", \"None\", \"None\"])\n",
    "        \n",
    "        printProgressBar(i, len(set_user), \"'%'\")\n",
    "    driver.close()\n",
    "    return set_tracks"
   ]
  },
  {
   "cell_type": "markdown",
   "id": "39789d06",
   "metadata": {},
   "source": [
    "### Tập thông tin của track trong set_tracks\n",
    "<p> Kiểm tra <b>số lượng tracks</b> lấy được</p>"
   ]
  },
  {
   "cell_type": "code",
   "execution_count": 15,
   "id": "c84e17ff",
   "metadata": {},
   "outputs": [
    {
     "name": "stdout",
     "output_type": "stream",
     "text": [
      "[========= ] 94%  '%'"
     ]
    },
    {
     "data": {
      "text/plain": [
       "76"
      ]
     },
     "execution_count": 15,
     "metadata": {},
     "output_type": "execute_result"
    }
   ],
   "source": [
    "set_tracks = getTracks(set_link)\n",
    "len(set_tracks)"
   ]
  },
  {
   "cell_type": "markdown",
   "id": "48a93d8e",
   "metadata": {},
   "source": [
    "### Sau đó viết tập dữ liệu tracks ra file tracksHTML.csv"
   ]
  },
  {
   "cell_type": "code",
   "execution_count": 16,
   "id": "035c64c6",
   "metadata": {},
   "outputs": [],
   "source": [
    "df = pd.DataFrame(set_tracks, columns=['User ID',\n",
    "                                      'Tracks ID',\n",
    "                                      'Tracks Name',\n",
    "                                      'Time_Release_Track',\n",
    "                                      'Plays',\n",
    "                                      'Likes',\n",
    "                                      'Repost'])\n",
    "df.to_csv('tracksHTML.csv', index=False, sep='\\t', encoding='utf-8')"
   ]
  },
  {
   "cell_type": "markdown",
   "id": "633dc3ad",
   "metadata": {},
   "source": [
    "## 3. Thông tin từ Playlist\n",
    "<p>Lấy những dữ liệu cần thiết về bằng sử dụng modules của BeautifulSoup</p>"
   ]
  },
  {
   "cell_type": "markdown",
   "id": "19049f99",
   "metadata": {},
   "source": [
    "<p>Ban đầu:   khởi tạo tập để lưu trữ thông tin <b>các playlist</b> của người dùng <b>set_playlists </b></p>"
   ]
  },
  {
   "cell_type": "code",
   "execution_count": 18,
   "id": "3cf25315",
   "metadata": {},
   "outputs": [],
   "source": [
    "set_playlists = []"
   ]
  },
  {
   "cell_type": "markdown",
   "id": "f425f851",
   "metadata": {},
   "source": [
    "<h3>Thông tin lấy được từ trang web <b><i>playlist và thông tin các tracks trong playlist</i></b> của người dùng </h3>\n",
    "<ol>\n",
    "<li> ID của người dùng </li>\n",
    "<li> Tên của người dùng </li>\n",
    "<li> Tên của Playlist </li>\n",
    "<li> Số lượng tracks có trong playlist </li>\n",
    "<li> Thời gian khởi tạo của playlist </li>    \n",
    "<li> Số lượng lượt like của playlist </li>    \n",
    "<li> Số lượng lượt repost của track </li>    \n",
    "<li> Danh sách các tracks có trong play list được lưu dưới dạng: <b>ID_track_01, ID_track_02,... </b> </li>        \n",
    "</ol>"
   ]
  },
  {
   "cell_type": "markdown",
   "id": "53aa2748",
   "metadata": {},
   "source": [
    "### Khởi tạo hàm getTracksFromPlaylists(playlist_url, optional)\n",
    "<h4> Trong đó có 2 tham số </h4><ol>\n",
    "    <li><b>playlist_url</b> bao gồm các đường link đẫn đến trang của playlist đó</li>\n",
    "    <li><b>optional</b> <ol>\n",
    "        <li>Nếu optional == 0 thì chỉ lấy <b>tên của các track</b></li> \n",
    "        <li>Nếu optional == 1 thì driver truy cập vào từng track để lấy <b>id track</b></li>\n",
    "</ol>            \n",
    "</ol>    \n",
    "<h4>Kết quả trả về là các dữ liệu cần trong tập playlists</h4>"
   ]
  },
  {
   "cell_type": "code",
   "execution_count": 55,
   "id": "86e3a3d2",
   "metadata": {},
   "outputs": [],
   "source": [
    "def getTracksFromPlaylists(playlist_url, optional):\n",
    "    driver = webdriver.Chrome()\n",
    "    driver.get(playlist_url)\n",
    "    wait(driver, selector_name='trackItem__trackTitle')\n",
    "    scroll(driver)\n",
    "    html = driver.page_source\n",
    "    soup = BeautifulSoup(html, \"html.parser\")\n",
    "\n",
    "    user_name = soup.find(\"a\", {\"class\": \"userBadge__usernameLink\"}).getText().strip()\n",
    "    playlist_title = soup.find(\"h1\", {\"class\": \"soundTitle__title\"}).getText().strip()\n",
    "    num_of_track = soup.find(\"div\", {\"class\": \"genericTrackCount__title\"}).getText()\n",
    "    create_date = soup.find(\"time\", {\"class\": \"relativeTime\"})[\"title\"]\n",
    "    datas = soup.find_all(\"span\", {\"aria-hidden\": \"true\"})\n",
    "\n",
    "    likes = datas[1].getText()\n",
    "    reports = datas[2].getText()\n",
    "\n",
    "    track_list = []\n",
    "    track_str = []\n",
    "\n",
    "    if optional == 0:\n",
    "        track_items = soup.find_all(\"a\", {\"class\": \"trackItem__trackTitle sc-link-dark sc-link-primary sc-font-light\"})\n",
    "        for track_item in track_items:\n",
    "            track_name = 'https://soundcloud.com' + track_item['href']\n",
    "            track_list.append(track_name.strip().replace(\"\\n\", \" \"))\n",
    "    elif optional == 1:\n",
    "        track_items = soup.find_all(\"a\", {\"class\": \"trackItem__trackTitle\"})\n",
    "        track_urls = []\n",
    "\n",
    "        for track_item in track_items:\n",
    "            track_urls.append('https://soundcloud.com' + track_item['href'])\n",
    "\n",
    "        for url in track_urls:\n",
    "            driver.get(url)\n",
    "            wait(driver, selector_name='soundTitle__usernameTitleContainer')\n",
    "            html = driver.page_source\n",
    "            soup = BeautifulSoup(html, \"html.parser\")\n",
    "\n",
    "            meta = soup.find(\"meta\", property=\"twitter:app:url:iphone\")\n",
    "            track_list.append(meta[\"content\"].split(':')[-1])\n",
    "\n",
    "    track_str = ','.join(track_list)\n",
    "    if track_str == '':\n",
    "        track_str = 'None'\n",
    "    \n",
    "    driver.close()\n",
    "    return [user_name, playlist_title, num_of_track, create_date, likes, reports, track_str]"
   ]
  },
  {
   "cell_type": "markdown",
   "id": "e842f1f2",
   "metadata": {},
   "source": [
    "### Khởi tạo hàm getPlaylistURLs()\n",
    "<p>Từ <b>user_playlist_url</b> ở đây tức là đường link đến các playlists của người dùng</p> \n",
    "    <h5>Kết quả trả về <b>tập các đường link</b> đến toàn bộ playlist của người dùng đó </h5> "
   ]
  },
  {
   "cell_type": "code",
   "execution_count": 56,
   "id": "394e9bd0",
   "metadata": {},
   "outputs": [],
   "source": [
    "def getPlaylistURLs(user_playlist_url):\n",
    "    driver = webdriver.Chrome()\n",
    "    driver.get(user_playlist_url)\n",
    "    scroll(driver)\n",
    "    html = driver.page_source\n",
    "    soup = BeautifulSoup(html, \"html.parser\")\n",
    "\n",
    "    contents = soup.find_all(\"a\", {\"class\": \"sound__coverArt\"})\n",
    "    urls = []\n",
    "\n",
    "    for content in contents:\n",
    "        urls.append('https://soundcloud.com' + content['href'])\n",
    "    \n",
    "    driver.close()\n",
    "    return urls"
   ]
  },
  {
   "cell_type": "markdown",
   "id": "ea529f0b",
   "metadata": {},
   "source": [
    "### Khởi tạo hàm getPlaylists()\n",
    "<h4> Trong đó có bao gồm 2 hàm trên </h4><ol>\n",
    "    <li><b>getPlaylistURLs</b>: để lấy được các đường link của playlist</li>\n",
    "    <li><b>getTracksFromPlaylists</b>: để lấy được thông tin các track có trong playlist <ol>\n",
    "        <li>Nếu optional == 0 thì chỉ lấy <b>tên của các track</b></li> \n",
    "        <li>Nếu optional == 1 thì driver truy cập vào từng track để lấy <b>id track</b></li>\n",
    "</ol>            \n",
    "</ol>    \n",
    "<h4>Kết quả trả về là các dữ liệu cần trong tập playlists_lst</h4>"
   ]
  },
  {
   "cell_type": "code",
   "execution_count": 60,
   "id": "67cde7f8",
   "metadata": {},
   "outputs": [],
   "source": [
    "def getPlaylists(user_playlist_urls, optional):\n",
    "    playlist_lst = []\n",
    "    for i, user_url in enumerate(user_playlist_urls):\n",
    "        driver = webdriver.Chrome()\n",
    "        driver.get(user_url)\n",
    "        html = driver.page_source\n",
    "        soup = BeautifulSoup(html, \"html.parser\")\n",
    "        user_id = soup.find('meta', {'property': 'twitter:app:url:googleplay'})['content'].split(':')[-1]\n",
    "        driver.close()\n",
    "        playlist_urls = getPlaylistURLs(user_url + '/sets')\n",
    "        \n",
    "        for j, playlist_url in enumerate(playlist_urls):\n",
    "            playlist_lst.append([user_id] + getTracksFromPlaylists(playlist_url, optional))\n",
    "            printProgressBar(j, len(playlist_urls), '')\n",
    "        \n",
    "        printProgressBar(i, len(user_playlist_urls), \"'%'\")\n",
    "    return playlist_lst"
   ]
  },
  {
   "cell_type": "markdown",
   "id": "3f3e025e",
   "metadata": {},
   "source": [
    "### Tập thông tin của playlists trong set_playlists\n",
    "<p> Kiểm tra <b>số lượng playlist</b> lấy được</p>"
   ]
  },
  {
   "cell_type": "code",
   "execution_count": 61,
   "id": "5d0bacf7",
   "metadata": {},
   "outputs": [
    {
     "name": "stdout",
     "output_type": "stream",
     "text": [
      "[========= ] 94%  '%'"
     ]
    },
    {
     "data": {
      "text/plain": [
       "442"
      ]
     },
     "execution_count": 61,
     "metadata": {},
     "output_type": "execute_result"
    }
   ],
   "source": [
    "set_playlists = getPlaylists(set_link, optional=0)\n",
    "len(set_playlists)"
   ]
  },
  {
   "cell_type": "markdown",
   "id": "de67f9ae",
   "metadata": {},
   "source": [
    "### Sau đó viết tập dữ liệu playlist ra file tracksHTML.csv"
   ]
  },
  {
   "cell_type": "code",
   "execution_count": 63,
   "id": "f3e1b30c",
   "metadata": {},
   "outputs": [],
   "source": [
    "df = pd.DataFrame(set_playlists, columns=['User ID',\n",
    "                                          'User name',\n",
    "                                          'Playlist name',\n",
    "                                          'Track count',\n",
    "                                          'Create at',\n",
    "                                          'Likes count',\n",
    "                                          'Reposts count',\n",
    "                                          'Track list'\n",
    "                                         ])\n",
    "df.to_csv('playlistHTML.csv', index=False, sep='\\t', encoding='utf-8')"
   ]
  },
  {
   "cell_type": "markdown",
   "id": "1b07fd48",
   "metadata": {},
   "source": [
    "# Đọc dữ liệu/ file *.csv để kiểm tra "
   ]
  },
  {
   "cell_type": "code",
   "execution_count": 12,
   "id": "165bdfff",
   "metadata": {},
   "outputs": [
    {
     "name": "stderr",
     "output_type": "stream",
     "text": [
      "C:\\Users\\tt\\AppData\\Local\\Temp/ipykernel_1660/878794915.py:1: ParserWarning: Falling back to the 'python' engine because the 'c' engine does not support regex separators (separators > 1 char and different from '\\s+' are interpreted as regex); you can avoid this warning by specifying engine='python'.\n",
      "  df = pd.read_csv (r'userHTML.csv', sep='delimiter', header=None)\n"
     ]
    },
    {
     "data": {
      "text/html": [
       "<div>\n",
       "<style scoped>\n",
       "    .dataframe tbody tr th:only-of-type {\n",
       "        vertical-align: middle;\n",
       "    }\n",
       "\n",
       "    .dataframe tbody tr th {\n",
       "        vertical-align: top;\n",
       "    }\n",
       "\n",
       "    .dataframe thead th {\n",
       "        text-align: right;\n",
       "    }\n",
       "</style>\n",
       "<table border=\"1\" class=\"dataframe\">\n",
       "  <thead>\n",
       "    <tr style=\"text-align: right;\">\n",
       "      <th></th>\n",
       "      <th>0</th>\n",
       "    </tr>\n",
       "  </thead>\n",
       "  <tbody>\n",
       "    <tr>\n",
       "      <th>0</th>\n",
       "      <td>User ID\\tUser Name\\tUser Link\\tPlaylist Count\\...</td>\n",
       "    </tr>\n",
       "    <tr>\n",
       "      <th>1</th>\n",
       "      <td>133467077\\tWestcoast Radio (EDM)\\thttps://soun...</td>\n",
       "    </tr>\n",
       "    <tr>\n",
       "      <th>2</th>\n",
       "      <td>214279944\\tIlyana Azman\\thttps://soundcloud.co...</td>\n",
       "    </tr>\n",
       "    <tr>\n",
       "      <th>3</th>\n",
       "      <td>79816260\\tAustin24heck\\thttps://soundcloud.com...</td>\n",
       "    </tr>\n",
       "    <tr>\n",
       "      <th>4</th>\n",
       "      <td>11164017\\tUlana\\thttps://soundcloud.com/itsula...</td>\n",
       "    </tr>\n",
       "  </tbody>\n",
       "</table>\n",
       "</div>"
      ],
      "text/plain": [
       "                                                   0\n",
       "0  User ID\\tUser Name\\tUser Link\\tPlaylist Count\\...\n",
       "1  133467077\\tWestcoast Radio (EDM)\\thttps://soun...\n",
       "2  214279944\\tIlyana Azman\\thttps://soundcloud.co...\n",
       "3  79816260\\tAustin24heck\\thttps://soundcloud.com...\n",
       "4  11164017\\tUlana\\thttps://soundcloud.com/itsula..."
      ]
     },
     "execution_count": 12,
     "metadata": {},
     "output_type": "execute_result"
    }
   ],
   "source": [
    "df = pd.read_csv (r'userHTML.csv', sep='delimiter', header=None)\n",
    "df.head()"
   ]
  },
  {
   "cell_type": "markdown",
   "id": "d1af3b03",
   "metadata": {},
   "source": [
    "### Tiền xử lí file CSV"
   ]
  },
  {
   "cell_type": "code",
   "execution_count": 14,
   "id": "66a96691",
   "metadata": {},
   "outputs": [],
   "source": [
    "set_user = [i.split('\\t')[2] for i in df[0]]"
   ]
  },
  {
   "cell_type": "markdown",
   "id": "182a1cda",
   "metadata": {},
   "source": [
    "### Xuất giá trị đầu sau khi chỉnh sửa"
   ]
  },
  {
   "cell_type": "code",
   "execution_count": 17,
   "id": "af684910",
   "metadata": {},
   "outputs": [
    {
     "data": {
      "text/plain": [
       "'https://soundcloud.com/austin24heck'"
      ]
     },
     "execution_count": 17,
     "metadata": {},
     "output_type": "execute_result"
    }
   ],
   "source": [
    "set_user = set_user[0]\n",
    "set_user"
   ]
  }
 ],
 "metadata": {
  "kernelspec": {
   "display_name": "Python 3 (ipykernel)",
   "language": "python",
   "name": "python3"
  },
  "language_info": {
   "codemirror_mode": {
    "name": "ipython",
    "version": 3
   },
   "file_extension": ".py",
   "mimetype": "text/x-python",
   "name": "python",
   "nbconvert_exporter": "python",
   "pygments_lexer": "ipython3",
   "version": "3.8.8"
  }
 },
 "nbformat": 4,
 "nbformat_minor": 5
}
