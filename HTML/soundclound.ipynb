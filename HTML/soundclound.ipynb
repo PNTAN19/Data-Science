{
 "cells": [
  {
   "cell_type": "markdown",
   "id": "33433fb7",
   "metadata": {},
   "source": [
    "# Lấy dữ liệu từ Soundcloud"
   ]
  },
  {
   "cell_type": "markdown",
   "id": "f9575915",
   "metadata": {},
   "source": [
    "## 1. Cài đặt thư viện và những hàm chung"
   ]
  },
  {
   "cell_type": "markdown",
   "id": "82b83dc0",
   "metadata": {},
   "source": [
    "### 1.1. Cài đặt các thư viện cần cho toàn bài"
   ]
  },
  {
   "cell_type": "markdown",
   "id": "442f37d9",
   "metadata": {},
   "source": [
    "- json: để lưu dữ liệu từ API\n",
    "- requests: dùng để gửi request kéo dữ liệu về\n",
    "- selenium: dùng để chạy các file JS của một trang web\n",
    "- bs4: để lấy các tag trong HTML của một trang web\n",
    "- time: dùng để cho chương trình ngủ 1 khoảng thời gian trước khi tiếp tục\n",
    "- pandas: dùng để ghi file csv"
   ]
  },
  {
   "cell_type": "code",
   "execution_count": 1,
   "id": "1233938f",
   "metadata": {},
   "outputs": [],
   "source": [
    "import json\n",
    "import requests\n",
    "from selenium import webdriver\n",
    "from bs4 import BeautifulSoup\n",
    "import time\n",
    "from selenium.webdriver.support.ui import WebDriverWait\n",
    "from selenium.webdriver.support import expected_conditions as EC\n",
    "from selenium.webdriver.common.by import By\n",
    "from selenium.common.exceptions import TimeoutException\n",
    "import pandas as pd\n",
    "from selenium.webdriver.common.by import By"
   ]
  },
  {
   "cell_type": "markdown",
   "id": "1f733ceb",
   "metadata": {},
   "source": [
    "### 1.2. Các hàm chung"
   ]
  },
  {
   "cell_type": "markdown",
   "id": "c3fc5be5",
   "metadata": {},
   "source": [
    "Hàm wait dùng để dừng lại cho tới khi lấy được thẻ tag cần lấy.\n",
    "- driver: thường là chrome\n",
    "- selector_name: ví dụ như là tên class hoặc tên của id"
   ]
  },
  {
   "cell_type": "code",
   "execution_count": 2,
   "id": "32e4ddd1",
   "metadata": {},
   "outputs": [],
   "source": [
    "# wait\n",
    "def wait(driver, selector_name):\n",
    "    while (True):\n",
    "        try:\n",
    "            myElem = WebDriverWait(driver, 30).until(EC.presence_of_element_located((By.CLASS_NAME, selector_name)))\n",
    "            if myElem is not None:\n",
    "                break\n",
    "        except TimeoutException:\n",
    "            break"
   ]
  },
  {
   "cell_type": "markdown",
   "id": "8b46edbd",
   "metadata": {},
   "source": [
    "Hàm scroll dùng để load hết page bằng cách kéo page xuống cuối cùng.\n",
    "- driver: thường là chrome"
   ]
  },
  {
   "cell_type": "code",
   "execution_count": 3,
   "id": "d6fc9b70",
   "metadata": {},
   "outputs": [],
   "source": [
    "# scroll\n",
    "def scroll(driver):\n",
    "    # Get scroll height\n",
    "    last_height = driver.execute_script(\"return document.body.scrollHeight\")\n",
    "\n",
    "    while True:\n",
    "        # Scroll down to bottom\n",
    "        driver.execute_script(\"window.scrollTo(0, document.body.scrollHeight);\")\n",
    "\n",
    "        # Wait to load page\n",
    "        time.sleep(2)\n",
    "\n",
    "        # Calculate new scroll height and compare with last scroll height\n",
    "        new_height = driver.execute_script(\"return document.body.scrollHeight\")\n",
    "        if new_height == last_height:\n",
    "            break\n",
    "        last_height = new_height"
   ]
  },
  {
   "cell_type": "markdown",
   "id": "313f96c6",
   "metadata": {},
   "source": [
    "Hàm printProgessBar dùng để xuất ra màn hình thanh load, để người dùng biết mình chạy được bao nhiêu rồi."
   ]
  },
  {
   "cell_type": "code",
   "execution_count": 4,
   "id": "10a9b1c2",
   "metadata": {},
   "outputs": [],
   "source": [
    "import sys\n",
    "\n",
    "def printProgressBar(i,max,postText):\n",
    "    n_bar =10 #size of progress bar\n",
    "    j= i/max\n",
    "    sys.stdout.write('\\r')\n",
    "    sys.stdout.write(f\"[{'=' * int(n_bar * j):{n_bar}s}] {int(100 * j)}%  {postText}\")\n",
    "    sys.stdout.flush()"
   ]
  },
  {
   "cell_type": "markdown",
   "id": "ac0a04da",
   "metadata": {},
   "source": [
    "## 2. Phần lấy dữ liệu"
   ]
  },
  {
   "cell_type": "markdown",
   "id": "cb894fcb",
   "metadata": {},
   "source": [
    "### 2.1. Lấy danh sách các user"
   ]
  },
  {
   "cell_type": "markdown",
   "id": "7ed32b0a",
   "metadata": {},
   "source": [
    "Link bên dưới dùng để lấy được client_id"
   ]
  },
  {
   "cell_type": "code",
   "execution_count": 5,
   "id": "18aad66a",
   "metadata": {},
   "outputs": [],
   "source": [
    "my_url = \"https://soundcloud.com/discover\""
   ]
  },
  {
   "cell_type": "code",
   "execution_count": 6,
   "id": "ef03841c",
   "metadata": {},
   "outputs": [],
   "source": [
    "driver = webdriver.Chrome()\n",
    "driver.get(my_url)\n",
    "html = driver.page_source\n",
    "soup = BeautifulSoup(html, \"html.parser\")\n",
    "client_id = soup.find(\"div\", {\"id\": \"g_id_intermediate_iframe\"}).get(\"data-src\")\n",
    "client_id = ((client_id.split('?')[1]).split('&')[0]).split('=')[1]"
   ]
  },
  {
   "cell_type": "code",
   "execution_count": 7,
   "id": "13932a2c",
   "metadata": {},
   "outputs": [
    {
     "data": {
      "text/plain": [
       "'gu6nGJ3NnV3h5RCD8Aj6XpDVaPsjbsiY'"
      ]
     },
     "execution_count": 7,
     "metadata": {},
     "output_type": "execute_result"
    }
   ],
   "source": [
    "client_id"
   ]
  },
  {
   "cell_type": "markdown",
   "id": "66052f77",
   "metadata": {},
   "source": [
    "set_link là biến dùng để lưu lại các link của user"
   ]
  },
  {
   "cell_type": "code",
   "execution_count": 8,
   "id": "b03a5714",
   "metadata": {},
   "outputs": [],
   "source": [
    "set_link = []"
   ]
  },
  {
   "cell_type": "markdown",
   "id": "6eae82d0",
   "metadata": {},
   "source": [
    "Đoạn code dưới đây dùng để lấy các user được đề cập đến trong trang chủ của Soundcloud và sau đó vào từng link để lấy danh sách following của user này. Với cách này ta có thể lấy được rất nhiều user, nhưng trong phần này thì sẽ giới hạn số users được lấy là hơn 1000 người."
   ]
  },
  {
   "cell_type": "code",
   "execution_count": 9,
   "id": "deb472b3",
   "metadata": {},
   "outputs": [],
   "source": [
    "driver = webdriver.Chrome()\n",
    "driver.get(my_url)\n",
    "html = driver.page_source\n",
    "soup = BeautifulSoup(html, \"html.parser\")\n",
    "link = soup.find_all(\"a\", {\n",
    "    \"class\": \"sc-link-secondary sc-link-light playableTile__usernameHeading audibleTile__usernameHeading sc-truncate sc-text-h4\"})\n",
    "\n",
    "for item in link:\n",
    "    user_url = \"https://soundcloud.com\" + item.get(\"href\")\n",
    "    if user_url not in set_link:\n",
    "        set_link.append(user_url)\n",
    "\n",
    "for user_url in set_link:\n",
    "    driver.get(user_url)\n",
    "    wait(driver, 'profileHeaderInfo__userName')\n",
    "    \n",
    "    html = driver.page_source\n",
    "    soup = BeautifulSoup(html, \"html.parser\")\n",
    "    user_name = soup.find(\"h2\", {\"class\": \"profileHeaderInfo__userName\"})\n",
    "\n",
    "    # Get followers\n",
    "    follower_url = user_url + \"/following\"\n",
    "    driver.get(follower_url)\n",
    "\n",
    "    #Wait\n",
    "    #scroll(driver)\n",
    "\n",
    "    html = driver.page_source\n",
    "    soup = BeautifulSoup(html, \"html.parser\")\n",
    "    followers = soup.find_all(\"a\", {\"class\": \"userBadgeListItem__heading\"})\n",
    "    for follower in followers:\n",
    "        if follower not in set_link:\n",
    "            set_link.append(\"https://soundcloud.com\" + follower.get(\"href\"))\n",
    "    if len(set_link) > 1000:\n",
    "            break"
   ]
  },
  {
   "cell_type": "code",
   "execution_count": 10,
   "id": "48f88e50",
   "metadata": {},
   "outputs": [
    {
     "data": {
      "text/plain": [
       "1011"
      ]
     },
     "execution_count": 10,
     "metadata": {},
     "output_type": "execute_result"
    }
   ],
   "source": [
    "len(set_link)"
   ]
  },
  {
   "cell_type": "markdown",
   "id": "d9ef59e3",
   "metadata": {},
   "source": [
    "Hàm get_all_user_data ở dưới này dùng để lấy tất cả các user ID của danh sách link của các user. Ở đây, một câu hỏi đặt ra là tại sao không lấy lồng vào đoạn code phía trên mà lại tách ra. Câu trả lời đơn giản là vì đoạn code trên kia lấy các link của users được liệt kê ra trong một trang, chứ không vào từng trang nên không thể lấy từng user được. Đoạn code dưới đây có thể là đoạn code chạy lâu nhất chương trình. Qua phần API thì việc lấy dữ liệu cực kì nhanh, và đặc biệt là nhanh hơn parse bằng HTML rất rất nhiều"
   ]
  },
  {
   "cell_type": "code",
   "execution_count": 11,
   "id": "ccae732e",
   "metadata": {},
   "outputs": [],
   "source": [
    "def get_all_user_data(set_link):\n",
    "    #Get user id in SoundCloud/Discover by get meta tag in HEAD html\n",
    "    set_data_user = []\n",
    "    \n",
    "    for i, link_user in enumerate(set_link):\n",
    "        driver = webdriver.Chrome()        \n",
    "        driver.get(link_user)\n",
    "        html = driver.page_source\n",
    "        soup = BeautifulSoup(html, \"html.parser\")\n",
    "        #Get user id & user name & user url\n",
    "        id_user = soup.find(\"meta\", property=\"twitter:app:url:googleplay\")\n",
    "        set_data_user.append(id_user[\"content\"].strip(\"soundcloud://users:\"))\n",
    "        printProgressBar(i, len(set_link), \"%\")\n",
    "        driver.close()\n",
    "    \n",
    "    return set_data_user"
   ]
  },
  {
   "cell_type": "code",
   "execution_count": 12,
   "id": "1043c497",
   "metadata": {},
   "outputs": [
    {
     "name": "stdout",
     "output_type": "stream",
     "text": [
      "[========= ] 99%  %"
     ]
    }
   ],
   "source": [
    "set_user = get_all_user_data(set_link)"
   ]
  },
  {
   "cell_type": "code",
   "execution_count": 13,
   "id": "d5d61b6a",
   "metadata": {},
   "outputs": [
    {
     "data": {
      "text/plain": [
       "1011"
      ]
     },
     "execution_count": 13,
     "metadata": {},
     "output_type": "execute_result"
    }
   ],
   "source": [
    "len(set_user)"
   ]
  },
  {
   "cell_type": "markdown",
   "id": "e2726fa7",
   "metadata": {},
   "source": [
    "### 2.2. Lấy thông tin user qua API"
   ]
  },
  {
   "cell_type": "markdown",
   "id": "4dafeac4",
   "metadata": {},
   "source": [
    "#### 2.2.1. Lấy thông tin"
   ]
  },
  {
   "cell_type": "markdown",
   "id": "aacb7a82",
   "metadata": {},
   "source": [
    "Truyền vào danh sách các user ids và client id, hàm get_user_by_API sẽ lấy tất cả các thông tin của một user thông qua API bên dưới. Hàm này sẽ trả về danh sách thông tin của các users, bao gồm id, username, permalink_url, playlist_count, track_count, city, followers_count, followings_count, likes_count, avatar_url, created_at, kind."
   ]
  },
  {
   "cell_type": "code",
   "execution_count": 14,
   "id": "58ab7794",
   "metadata": {},
   "outputs": [],
   "source": [
    "def get_user_by_API(set_user, client_id):\n",
    "    set_data_user = []\n",
    "    # Select first column of the dataframe as a series\n",
    "    \n",
    "    for i, item in enumerate(set_user):\n",
    "        one_data_user = []\n",
    "        user_id = item\n",
    "        api_url = f'https://api-v2.soundcloud.com/users/{user_id}?client_id={client_id}'\n",
    "        # get request\n",
    "        r = requests.get(api_url)\n",
    "        # check whether it get the url\n",
    "        # or if it got request, does it have a string \"incomplete_results\":true in the response it recieved?\n",
    "        while r.status_code != requests.codes.ok or '\"incomplete_results\":true' in r:\n",
    "            time.sleep(1)\n",
    "            r = requests.get(api_url)\n",
    "        #JSON processing\n",
    "        user = json.loads(r.text)\n",
    "        #Get one data user\n",
    "        one_data_user.append(user['id'])\n",
    "        one_data_user.append(user['username'])\n",
    "        one_data_user.append(user['permalink_url'])\n",
    "        one_data_user.append(user['playlist_count'])\n",
    "        one_data_user.append(user['track_count'])\n",
    "        one_data_user.append(user['city'])\n",
    "        one_data_user.append(user['followers_count'])\n",
    "        one_data_user.append(user['followings_count'])\n",
    "        one_data_user.append(user['likes_count'])\n",
    "        one_data_user.append(user['avatar_url'])\n",
    "        one_data_user.append(user['created_at'])\n",
    "        one_data_user.append(user['kind'])\n",
    "        \n",
    "        set_data_user.append(one_data_user)\n",
    "        printProgressBar(i, len(set_user), \"%\")\n",
    "        \n",
    "    return set_data_user"
   ]
  },
  {
   "cell_type": "markdown",
   "id": "7834653b",
   "metadata": {},
   "source": [
    "Biến set_data_user sẽ lưu lại danh sách này để chuẩn bị cho việc lưu vào file csv"
   ]
  },
  {
   "cell_type": "code",
   "execution_count": 15,
   "id": "e5693233",
   "metadata": {},
   "outputs": [
    {
     "name": "stdout",
     "output_type": "stream",
     "text": [
      "[========= ] 99%  %"
     ]
    }
   ],
   "source": [
    "set_data_user = get_user_by_API(set_user, client_id)"
   ]
  },
  {
   "cell_type": "markdown",
   "id": "b096d447",
   "metadata": {},
   "source": [
    "#### 2.2.2. Lưu thông tin của các users vào file csv"
   ]
  },
  {
   "cell_type": "code",
   "execution_count": 16,
   "id": "13773fd6",
   "metadata": {},
   "outputs": [],
   "source": [
    "f_out = pd.DataFrame(set_data_user, columns=['User ID',\n",
    "                                             'User Name',\n",
    "                                             'User URL',\n",
    "                                             'playlist_count',\n",
    "                                             'track_count',\n",
    "                                             'CITY',\n",
    "                                             'followers_count',\n",
    "                                             'followings_count',\n",
    "                                             'likes_count',\n",
    "                                             'avatar_url',\n",
    "                                             'created_at',\n",
    "                                             'kind'\n",
    "                                            ])\n",
    "f_out.to_csv('userAPI.csv', index=False, sep='\\t', encoding='utf-8')"
   ]
  },
  {
   "cell_type": "markdown",
   "id": "a3b67dee",
   "metadata": {},
   "source": [
    "### 2.3. Lấy thông tin track qua API"
   ]
  },
  {
   "cell_type": "markdown",
   "id": "7470cf0b",
   "metadata": {},
   "source": [
    "Hàm createNoneObj dùng để tạo một list danh sách gồm n chữ None, hàm này dùng trong việc nếu người dùng không có track nào thì sẽ trả về một list 'None'"
   ]
  },
  {
   "cell_type": "code",
   "execution_count": 17,
   "id": "cc1b15ed",
   "metadata": {},
   "outputs": [],
   "source": [
    "def createNoneObj(n):\n",
    "    return ['None' for i in range(n)]"
   ]
  },
  {
   "cell_type": "markdown",
   "id": "603147bf",
   "metadata": {},
   "source": [
    "#### 2.3.1. Lấy thông tin"
   ]
  },
  {
   "cell_type": "markdown",
   "id": "430fb8e7",
   "metadata": {},
   "source": [
    "Hàm getTracksAPI sẽ lấy tất cả thông tin của các tracks của từng user. Tham số cần truyền vào là danh sách user ID, client id, và limit (được mặc định là 100, biến này dùng để xác định số bài hát lấy được của). Hàm sẽ trả về user_id, artwork_url, created_at, duration, genre, id, kind, last_modified, license, likes_count, permalink, permalink_url, public, reposts_count, sharing, tag_list, title, uri, display_date."
   ]
  },
  {
   "cell_type": "code",
   "execution_count": 18,
   "id": "b9a8db6f",
   "metadata": {},
   "outputs": [],
   "source": [
    "def getTracksAPI(set_user, client_id, limit=100):\n",
    "    tracks = []\n",
    "    temp1 = f'https://api-v2.soundcloud.com/users/'\n",
    "    temp2 = f'/tracks?client_id={client_id}&limit={limit}'\n",
    "\n",
    "    for i, user_id in enumerate(set_user):\n",
    "        api = temp1 + user_id + temp2\n",
    "        while True:\n",
    "            r = requests.get(api)\n",
    "            if r.status_code != 200:\n",
    "                time.sleep(1)\n",
    "            else:\n",
    "                break\n",
    "        y = json.loads(r.text)\n",
    "        if len(y['collection']) == 0:\n",
    "            tracks.append([user_id] + createNoneObj(18))\n",
    "        else:\n",
    "            for track in y['collection']:\n",
    "                tracks.append([\n",
    "                    track['user_id'],\n",
    "                    track['artwork_url'],\n",
    "                    track['created_at'],\n",
    "                    track['duration'],\n",
    "                    track['genre'],\n",
    "                    track['id'],\n",
    "                    track['kind'],\n",
    "                    track['last_modified'],\n",
    "                    track['license'],\n",
    "                    track['likes_count'],\n",
    "                    track['permalink'],\n",
    "                    track['permalink_url'],\n",
    "                    track['public'],\n",
    "                    track['reposts_count'],\n",
    "                    track['sharing'],\n",
    "                    track['tag_list'],\n",
    "                    track['title'],\n",
    "                    track['uri'],\n",
    "                    track['display_date'],\n",
    "                ])\n",
    "        printProgressBar(i, len(set_user), \"%\")\n",
    "        \n",
    "    return tracks"
   ]
  },
  {
   "cell_type": "markdown",
   "id": "67b3cfa9",
   "metadata": {},
   "source": [
    "Biến set_tracks sẽ lưu lại danh sách này để chuẩn bị cho việc lưu vào file csv"
   ]
  },
  {
   "cell_type": "code",
   "execution_count": 19,
   "id": "c38318f2",
   "metadata": {},
   "outputs": [
    {
     "name": "stdout",
     "output_type": "stream",
     "text": [
      "[========= ] 99%  %"
     ]
    }
   ],
   "source": [
    "set_tracks = getTracksAPI(set_user, client_id)"
   ]
  },
  {
   "cell_type": "markdown",
   "id": "3d4dfb22",
   "metadata": {},
   "source": [
    "#### 2.3.2. Lưu thông tin của các tracks vào file csv"
   ]
  },
  {
   "cell_type": "code",
   "execution_count": 20,
   "id": "73ac4ee4",
   "metadata": {},
   "outputs": [],
   "source": [
    "f_out = pd.DataFrame(set_tracks, columns=['user_id',\n",
    "                                             'artwork_url',\n",
    "                                             'created_at',\n",
    "                                             'duration',\n",
    "                                             'genre',\n",
    "                                             'id',\n",
    "                                             'kind',\n",
    "                                             'last_modified',\n",
    "                                             'license',\n",
    "                                             'likes_count',\n",
    "                                             'permalink',\n",
    "                                             'permalink_url',\n",
    "                                             'public',\n",
    "                                             'reposts_count',\n",
    "                                             'sharing',\n",
    "                                             'tag_list',\n",
    "                                             'title',\n",
    "                                             'uri',\n",
    "                                             'display_date'\n",
    "                                            ])\n",
    "f_out.to_csv('trackAPI.csv', index=False, sep='\\t', encoding='utf-8')"
   ]
  },
  {
   "cell_type": "markdown",
   "id": "b7e79c10",
   "metadata": {},
   "source": [
    "### 2.4. Lấy thông tin playlists của từng user qua API"
   ]
  },
  {
   "cell_type": "markdown",
   "id": "3a836e99",
   "metadata": {},
   "source": [
    "#### 2.4.1. Lấy thông tin playlists"
   ]
  },
  {
   "cell_type": "markdown",
   "id": "d6fedff8",
   "metadata": {},
   "source": [
    "Hàm getPlaylistsAPI sẽ lấy tất cả thông tin của các playlists của từng user. Tham số cần truyền vào là danh sách user ID, client id, và limit (được mặc định là 100, biến này dùng để xác định số bài hát lấy được của). Hàm sẽ trả về user_id, artwork_url, created_at, duration, embeddable_by, genre, id, kind, label_name, last_modified, license, likes_count, managed_by_feeds, permalink, permalink_url, public, reposts_count, sharing, tag_list, title, uri, is_album, published_at, display_date, allTrackIDs."
   ]
  },
  {
   "cell_type": "markdown",
   "id": "e10ca73a",
   "metadata": {},
   "source": [
    "Trong đó allTrackIDs sẽ được ghép lại từ các trackID thuộc playlist đó. Mọi thông tin này đều được API trả về, nên chỉ cần cắt ghép các track ID."
   ]
  },
  {
   "cell_type": "code",
   "execution_count": 21,
   "id": "3b59479c",
   "metadata": {},
   "outputs": [],
   "source": [
    "def getPlaylistsAPI(set_user, client_id, limit=100):\n",
    "    playlists = []\n",
    "    \n",
    "    for i, user_id in enumerate(set_user):\n",
    "        \n",
    "        url = f'https://api-v2.soundcloud.com/users/{user_id}/playlists?client_id={client_id}&limit={limit}'\n",
    "        r = requests.get(url)\n",
    "\n",
    "        while r.status_code != requests.codes.ok or '\"incomplete_results\":true' in r:\n",
    "            time.sleep(1)\n",
    "            r = requests.get(url)\n",
    "\n",
    "        y = json.loads(r.text)\n",
    "        if len(y['collection']) == 0:\n",
    "            playlists.append([user_id]+createNoneObj(24))\n",
    "        else:\n",
    "            for playlist in y['collection']:\n",
    "                trackIDs = []\n",
    "                for track in playlist['tracks']:\n",
    "                    trackIDs.append(str(track['id']))\n",
    "                allTrackIDs = ','.join(trackIDs)\n",
    "                playlists.append([playlist['user_id'],\n",
    "                                 playlist['artwork_url'],\n",
    "                                 playlist['created_at'],\n",
    "                                 playlist['duration'],\n",
    "                                 playlist['embeddable_by'],\n",
    "                                 playlist['genre'],\n",
    "                                 playlist['id'],\n",
    "                                 playlist['kind'],\n",
    "                                 playlist['label_name'],\n",
    "                                 playlist['last_modified'],\n",
    "                                 playlist['license'],\n",
    "                                 playlist['likes_count'],\n",
    "                                 playlist['managed_by_feeds'],\n",
    "                                 playlist['permalink'],\n",
    "                                 playlist['permalink_url'],\n",
    "                                 playlist['public'],\n",
    "                                 playlist['reposts_count'],\n",
    "                                 playlist['sharing'],\n",
    "                                 playlist['tag_list'],\n",
    "                                 playlist['title'],\n",
    "                                 playlist['uri'],\n",
    "                                 playlist['is_album'],\n",
    "                                 playlist['published_at'],\n",
    "                                 playlist['display_date'],\n",
    "                                 allTrackIDs])\n",
    "        printProgressBar(i, len(set_user), \"%\")\n",
    "\n",
    "    return playlists"
   ]
  },
  {
   "cell_type": "markdown",
   "id": "11aaf052",
   "metadata": {},
   "source": [
    "Biến get_playlist sẽ lưu lại danh sách này để chuẩn bị cho việc lưu vào file csv"
   ]
  },
  {
   "cell_type": "code",
   "execution_count": 22,
   "id": "302a3fb0",
   "metadata": {},
   "outputs": [
    {
     "name": "stdout",
     "output_type": "stream",
     "text": [
      "[========= ] 99%  %"
     ]
    }
   ],
   "source": [
    "get_playlist = getPlaylistsAPI(set_user, client_id)"
   ]
  },
  {
   "cell_type": "markdown",
   "id": "79979a2e",
   "metadata": {},
   "source": [
    "#### 2.4.2. Lưu thông tin của các playlists vào file csv"
   ]
  },
  {
   "cell_type": "code",
   "execution_count": 23,
   "id": "a3e4c75b",
   "metadata": {},
   "outputs": [],
   "source": [
    "f_out = pd.DataFrame(get_playlist, columns=['user_id',\n",
    "                                 'artwork_url',\n",
    "                                 'created_at',\n",
    "                                 'duration',\n",
    "                                 'embeddable_by',\n",
    "                                 'genre',\n",
    "                                 'id',\n",
    "                                 'kind',\n",
    "                                 'label_name',\n",
    "                                 'last_modified',\n",
    "                                 'license',\n",
    "                                 'likes_count',\n",
    "                                 'managed_by_feeds',\n",
    "                                 'permalink',\n",
    "                                 'permalink_url',\n",
    "                                 'public',\n",
    "                                 'reposts_count',\n",
    "                                 'sharing',\n",
    "                                 'tag_list',\n",
    "                                 'title',\n",
    "                                 'uri',\n",
    "                                 'is_album',\n",
    "                                 'published_at',\n",
    "                                 'display_date',\n",
    "                                 'allTrackIDs'])\n",
    "f_out.to_csv('playlistAPI.csv', index=False, sep='\\t', encoding='utf-8')"
   ]
  }
 ],
 "metadata": {
  "kernelspec": {
   "display_name": "Python 3 (ipykernel)",
   "language": "python",
   "name": "python3"
  },
  "language_info": {
   "codemirror_mode": {
    "name": "ipython",
    "version": 3
   },
   "file_extension": ".py",
   "mimetype": "text/x-python",
   "name": "python",
   "nbconvert_exporter": "python",
   "pygments_lexer": "ipython3",
   "version": "3.9.2"
  }
 },
 "nbformat": 4,
 "nbformat_minor": 5
}
